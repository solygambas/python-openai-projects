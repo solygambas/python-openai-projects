{
 "cells": [
  {
   "cell_type": "markdown",
   "metadata": {},
   "source": [
    "You can download the `requirements.txt` for this course from the workspace of this lab. `File --> Open...`"
   ]
  },
  {
   "cell_type": "markdown",
   "metadata": {},
   "source": [
    "# L2: Create Agents to Research and Write an Article\n",
    "\n",
    "In this lesson, you will be introduced to the foundational concepts of multi-agent systems and get an overview of the crewAI framework."
   ]
  },
  {
   "cell_type": "markdown",
   "metadata": {},
   "source": [
    "The libraries are already installed in the classroom. If you're running this notebook on your own machine, you can install the following:\n",
    "```Python\n",
    "!pip install crewai==0.28.8 crewai_tools==0.1.6 langchain_community==0.0.29\n",
    "```"
   ]
  },
  {
   "cell_type": "code",
   "execution_count": 1,
   "metadata": {
    "height": 64
   },
   "outputs": [],
   "source": [
    "# Warning control\n",
    "import warnings\n",
    "warnings.filterwarnings('ignore')"
   ]
  },
  {
   "cell_type": "markdown",
   "metadata": {},
   "source": [
    "- Import from the crewAI libray."
   ]
  },
  {
   "cell_type": "code",
   "execution_count": 2,
   "metadata": {
    "height": 30
   },
   "outputs": [],
   "source": [
    "from crewai import Agent, Task, Crew"
   ]
  },
  {
   "cell_type": "markdown",
   "metadata": {},
   "source": [
    "- As a LLM for your agents, you'll be using OpenAI's `gpt-3.5-turbo`.\n",
    "\n",
    "**Optional Note:** crewAI also allow other popular models to be used as a LLM for your Agents. You can see some of the examples at the [bottom of the notebook](#1)."
   ]
  },
  {
   "cell_type": "code",
   "execution_count": 3,
   "metadata": {
    "height": 98
   },
   "outputs": [],
   "source": [
    "import os\n",
    "from utils import get_openai_api_key\n",
    "\n",
    "openai_api_key = get_openai_api_key()\n",
    "os.environ[\"OPENAI_MODEL_NAME\"] = 'gpt-3.5-turbo'"
   ]
  },
  {
   "cell_type": "markdown",
   "metadata": {},
   "source": [
    "## Creating Agents\n",
    "\n",
    "- Define your Agents, and provide them a `role`, `goal` and `backstory`.\n",
    "- It has been seen that LLMs perform better when they are role playing."
   ]
  },
  {
   "cell_type": "markdown",
   "metadata": {},
   "source": [
    "### Agent: Planner\n",
    "\n",
    "**Note**: The benefit of using _multiple strings_ :\n",
    "```Python\n",
    "varname = \"line 1 of text\"\n",
    "          \"line 2 of text\"\n",
    "```\n",
    "\n",
    "versus the _triple quote docstring_:\n",
    "```Python\n",
    "varname = \"\"\"line 1 of text\n",
    "             line 2 of text\n",
    "          \"\"\"\n",
    "```\n",
    "is that it can avoid adding those whitespaces and newline characters, making it better formatted to be passed to the LLM."
   ]
  },
  {
   "cell_type": "code",
   "execution_count": 4,
   "metadata": {
    "height": 251
   },
   "outputs": [],
   "source": [
    "planner = Agent(\n",
    "    role=\"Content Planner\",\n",
    "    goal=\"Plan engaging and factually accurate content on {topic}\",\n",
    "    backstory=\"You're working on planning a blog article \"\n",
    "              \"about the topic: {topic}.\"\n",
    "              \"You collect information that helps the \"\n",
    "              \"audience learn something \"\n",
    "              \"and make informed decisions. \"\n",
    "              \"Your work is the basis for \"\n",
    "              \"the Content Writer to write an article on this topic.\",\n",
    "    allow_delegation=False,\n",
    "\tverbose=True\n",
    ")"
   ]
  },
  {
   "cell_type": "markdown",
   "metadata": {},
   "source": [
    "### Agent: Writer"
   ]
  },
  {
   "cell_type": "code",
   "execution_count": 5,
   "metadata": {
    "height": 387
   },
   "outputs": [],
   "source": [
    "writer = Agent(\n",
    "    role=\"Content Writer\",\n",
    "    goal=\"Write insightful and factually accurate \"\n",
    "         \"opinion piece about the topic: {topic}\",\n",
    "    backstory=\"You're working on a writing \"\n",
    "              \"a new opinion piece about the topic: {topic}. \"\n",
    "              \"You base your writing on the work of \"\n",
    "              \"the Content Planner, who provides an outline \"\n",
    "              \"and relevant context about the topic. \"\n",
    "              \"You follow the main objectives and \"\n",
    "              \"direction of the outline, \"\n",
    "              \"as provide by the Content Planner. \"\n",
    "              \"You also provide objective and impartial insights \"\n",
    "              \"and back them up with information \"\n",
    "              \"provide by the Content Planner. \"\n",
    "              \"You acknowledge in your opinion piece \"\n",
    "              \"when your statements are opinions \"\n",
    "              \"as opposed to objective statements.\",\n",
    "    allow_delegation=False,\n",
    "    verbose=True\n",
    ")"
   ]
  },
  {
   "cell_type": "markdown",
   "metadata": {},
   "source": [
    "### Agent: Editor"
   ]
  },
  {
   "cell_type": "code",
   "execution_count": 6,
   "metadata": {
    "height": 285
   },
   "outputs": [],
   "source": [
    "editor = Agent(\n",
    "    role=\"Editor\",\n",
    "    goal=\"Edit a given blog post to align with \"\n",
    "         \"the writing style of the organization. \",\n",
    "    backstory=\"You are an editor who receives a blog post \"\n",
    "              \"from the Content Writer. \"\n",
    "              \"Your goal is to review the blog post \"\n",
    "              \"to ensure that it follows journalistic best practices,\"\n",
    "              \"provides balanced viewpoints \"\n",
    "              \"when providing opinions or assertions, \"\n",
    "              \"and also avoids major controversial topics \"\n",
    "              \"or opinions when possible.\",\n",
    "    allow_delegation=False,\n",
    "    verbose=True\n",
    ")"
   ]
  },
  {
   "cell_type": "markdown",
   "metadata": {},
   "source": [
    "## Creating Tasks\n",
    "\n",
    "- Define your Tasks, and provide them a `description`, `expected_output` and `agent`."
   ]
  },
  {
   "cell_type": "markdown",
   "metadata": {},
   "source": [
    "### Task: Plan"
   ]
  },
  {
   "cell_type": "code",
   "execution_count": 7,
   "metadata": {
    "height": 285
   },
   "outputs": [],
   "source": [
    "plan = Task(\n",
    "    description=(\n",
    "        \"1. Prioritize the latest trends, key players, \"\n",
    "            \"and noteworthy news on {topic}.\\n\"\n",
    "        \"2. Identify the target audience, considering \"\n",
    "            \"their interests and pain points.\\n\"\n",
    "        \"3. Develop a detailed content outline including \"\n",
    "            \"an introduction, key points, and a call to action.\\n\"\n",
    "        \"4. Include SEO keywords and relevant data or sources.\"\n",
    "    ),\n",
    "    expected_output=\"A comprehensive content plan document \"\n",
    "        \"with an outline, audience analysis, \"\n",
    "        \"SEO keywords, and resources.\",\n",
    "    agent=planner,\n",
    ")"
   ]
  },
  {
   "cell_type": "markdown",
   "metadata": {},
   "source": [
    "### Task: Write"
   ]
  },
  {
   "cell_type": "code",
   "execution_count": 8,
   "metadata": {
    "height": 336
   },
   "outputs": [],
   "source": [
    "write = Task(\n",
    "    description=(\n",
    "        \"1. Use the content plan to craft a compelling \"\n",
    "            \"blog post on {topic}.\\n\"\n",
    "        \"2. Incorporate SEO keywords naturally.\\n\"\n",
    "\t\t\"3. Sections/Subtitles are properly named \"\n",
    "            \"in an engaging manner.\\n\"\n",
    "        \"4. Ensure the post is structured with an \"\n",
    "            \"engaging introduction, insightful body, \"\n",
    "            \"and a summarizing conclusion.\\n\"\n",
    "        \"5. Proofread for grammatical errors and \"\n",
    "            \"alignment with the brand's voice.\\n\"\n",
    "    ),\n",
    "    expected_output=\"A well-written blog post \"\n",
    "        \"in markdown format, ready for publication, \"\n",
    "        \"each section should have 2 or 3 paragraphs.\",\n",
    "    agent=writer,\n",
    ")"
   ]
  },
  {
   "cell_type": "markdown",
   "metadata": {},
   "source": [
    "### Task: Edit"
   ]
  },
  {
   "cell_type": "code",
   "execution_count": 9,
   "metadata": {
    "height": 183
   },
   "outputs": [],
   "source": [
    "edit = Task(\n",
    "    description=(\"Proofread the given blog post for \"\n",
    "                 \"grammatical errors and \"\n",
    "                 \"alignment with the brand's voice.\"),\n",
    "    expected_output=\"A well-written blog post in markdown format, \"\n",
    "                    \"ready for publication, \"\n",
    "                    \"each section should have 2 or 3 paragraphs.\",\n",
    "    agent=editor\n",
    ")"
   ]
  },
  {
   "cell_type": "markdown",
   "metadata": {},
   "source": [
    "## Creating the Crew\n",
    "\n",
    "- Create your crew of Agents\n",
    "- Pass the tasks to be performed by those agents.\n",
    "    - **Note**: *For this simple example*, the tasks will be performed sequentially (i.e they are dependent on each other), so the _order_ of the task in the list _matters_.\n",
    "- `verbose=2` allows you to see all the logs of the execution. "
   ]
  },
  {
   "cell_type": "code",
   "execution_count": 10,
   "metadata": {
    "height": 98
   },
   "outputs": [],
   "source": [
    "crew = Crew(\n",
    "    agents=[planner, writer, editor],\n",
    "    tasks=[plan, write, edit],\n",
    "    verbose=2\n",
    ")"
   ]
  },
  {
   "cell_type": "markdown",
   "metadata": {},
   "source": [
    "## Running the Crew"
   ]
  },
  {
   "cell_type": "markdown",
   "metadata": {},
   "source": [
    "**Note**: LLMs can provide different outputs for they same input, so what you get might be different than what you see in the video."
   ]
  },
  {
   "cell_type": "code",
   "execution_count": 11,
   "metadata": {
    "height": 47
   },
   "outputs": [
    {
     "name": "stdout",
     "output_type": "stream",
     "text": [
      "\u001b[1m\u001b[95m [DEBUG]: == Working Agent: Content Planner\u001b[00m\n",
      "\u001b[1m\u001b[95m [INFO]: == Starting Task: 1. Prioritize the latest trends, key players, and noteworthy news on Artificial Intelligence.\n",
      "2. Identify the target audience, considering their interests and pain points.\n",
      "3. Develop a detailed content outline including an introduction, key points, and a call to action.\n",
      "4. Include SEO keywords and relevant data or sources.\u001b[00m\n",
      "\n",
      "\n",
      "\u001b[1m> Entering new CrewAgentExecutor chain...\u001b[0m\n",
      "\u001b[32;1m\u001b[1;3mI now can give a great answer\n",
      "\n",
      "Final Answer: \n",
      "\n",
      "**Content Plan on Artificial Intelligence**\n",
      "\n",
      "**Introduction:**\n",
      "Artificial Intelligence (AI) has been making significant advancements in various industries, revolutionizing the way we live and work. In this blog article, we will explore the latest trends, key players, and noteworthy news in the field of AI, providing valuable insights for our target audience.\n",
      "\n",
      "**Target Audience:**\n",
      "Our target audience consists of tech enthusiasts, business professionals, and individuals curious about the potential of AI. They are interested in staying updated on the latest developments in technology and are looking to understand how AI can impact their lives and industries. Their pain points include the fear of job displacement, privacy concerns, and the ethical implications of AI.\n",
      "\n",
      "**SEO Keywords:**\n",
      "- Artificial Intelligence trends\n",
      "- Key players in AI industry\n",
      "- Noteworthy news in Artificial Intelligence\n",
      "- Impact of AI on industries\n",
      "- Ethical implications of Artificial Intelligence\n",
      "\n",
      "**Content Outline:**\n",
      "1. Introduction to Artificial Intelligence\n",
      "2. Latest Trends in AI\n",
      "   - Machine Learning\n",
      "   - Natural Language Processing\n",
      "   - Computer Vision\n",
      "3. Key Players in the AI Industry\n",
      "   - Google\n",
      "   - Amazon\n",
      "   - IBM\n",
      "4. Noteworthy News in Artificial Intelligence\n",
      "   - Recent breakthroughs in AI research\n",
      "   - AI applications in healthcare\n",
      "   - AI in self-driving cars\n",
      "5. Impact of AI on Industries\n",
      "   - Automation in manufacturing\n",
      "   - Personalized recommendations in e-commerce\n",
      "   - AI in customer service\n",
      "6. Ethical Implications of Artificial Intelligence\n",
      "   - Bias in AI algorithms\n",
      "   - Privacy concerns\n",
      "   - Job displacement\n",
      "7. Conclusion and Call to Action\n",
      "\n",
      "**Resources:**\n",
      "1. Forbes - Artificial Intelligence News\n",
      "2. MIT Technology Review - AI Trends\n",
      "3. NVIDIA Blog - Insights on AI\n",
      "4. Harvard Business Review - Ethical AI Practices\n",
      "5. Pew Research Center - Public Opinion on AI\n",
      "\n",
      "This content plan aims to provide a comprehensive overview of Artificial Intelligence, addressing the latest trends, key players, and noteworthy news in the industry. By incorporating SEO keywords and relevant data sources, we will create engaging and informative content for our target audience.\u001b[0m\n",
      "\n",
      "\u001b[1m> Finished chain.\u001b[0m\n",
      "\u001b[1m\u001b[92m [DEBUG]: == [Content Planner] Task output: **Content Plan on Artificial Intelligence**\n",
      "\n",
      "**Introduction:**\n",
      "Artificial Intelligence (AI) has been making significant advancements in various industries, revolutionizing the way we live and work. In this blog article, we will explore the latest trends, key players, and noteworthy news in the field of AI, providing valuable insights for our target audience.\n",
      "\n",
      "**Target Audience:**\n",
      "Our target audience consists of tech enthusiasts, business professionals, and individuals curious about the potential of AI. They are interested in staying updated on the latest developments in technology and are looking to understand how AI can impact their lives and industries. Their pain points include the fear of job displacement, privacy concerns, and the ethical implications of AI.\n",
      "\n",
      "**SEO Keywords:**\n",
      "- Artificial Intelligence trends\n",
      "- Key players in AI industry\n",
      "- Noteworthy news in Artificial Intelligence\n",
      "- Impact of AI on industries\n",
      "- Ethical implications of Artificial Intelligence\n",
      "\n",
      "**Content Outline:**\n",
      "1. Introduction to Artificial Intelligence\n",
      "2. Latest Trends in AI\n",
      "   - Machine Learning\n",
      "   - Natural Language Processing\n",
      "   - Computer Vision\n",
      "3. Key Players in the AI Industry\n",
      "   - Google\n",
      "   - Amazon\n",
      "   - IBM\n",
      "4. Noteworthy News in Artificial Intelligence\n",
      "   - Recent breakthroughs in AI research\n",
      "   - AI applications in healthcare\n",
      "   - AI in self-driving cars\n",
      "5. Impact of AI on Industries\n",
      "   - Automation in manufacturing\n",
      "   - Personalized recommendations in e-commerce\n",
      "   - AI in customer service\n",
      "6. Ethical Implications of Artificial Intelligence\n",
      "   - Bias in AI algorithms\n",
      "   - Privacy concerns\n",
      "   - Job displacement\n",
      "7. Conclusion and Call to Action\n",
      "\n",
      "**Resources:**\n",
      "1. Forbes - Artificial Intelligence News\n",
      "2. MIT Technology Review - AI Trends\n",
      "3. NVIDIA Blog - Insights on AI\n",
      "4. Harvard Business Review - Ethical AI Practices\n",
      "5. Pew Research Center - Public Opinion on AI\n",
      "\n",
      "This content plan aims to provide a comprehensive overview of Artificial Intelligence, addressing the latest trends, key players, and noteworthy news in the industry. By incorporating SEO keywords and relevant data sources, we will create engaging and informative content for our target audience.\n",
      "\n",
      "\u001b[00m\n",
      "\u001b[1m\u001b[95m [DEBUG]: == Working Agent: Content Writer\u001b[00m\n",
      "\u001b[1m\u001b[95m [INFO]: == Starting Task: 1. Use the content plan to craft a compelling blog post on Artificial Intelligence.\n",
      "2. Incorporate SEO keywords naturally.\n",
      "3. Sections/Subtitles are properly named in an engaging manner.\n",
      "4. Ensure the post is structured with an engaging introduction, insightful body, and a summarizing conclusion.\n",
      "5. Proofread for grammatical errors and alignment with the brand's voice.\n",
      "\u001b[00m\n",
      "\n",
      "\n",
      "\u001b[1m> Entering new CrewAgentExecutor chain...\u001b[0m\n",
      "\u001b[32;1m\u001b[1;3mI have a clear understanding of the content plan and the objectives for the blog post on Artificial Intelligence. By incorporating the latest trends, key players, and ethical implications, I can create a compelling and informative piece that will resonate with our target audience. I will ensure that the content is structured effectively with engaging sections and proper SEO integration to maximize reach and engagement.\n",
      "\n",
      "Final Answer:\n",
      "\n",
      "# The Evolution of Artificial Intelligence: Trends, Players, and Ethics\n",
      "\n",
      "**Introduction to Artificial Intelligence**\n",
      "\n",
      "Artificial Intelligence (AI) has become a driving force in reshaping industries and transforming the way we interact with technology. From self-driving cars to personalized recommendations in e-commerce, AI is revolutionizing the world around us. In this blog post, we will delve into the latest trends, key players, and ethical implications of AI, providing valuable insights for tech enthusiasts, business professionals, and individuals curious about the potential of this rapidly advancing technology.\n",
      "\n",
      "**Latest Trends in AI**\n",
      "\n",
      "Machine Learning, Natural Language Processing, and Computer Vision are at the forefront of AI innovation. Machine Learning algorithms enable computers to learn and improve from experience, while Natural Language Processing allows machines to understand and generate human language. Computer Vision, on the other hand, focuses on enabling machines to interpret and understand visual information. These trends are driving the development of cutting-edge AI applications that are reshaping industries and improving efficiency.\n",
      "\n",
      "**Key Players in the AI Industry**\n",
      "\n",
      "Google, Amazon, and IBM are among the key players in the AI industry, leading the way in research and innovation. Google's deep learning algorithms power many of its products and services, while Amazon's AI-driven recommendations have transformed the e-commerce landscape. IBM's Watson AI platform is revolutionizing healthcare, finance, and other industries with its cognitive computing capabilities. These companies are shaping the future of AI and setting the standard for innovation in the industry.\n",
      "\n",
      "**Noteworthy News in Artificial Intelligence**\n",
      "\n",
      "Recent breakthroughs in AI research, such as OpenAI's GPT-3 language model, have garnered widespread attention for their potential to revolutionize various fields. AI applications in healthcare are improving patient outcomes and driving medical advancements, while AI in self-driving cars is paving the way for a future of autonomous transportation. These noteworthy developments highlight the vast potential of AI to transform industries and improve the quality of life for individuals around the world.\n",
      "\n",
      "**Impact of AI on Industries**\n",
      "\n",
      "AI is driving automation in manufacturing, enabling businesses to streamline processes and increase efficiency. Personalized recommendations in e-commerce are enhancing the customer experience and driving sales, while AI in customer service is revolutionizing how businesses interact with consumers. These applications of AI are reshaping industries and creating new opportunities for growth and innovation.\n",
      "\n",
      "**Ethical Implications of Artificial Intelligence**\n",
      "\n",
      "Despite its numerous benefits, AI also poses ethical challenges, such as bias in algorithms, privacy concerns, and the fear of job displacement. Ensuring that AI systems are fair and unbiased is crucial to building trust and safeguarding against discrimination. Protecting privacy and addressing job displacement are also key considerations in the ethical development and deployment of AI technologies.\n",
      "\n",
      "**Conclusion and Call to Action**\n",
      "\n",
      "In conclusion, Artificial Intelligence is a powerful and transformative technology that is reshaping industries and driving innovation. By staying informed about the latest trends, key players, and ethical implications of AI, we can better understand its potential impact on our lives and industries. As we navigate the evolving landscape of AI, it is essential to prioritize ethical considerations and work towards creating a future where AI benefits society as a whole.\n",
      "\n",
      "As we continue to explore the possibilities of AI, let us strive to harness its potential for good and address the ethical challenges that come with its advancement. Together, we can shape a future where Artificial Intelligence enhances our lives and creates a more equitable and sustainable world for all.\n",
      "\n",
      "---\n",
      "This blog post aims to provide a comprehensive overview of Artificial Intelligence, addressing the latest trends, key players, and noteworthy news in the industry. By incorporating SEO keywords and relevant data sources, we have created engaging and informative content for our target audience.\u001b[0m\n",
      "\n",
      "\u001b[1m> Finished chain.\u001b[0m\n",
      "\u001b[1m\u001b[92m [DEBUG]: == [Content Writer] Task output: # The Evolution of Artificial Intelligence: Trends, Players, and Ethics\n",
      "\n",
      "**Introduction to Artificial Intelligence**\n",
      "\n",
      "Artificial Intelligence (AI) has become a driving force in reshaping industries and transforming the way we interact with technology. From self-driving cars to personalized recommendations in e-commerce, AI is revolutionizing the world around us. In this blog post, we will delve into the latest trends, key players, and ethical implications of AI, providing valuable insights for tech enthusiasts, business professionals, and individuals curious about the potential of this rapidly advancing technology.\n",
      "\n",
      "**Latest Trends in AI**\n",
      "\n",
      "Machine Learning, Natural Language Processing, and Computer Vision are at the forefront of AI innovation. Machine Learning algorithms enable computers to learn and improve from experience, while Natural Language Processing allows machines to understand and generate human language. Computer Vision, on the other hand, focuses on enabling machines to interpret and understand visual information. These trends are driving the development of cutting-edge AI applications that are reshaping industries and improving efficiency.\n",
      "\n",
      "**Key Players in the AI Industry**\n",
      "\n",
      "Google, Amazon, and IBM are among the key players in the AI industry, leading the way in research and innovation. Google's deep learning algorithms power many of its products and services, while Amazon's AI-driven recommendations have transformed the e-commerce landscape. IBM's Watson AI platform is revolutionizing healthcare, finance, and other industries with its cognitive computing capabilities. These companies are shaping the future of AI and setting the standard for innovation in the industry.\n",
      "\n",
      "**Noteworthy News in Artificial Intelligence**\n",
      "\n",
      "Recent breakthroughs in AI research, such as OpenAI's GPT-3 language model, have garnered widespread attention for their potential to revolutionize various fields. AI applications in healthcare are improving patient outcomes and driving medical advancements, while AI in self-driving cars is paving the way for a future of autonomous transportation. These noteworthy developments highlight the vast potential of AI to transform industries and improve the quality of life for individuals around the world.\n",
      "\n",
      "**Impact of AI on Industries**\n",
      "\n",
      "AI is driving automation in manufacturing, enabling businesses to streamline processes and increase efficiency. Personalized recommendations in e-commerce are enhancing the customer experience and driving sales, while AI in customer service is revolutionizing how businesses interact with consumers. These applications of AI are reshaping industries and creating new opportunities for growth and innovation.\n",
      "\n",
      "**Ethical Implications of Artificial Intelligence**\n",
      "\n",
      "Despite its numerous benefits, AI also poses ethical challenges, such as bias in algorithms, privacy concerns, and the fear of job displacement. Ensuring that AI systems are fair and unbiased is crucial to building trust and safeguarding against discrimination. Protecting privacy and addressing job displacement are also key considerations in the ethical development and deployment of AI technologies.\n",
      "\n",
      "**Conclusion and Call to Action**\n",
      "\n",
      "In conclusion, Artificial Intelligence is a powerful and transformative technology that is reshaping industries and driving innovation. By staying informed about the latest trends, key players, and ethical implications of AI, we can better understand its potential impact on our lives and industries. As we navigate the evolving landscape of AI, it is essential to prioritize ethical considerations and work towards creating a future where AI benefits society as a whole.\n",
      "\n",
      "As we continue to explore the possibilities of AI, let us strive to harness its potential for good and address the ethical challenges that come with its advancement. Together, we can shape a future where Artificial Intelligence enhances our lives and creates a more equitable and sustainable world for all.\n",
      "\n",
      "---\n",
      "This blog post aims to provide a comprehensive overview of Artificial Intelligence, addressing the latest trends, key players, and noteworthy news in the industry. By incorporating SEO keywords and relevant data sources, we have created engaging and informative content for our target audience.\n",
      "\n",
      "\u001b[00m\n",
      "\u001b[1m\u001b[95m [DEBUG]: == Working Agent: Editor\u001b[00m\n",
      "\u001b[1m\u001b[95m [INFO]: == Starting Task: Proofread the given blog post for grammatical errors and alignment with the brand's voice.\u001b[00m\n",
      "\n",
      "\n",
      "\u001b[1m> Entering new CrewAgentExecutor chain...\u001b[0m\n"
     ]
    },
    {
     "name": "stdout",
     "output_type": "stream",
     "text": [
      "\u001b[32;1m\u001b[1;3mI now can give a great answer\n",
      "\n",
      "Final Answer: \n",
      "\n",
      "# The Evolution of Artificial Intelligence: Trends, Players, and Ethics\n",
      "\n",
      "**Introduction to Artificial Intelligence**\n",
      "\n",
      "Artificial Intelligence (AI) has become a driving force in reshaping industries and transforming the way we interact with technology. From self-driving cars to personalized recommendations in e-commerce, AI is revolutionizing the world around us. In this blog post, we will delve into the latest trends, key players, and ethical implications of AI, providing valuable insights for tech enthusiasts, business professionals, and individuals curious about the potential of this rapidly advancing technology.\n",
      "\n",
      "**Latest Trends in AI**\n",
      "\n",
      "Machine Learning, Natural Language Processing, and Computer Vision are at the forefront of AI innovation. Machine Learning algorithms enable computers to learn and improve from experience, while Natural Language Processing allows machines to understand and generate human language. Computer Vision, on the other hand, focuses on enabling machines to interpret and understand visual information. These trends are driving the development of cutting-edge AI applications that are reshaping industries and improving efficiency.\n",
      "\n",
      "**Key Players in the AI Industry**\n",
      "\n",
      "Google, Amazon, and IBM are among the key players in the AI industry, leading the way in research and innovation. Google's deep learning algorithms power many of its products and services, while Amazon's AI-driven recommendations have transformed the e-commerce landscape. IBM's Watson AI platform is revolutionizing healthcare, finance, and other industries with its cognitive computing capabilities. These companies are shaping the future of AI and setting the standard for innovation in the industry.\n",
      "\n",
      "**Noteworthy News in Artificial Intelligence**\n",
      "\n",
      "Recent breakthroughs in AI research, such as OpenAI's GPT-3 language model, have garnered widespread attention for their potential to revolutionize various fields. AI applications in healthcare are improving patient outcomes and driving medical advancements, while AI in self-driving cars is paving the way for a future of autonomous transportation. These noteworthy developments highlight the vast potential of AI to transform industries and improve the quality of life for individuals around the world.\n",
      "\n",
      "**Impact of AI on Industries**\n",
      "\n",
      "AI is driving automation in manufacturing, enabling businesses to streamline processes and increase efficiency. Personalized recommendations in e-commerce are enhancing the customer experience and driving sales, while AI in customer service is revolutionizing how businesses interact with consumers. These applications of AI are reshaping industries and creating new opportunities for growth and innovation.\n",
      "\n",
      "**Ethical Implications of Artificial Intelligence**\n",
      "\n",
      "Despite its numerous benefits, AI also poses ethical challenges, such as bias in algorithms, privacy concerns, and the fear of job displacement. Ensuring that AI systems are fair and unbiased is crucial to building trust and safeguarding against discrimination. Protecting privacy and addressing job displacement are also key considerations in the ethical development and deployment of AI technologies.\n",
      "\n",
      "**Conclusion and Call to Action**\n",
      "\n",
      "In conclusion, Artificial Intelligence is a powerful and transformative technology that is reshaping industries and driving innovation. By staying informed about the latest trends, key players, and ethical implications of AI, we can better understand its potential impact on our lives and industries. As we navigate the evolving landscape of AI, it is essential to prioritize ethical considerations and work towards creating a future where AI benefits society as a whole.\n",
      "\n",
      "As we continue to explore the possibilities of AI, let us strive to harness its potential for good and address the ethical challenges that come with its advancement. Together, we can shape a future where Artificial Intelligence enhances our lives and creates a more equitable and sustainable world for all.\n",
      "\n",
      "---\n",
      "This blog post aims to provide a comprehensive overview of Artificial Intelligence, addressing the latest trends, key players, and noteworthy news in the industry. By incorporating SEO keywords and relevant data sources, we have created engaging and informative content for our target audience.\u001b[0m\n",
      "\n",
      "\u001b[1m> Finished chain.\u001b[0m\n",
      "\u001b[1m\u001b[92m [DEBUG]: == [Editor] Task output: # The Evolution of Artificial Intelligence: Trends, Players, and Ethics\n",
      "\n",
      "**Introduction to Artificial Intelligence**\n",
      "\n",
      "Artificial Intelligence (AI) has become a driving force in reshaping industries and transforming the way we interact with technology. From self-driving cars to personalized recommendations in e-commerce, AI is revolutionizing the world around us. In this blog post, we will delve into the latest trends, key players, and ethical implications of AI, providing valuable insights for tech enthusiasts, business professionals, and individuals curious about the potential of this rapidly advancing technology.\n",
      "\n",
      "**Latest Trends in AI**\n",
      "\n",
      "Machine Learning, Natural Language Processing, and Computer Vision are at the forefront of AI innovation. Machine Learning algorithms enable computers to learn and improve from experience, while Natural Language Processing allows machines to understand and generate human language. Computer Vision, on the other hand, focuses on enabling machines to interpret and understand visual information. These trends are driving the development of cutting-edge AI applications that are reshaping industries and improving efficiency.\n",
      "\n",
      "**Key Players in the AI Industry**\n",
      "\n",
      "Google, Amazon, and IBM are among the key players in the AI industry, leading the way in research and innovation. Google's deep learning algorithms power many of its products and services, while Amazon's AI-driven recommendations have transformed the e-commerce landscape. IBM's Watson AI platform is revolutionizing healthcare, finance, and other industries with its cognitive computing capabilities. These companies are shaping the future of AI and setting the standard for innovation in the industry.\n",
      "\n",
      "**Noteworthy News in Artificial Intelligence**\n",
      "\n",
      "Recent breakthroughs in AI research, such as OpenAI's GPT-3 language model, have garnered widespread attention for their potential to revolutionize various fields. AI applications in healthcare are improving patient outcomes and driving medical advancements, while AI in self-driving cars is paving the way for a future of autonomous transportation. These noteworthy developments highlight the vast potential of AI to transform industries and improve the quality of life for individuals around the world.\n",
      "\n",
      "**Impact of AI on Industries**\n",
      "\n",
      "AI is driving automation in manufacturing, enabling businesses to streamline processes and increase efficiency. Personalized recommendations in e-commerce are enhancing the customer experience and driving sales, while AI in customer service is revolutionizing how businesses interact with consumers. These applications of AI are reshaping industries and creating new opportunities for growth and innovation.\n",
      "\n",
      "**Ethical Implications of Artificial Intelligence**\n",
      "\n",
      "Despite its numerous benefits, AI also poses ethical challenges, such as bias in algorithms, privacy concerns, and the fear of job displacement. Ensuring that AI systems are fair and unbiased is crucial to building trust and safeguarding against discrimination. Protecting privacy and addressing job displacement are also key considerations in the ethical development and deployment of AI technologies.\n",
      "\n",
      "**Conclusion and Call to Action**\n",
      "\n",
      "In conclusion, Artificial Intelligence is a powerful and transformative technology that is reshaping industries and driving innovation. By staying informed about the latest trends, key players, and ethical implications of AI, we can better understand its potential impact on our lives and industries. As we navigate the evolving landscape of AI, it is essential to prioritize ethical considerations and work towards creating a future where AI benefits society as a whole.\n",
      "\n",
      "As we continue to explore the possibilities of AI, let us strive to harness its potential for good and address the ethical challenges that come with its advancement. Together, we can shape a future where Artificial Intelligence enhances our lives and creates a more equitable and sustainable world for all.\n",
      "\n",
      "---\n",
      "This blog post aims to provide a comprehensive overview of Artificial Intelligence, addressing the latest trends, key players, and noteworthy news in the industry. By incorporating SEO keywords and relevant data sources, we have created engaging and informative content for our target audience.\n",
      "\n",
      "\u001b[00m\n"
     ]
    }
   ],
   "source": [
    "result = crew.kickoff(inputs={\"topic\": \"Artificial Intelligence\"})"
   ]
  },
  {
   "cell_type": "markdown",
   "metadata": {},
   "source": [
    "- Display the results of your execution as markdown in the notebook."
   ]
  },
  {
   "cell_type": "code",
   "execution_count": 12,
   "metadata": {
    "height": 47
   },
   "outputs": [
    {
     "data": {
      "text/markdown": [
       "# The Evolution of Artificial Intelligence: Trends, Players, and Ethics\n",
       "\n",
       "**Introduction to Artificial Intelligence**\n",
       "\n",
       "Artificial Intelligence (AI) has become a driving force in reshaping industries and transforming the way we interact with technology. From self-driving cars to personalized recommendations in e-commerce, AI is revolutionizing the world around us. In this blog post, we will delve into the latest trends, key players, and ethical implications of AI, providing valuable insights for tech enthusiasts, business professionals, and individuals curious about the potential of this rapidly advancing technology.\n",
       "\n",
       "**Latest Trends in AI**\n",
       "\n",
       "Machine Learning, Natural Language Processing, and Computer Vision are at the forefront of AI innovation. Machine Learning algorithms enable computers to learn and improve from experience, while Natural Language Processing allows machines to understand and generate human language. Computer Vision, on the other hand, focuses on enabling machines to interpret and understand visual information. These trends are driving the development of cutting-edge AI applications that are reshaping industries and improving efficiency.\n",
       "\n",
       "**Key Players in the AI Industry**\n",
       "\n",
       "Google, Amazon, and IBM are among the key players in the AI industry, leading the way in research and innovation. Google's deep learning algorithms power many of its products and services, while Amazon's AI-driven recommendations have transformed the e-commerce landscape. IBM's Watson AI platform is revolutionizing healthcare, finance, and other industries with its cognitive computing capabilities. These companies are shaping the future of AI and setting the standard for innovation in the industry.\n",
       "\n",
       "**Noteworthy News in Artificial Intelligence**\n",
       "\n",
       "Recent breakthroughs in AI research, such as OpenAI's GPT-3 language model, have garnered widespread attention for their potential to revolutionize various fields. AI applications in healthcare are improving patient outcomes and driving medical advancements, while AI in self-driving cars is paving the way for a future of autonomous transportation. These noteworthy developments highlight the vast potential of AI to transform industries and improve the quality of life for individuals around the world.\n",
       "\n",
       "**Impact of AI on Industries**\n",
       "\n",
       "AI is driving automation in manufacturing, enabling businesses to streamline processes and increase efficiency. Personalized recommendations in e-commerce are enhancing the customer experience and driving sales, while AI in customer service is revolutionizing how businesses interact with consumers. These applications of AI are reshaping industries and creating new opportunities for growth and innovation.\n",
       "\n",
       "**Ethical Implications of Artificial Intelligence**\n",
       "\n",
       "Despite its numerous benefits, AI also poses ethical challenges, such as bias in algorithms, privacy concerns, and the fear of job displacement. Ensuring that AI systems are fair and unbiased is crucial to building trust and safeguarding against discrimination. Protecting privacy and addressing job displacement are also key considerations in the ethical development and deployment of AI technologies.\n",
       "\n",
       "**Conclusion and Call to Action**\n",
       "\n",
       "In conclusion, Artificial Intelligence is a powerful and transformative technology that is reshaping industries and driving innovation. By staying informed about the latest trends, key players, and ethical implications of AI, we can better understand its potential impact on our lives and industries. As we navigate the evolving landscape of AI, it is essential to prioritize ethical considerations and work towards creating a future where AI benefits society as a whole.\n",
       "\n",
       "As we continue to explore the possibilities of AI, let us strive to harness its potential for good and address the ethical challenges that come with its advancement. Together, we can shape a future where Artificial Intelligence enhances our lives and creates a more equitable and sustainable world for all.\n",
       "\n",
       "---\n",
       "This blog post aims to provide a comprehensive overview of Artificial Intelligence, addressing the latest trends, key players, and noteworthy news in the industry. By incorporating SEO keywords and relevant data sources, we have created engaging and informative content for our target audience."
      ],
      "text/plain": [
       "<IPython.core.display.Markdown object>"
      ]
     },
     "execution_count": 12,
     "metadata": {},
     "output_type": "execute_result"
    }
   ],
   "source": [
    "from IPython.display import Markdown\n",
    "Markdown(result)"
   ]
  },
  {
   "cell_type": "markdown",
   "metadata": {},
   "source": [
    "## Try it Yourself\n",
    "\n",
    "- Pass in a topic of your choice and see what the agents come up with!"
   ]
  },
  {
   "cell_type": "code",
   "execution_count": 13,
   "metadata": {
    "height": 47
   },
   "outputs": [
    {
     "name": "stdout",
     "output_type": "stream",
     "text": [
      "\u001b[1m\u001b[95m [DEBUG]: == Working Agent: Content Planner\u001b[00m\n",
      "\u001b[1m\u001b[95m [INFO]: == Starting Task: 1. Prioritize the latest trends, key players, and noteworthy news on fredagsmys ritual.\n",
      "2. Identify the target audience, considering their interests and pain points.\n",
      "3. Develop a detailed content outline including an introduction, key points, and a call to action.\n",
      "4. Include SEO keywords and relevant data or sources.\u001b[00m\n",
      "\n",
      "\n",
      "\u001b[1m> Entering new CrewAgentExecutor chain...\u001b[0m\n",
      "\u001b[32;1m\u001b[1;3mI now can give a great answer\n",
      "\n",
      "Final Answer:\n",
      "\n",
      "# The Ultimate Guide to Fredagsmys Ritual: How to Enjoy a Cozy Friday Night\n",
      "\n",
      "## Introduction\n",
      "\n",
      "Fredagsmys ritual, originating from Sweden, is a beloved tradition that involves creating a cozy and relaxed atmosphere to enjoy a Friday night. This ritual is all about unwinding, connecting with loved ones, and indulging in comfort food and activities. The concept of fredagsmys has gained popularity beyond Sweden, with people around the world embracing the idea of a cozy Friday night in.\n",
      "\n",
      "## Latest Trends in Fredagsmys Ritual\n",
      "\n",
      "In today's fast-paced world, many individuals are incorporating technology to enhance their fredagsmys experience. Virtual fredagsmys gatherings have become increasingly popular, allowing friends and family members to connect from different locations. Additionally, DIY ideas for creating a cozy atmosphere at home have gained traction, with people getting creative with decorations, lighting, and themed activities to make their Friday nights extra special.\n",
      "\n",
      "## Key Players in Fredagsmys Ritual\n",
      "\n",
      "Various influencers and brands play a significant role in promoting the fredagsmys culture. Influencers on social media platforms share their fredagsmys routines, offering inspiration and ideas for creating a cozy atmosphere. Brands have also capitalized on the trend by offering products such as cozy blankets, scented candles, and comfort food items that enhance the fredagsmys experience.\n",
      "\n",
      "## Noteworthy News in Fredagsmys Ritual\n",
      "\n",
      "Recent initiatives focused on promoting fredagsmys have emerged, including events that celebrate the tradition and highlight its benefits. Studies have shown that engaging in fredagsmys activities can have a positive impact on mental health and well-being, emphasizing the importance of relaxation and downtime in today's hectic world.\n",
      "\n",
      "## Target Audience Analysis\n",
      "\n",
      "Millennials and Gen Z individuals are among the key demographics seeking relaxation and connection through the fredagsmys ritual. For these generations, fredagsmys offers a break from the digital world and a chance to unwind with loved ones. Families also find value in the ritual, using it as an opportunity for bonding and quality time together.\n",
      "\n",
      "## Conclusion\n",
      "\n",
      "In conclusion, fredagsmys ritual is a wonderful tradition that promotes relaxation, connection, and well-being. By incorporating the latest trends, key players, and noteworthy news in the fredagsmys culture, individuals can enhance their Friday night experience and prioritize self-care. I encourage readers to try incorporating fredagsmys into their own routines and share their experiences on social media using the hashtag #fredagsmys. Let's embrace the cozy Friday night tradition and enjoy the benefits it brings to our lives.\n",
      "\n",
      "*Sources: Research studies on the benefits of relaxation and mindfulness, interviews with experts on the importance of self-care and downtime*\u001b[0m\n",
      "\n",
      "\u001b[1m> Finished chain.\u001b[0m\n",
      "\u001b[1m\u001b[92m [DEBUG]: == [Content Writer] Task output: # The Ultimate Guide to Fredagsmys Ritual: How to Enjoy a Cozy Friday Night\n",
      "\n",
      "## Introduction\n",
      "\n",
      "Fredagsmys ritual, originating from Sweden, is a beloved tradition that involves creating a cozy and relaxed atmosphere to enjoy a Friday night. This ritual is all about unwinding, connecting with loved ones, and indulging in comfort food and activities. The concept of fredagsmys has gained popularity beyond Sweden, with people around the world embracing the idea of a cozy Friday night in.\n",
      "\n",
      "## Latest Trends in Fredagsmys Ritual\n",
      "\n",
      "In today's fast-paced world, many individuals are incorporating technology to enhance their fredagsmys experience. Virtual fredagsmys gatherings have become increasingly popular, allowing friends and family members to connect from different locations. Additionally, DIY ideas for creating a cozy atmosphere at home have gained traction, with people getting creative with decorations, lighting, and themed activities to make their Friday nights extra special.\n",
      "\n",
      "## Key Players in Fredagsmys Ritual\n",
      "\n",
      "Various influencers and brands play a significant role in promoting the fredagsmys culture. Influencers on social media platforms share their fredagsmys routines, offering inspiration and ideas for creating a cozy atmosphere. Brands have also capitalized on the trend by offering products such as cozy blankets, scented candles, and comfort food items that enhance the fredagsmys experience.\n",
      "\n",
      "## Noteworthy News in Fredagsmys Ritual\n",
      "\n",
      "Recent initiatives focused on promoting fredagsmys have emerged, including events that celebrate the tradition and highlight its benefits. Studies have shown that engaging in fredagsmys activities can have a positive impact on mental health and well-being, emphasizing the importance of relaxation and downtime in today's hectic world.\n",
      "\n",
      "## Target Audience Analysis\n",
      "\n",
      "Millennials and Gen Z individuals are among the key demographics seeking relaxation and connection through the fredagsmys ritual. For these generations, fredagsmys offers a break from the digital world and a chance to unwind with loved ones. Families also find value in the ritual, using it as an opportunity for bonding and quality time together.\n",
      "\n",
      "## Conclusion\n",
      "\n",
      "In conclusion, fredagsmys ritual is a wonderful tradition that promotes relaxation, connection, and well-being. By incorporating the latest trends, key players, and noteworthy news in the fredagsmys culture, individuals can enhance their Friday night experience and prioritize self-care. I encourage readers to try incorporating fredagsmys into their own routines and share their experiences on social media using the hashtag #fredagsmys. Let's embrace the cozy Friday night tradition and enjoy the benefits it brings to our lives.\n",
      "\n",
      "*Sources: Research studies on the benefits of relaxation and mindfulness, interviews with experts on the importance of self-care and downtime*\n",
      "\n",
      "\u001b[00m\n",
      "\u001b[1m\u001b[95m [DEBUG]: == Working Agent: Editor\u001b[00m\n",
      "\u001b[1m\u001b[95m [INFO]: == Starting Task: Proofread the given blog post for grammatical errors and alignment with the brand's voice.\u001b[00m\n",
      "\n",
      "\n",
      "\u001b[1m> Entering new CrewAgentExecutor chain...\u001b[0m\n",
      "\u001b[32;1m\u001b[1;3mI now can give a great answer\n",
      "\n",
      "Final Answer: \n",
      "# The Ultimate Guide to Fredagsmys Ritual: How to Enjoy a Cozy Friday Night\n",
      "\n",
      "## Introduction\n",
      "\n",
      "The Fredagsmys ritual, originating from Sweden, is a cherished tradition that revolves around creating a cozy and laid-back atmosphere to savor a Friday night. It is all about unwinding, connecting with loved ones, and indulging in comfort food and activities. The concept of fredagsmys has transcended its Swedish roots and garnered global popularity, with individuals worldwide embracing the idea of a relaxed Friday night in.\n",
      "\n",
      "## Latest Trends in Fredagsmys Ritual\n",
      "\n",
      "In today's fast-paced world, many individuals are leveraging technology to elevate their fredagsmys experience. Virtual fredagsmys gatherings have witnessed a surge in popularity, enabling friends and family members to connect from different locations. Moreover, do-it-yourself concepts for crafting a cozy ambiance at home have gained traction, with people exploring innovative decorations, lighting arrangements, and themed activities to make their Friday nights truly special.\n",
      "\n",
      "## Key Players in Fredagsmys Ritual\n",
      "\n",
      "Numerous influencers and brands have played a pivotal role in championing the fredagsmys culture. Influencers on various social media platforms share their fredagsmys routines, providing inspiration and suggestions for cultivating a cozy atmosphere. Brands have also seized the opportunity by offering products like snug blankets, scented candles, and comfort food items that enrich the fredagsmys experience.\n",
      "\n",
      "## Noteworthy News in Fredagsmys Ritual\n",
      "\n",
      "Recent initiatives aimed at promoting fredagsmys have surfaced, including events that celebrate the tradition and underscore its advantages. Studies have highlighted that engaging in fredagsmys activities can have a positive impact on mental health and overall well-being, underscoring the significance of relaxation and downtime in today's bustling world.\n",
      "\n",
      "## Target Audience Analysis\n",
      "\n",
      "Millennials and Gen Z individuals stand out as key demographics seeking relaxation and connection through the fredagsmys ritual. For these generations, fredagsmys provides a respite from the digital realm and an opportunity to unwind with loved ones. Families also recognize the value of the ritual, utilizing it as a chance for bonding and quality time together.\n",
      "\n",
      "## Conclusion\n",
      "\n",
      "In conclusion, the fredagsmys ritual stands as a delightful tradition that champions relaxation, connection, and well-being. By incorporating the latest trends, key players, and noteworthy news in the fredagsmys culture, individuals can elevate their Friday night experience and prioritize self-care. I urge readers to consider integrating fredagsmys into their own routines and sharing their experiences on social media using the hashtag #fredagsmys. Let's embrace the cozy Friday night tradition and relish the benefits it brings to our lives.\n",
      "\n",
      "*Sources: Research studies on the benefits of relaxation and mindfulness, interviews with experts on the importance of self-care and downtime*\u001b[0m\n",
      "\n",
      "\u001b[1m> Finished chain.\u001b[0m\n",
      "\u001b[1m\u001b[92m [DEBUG]: == [Editor] Task output: # The Ultimate Guide to Fredagsmys Ritual: How to Enjoy a Cozy Friday Night\n",
      "\n",
      "## Introduction\n",
      "\n",
      "The Fredagsmys ritual, originating from Sweden, is a cherished tradition that revolves around creating a cozy and laid-back atmosphere to savor a Friday night. It is all about unwinding, connecting with loved ones, and indulging in comfort food and activities. The concept of fredagsmys has transcended its Swedish roots and garnered global popularity, with individuals worldwide embracing the idea of a relaxed Friday night in.\n",
      "\n",
      "## Latest Trends in Fredagsmys Ritual\n",
      "\n",
      "In today's fast-paced world, many individuals are leveraging technology to elevate their fredagsmys experience. Virtual fredagsmys gatherings have witnessed a surge in popularity, enabling friends and family members to connect from different locations. Moreover, do-it-yourself concepts for crafting a cozy ambiance at home have gained traction, with people exploring innovative decorations, lighting arrangements, and themed activities to make their Friday nights truly special.\n",
      "\n",
      "## Key Players in Fredagsmys Ritual\n",
      "\n",
      "Numerous influencers and brands have played a pivotal role in championing the fredagsmys culture. Influencers on various social media platforms share their fredagsmys routines, providing inspiration and suggestions for cultivating a cozy atmosphere. Brands have also seized the opportunity by offering products like snug blankets, scented candles, and comfort food items that enrich the fredagsmys experience.\n",
      "\n",
      "## Noteworthy News in Fredagsmys Ritual\n",
      "\n",
      "Recent initiatives aimed at promoting fredagsmys have surfaced, including events that celebrate the tradition and underscore its advantages. Studies have highlighted that engaging in fredagsmys activities can have a positive impact on mental health and overall well-being, underscoring the significance of relaxation and downtime in today's bustling world.\n",
      "\n",
      "## Target Audience Analysis\n",
      "\n",
      "Millennials and Gen Z individuals stand out as key demographics seeking relaxation and connection through the fredagsmys ritual. For these generations, fredagsmys provides a respite from the digital realm and an opportunity to unwind with loved ones. Families also recognize the value of the ritual, utilizing it as a chance for bonding and quality time together.\n",
      "\n",
      "## Conclusion\n",
      "\n",
      "In conclusion, the fredagsmys ritual stands as a delightful tradition that champions relaxation, connection, and well-being. By incorporating the latest trends, key players, and noteworthy news in the fredagsmys culture, individuals can elevate their Friday night experience and prioritize self-care. I urge readers to consider integrating fredagsmys into their own routines and sharing their experiences on social media using the hashtag #fredagsmys. Let's embrace the cozy Friday night tradition and relish the benefits it brings to our lives.\n",
      "\n",
      "*Sources: Research studies on the benefits of relaxation and mindfulness, interviews with experts on the importance of self-care and downtime*\n",
      "\n",
      "\u001b[00m\n"
     ]
    }
   ],
   "source": [
    "topic = \"fredagsmys ritual\"\n",
    "result = crew.kickoff(inputs={\"topic\": topic})"
   ]
  },
  {
   "cell_type": "code",
   "execution_count": 14,
   "metadata": {
    "height": 30
   },
   "outputs": [
    {
     "data": {
      "text/markdown": [
       "# The Ultimate Guide to Fredagsmys Ritual: How to Enjoy a Cozy Friday Night\n",
       "\n",
       "## Introduction\n",
       "\n",
       "The Fredagsmys ritual, originating from Sweden, is a cherished tradition that revolves around creating a cozy and laid-back atmosphere to savor a Friday night. It is all about unwinding, connecting with loved ones, and indulging in comfort food and activities. The concept of fredagsmys has transcended its Swedish roots and garnered global popularity, with individuals worldwide embracing the idea of a relaxed Friday night in.\n",
       "\n",
       "## Latest Trends in Fredagsmys Ritual\n",
       "\n",
       "In today's fast-paced world, many individuals are leveraging technology to elevate their fredagsmys experience. Virtual fredagsmys gatherings have witnessed a surge in popularity, enabling friends and family members to connect from different locations. Moreover, do-it-yourself concepts for crafting a cozy ambiance at home have gained traction, with people exploring innovative decorations, lighting arrangements, and themed activities to make their Friday nights truly special.\n",
       "\n",
       "## Key Players in Fredagsmys Ritual\n",
       "\n",
       "Numerous influencers and brands have played a pivotal role in championing the fredagsmys culture. Influencers on various social media platforms share their fredagsmys routines, providing inspiration and suggestions for cultivating a cozy atmosphere. Brands have also seized the opportunity by offering products like snug blankets, scented candles, and comfort food items that enrich the fredagsmys experience.\n",
       "\n",
       "## Noteworthy News in Fredagsmys Ritual\n",
       "\n",
       "Recent initiatives aimed at promoting fredagsmys have surfaced, including events that celebrate the tradition and underscore its advantages. Studies have highlighted that engaging in fredagsmys activities can have a positive impact on mental health and overall well-being, underscoring the significance of relaxation and downtime in today's bustling world.\n",
       "\n",
       "## Target Audience Analysis\n",
       "\n",
       "Millennials and Gen Z individuals stand out as key demographics seeking relaxation and connection through the fredagsmys ritual. For these generations, fredagsmys provides a respite from the digital realm and an opportunity to unwind with loved ones. Families also recognize the value of the ritual, utilizing it as a chance for bonding and quality time together.\n",
       "\n",
       "## Conclusion\n",
       "\n",
       "In conclusion, the fredagsmys ritual stands as a delightful tradition that champions relaxation, connection, and well-being. By incorporating the latest trends, key players, and noteworthy news in the fredagsmys culture, individuals can elevate their Friday night experience and prioritize self-care. I urge readers to consider integrating fredagsmys into their own routines and sharing their experiences on social media using the hashtag #fredagsmys. Let's embrace the cozy Friday night tradition and relish the benefits it brings to our lives.\n",
       "\n",
       "*Sources: Research studies on the benefits of relaxation and mindfulness, interviews with experts on the importance of self-care and downtime*"
      ],
      "text/plain": [
       "<IPython.core.display.Markdown object>"
      ]
     },
     "execution_count": 14,
     "metadata": {},
     "output_type": "execute_result"
    }
   ],
   "source": [
    "Markdown(result)"
   ]
  },
  {
   "cell_type": "markdown",
   "metadata": {},
   "source": [
    "<a name='1'></a>\n",
    " ## Other Popular Models as LLM for your Agents"
   ]
  },
  {
   "cell_type": "markdown",
   "metadata": {},
   "source": [
    "#### Hugging Face (HuggingFaceHub endpoint)\n",
    "\n",
    "```Python\n",
    "from langchain_community.llms import HuggingFaceHub\n",
    "\n",
    "llm = HuggingFaceHub(\n",
    "    repo_id=\"HuggingFaceH4/zephyr-7b-beta\",\n",
    "    huggingfacehub_api_token=\"<HF_TOKEN_HERE>\",\n",
    "    task=\"text-generation\",\n",
    ")\n",
    "\n",
    "### you will pass \"llm\" to your agent function\n",
    "```"
   ]
  },
  {
   "cell_type": "markdown",
   "metadata": {},
   "source": [
    "#### Mistral API\n",
    "\n",
    "```Python\n",
    "OPENAI_API_KEY=your-mistral-api-key\n",
    "OPENAI_API_BASE=https://api.mistral.ai/v1\n",
    "OPENAI_MODEL_NAME=\"mistral-small\"\n",
    "```"
   ]
  },
  {
   "cell_type": "markdown",
   "metadata": {},
   "source": [
    "#### Cohere\n",
    "\n",
    "```Python\n",
    "from langchain_community.chat_models import ChatCohere\n",
    "# Initialize language model\n",
    "os.environ[\"COHERE_API_KEY\"] = \"your-cohere-api-key\"\n",
    "llm = ChatCohere()\n",
    "\n",
    "### you will pass \"llm\" to your agent function\n",
    "```"
   ]
  },
  {
   "cell_type": "markdown",
   "metadata": {},
   "source": [
    "### For using Llama locally with Ollama and more, checkout the crewAI documentation on [Connecting to any LLM](https://docs.crewai.com/how-to/LLM-Connections/)."
   ]
  },
  {
   "cell_type": "code",
   "execution_count": null,
   "metadata": {
    "height": 30
   },
   "outputs": [],
   "source": []
  },
  {
   "cell_type": "code",
   "execution_count": null,
   "metadata": {
    "height": 30
   },
   "outputs": [],
   "source": []
  },
  {
   "cell_type": "code",
   "execution_count": null,
   "metadata": {
    "height": 30
   },
   "outputs": [],
   "source": []
  }
 ],
 "metadata": {
  "colab": {
   "gpuType": "T4",
   "provenance": []
  },
  "kernelspec": {
   "display_name": "Python 3 (ipykernel)",
   "language": "python",
   "name": "python3"
  },
  "language_info": {
   "codemirror_mode": {
    "name": "ipython",
    "version": 3
   },
   "file_extension": ".py",
   "mimetype": "text/x-python",
   "name": "python",
   "nbconvert_exporter": "python",
   "pygments_lexer": "ipython3",
   "version": "3.11.9"
  }
 },
 "nbformat": 4,
 "nbformat_minor": 4
}
