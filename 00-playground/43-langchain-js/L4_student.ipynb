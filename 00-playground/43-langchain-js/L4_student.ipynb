{
 "cells": [
  {
   "cell_type": "markdown",
   "id": "048876d8-c05f-45fd-883c-f756aee5cfc4",
   "metadata": {},
   "source": [
    "# Lesson 4: Question answering"
   ]
  },
  {
   "cell_type": "markdown",
   "id": "ad214456-a809-4f50-8d4a-7a418c8e47f1",
   "metadata": {},
   "source": [
    "![](./images/rag_diagram.png)"
   ]
  },
  {
   "cell_type": "code",
   "execution_count": 1,
   "id": "b666824e-a940-484f-b3f0-6b7682ef4677",
   "metadata": {
    "height": 30
   },
   "outputs": [
    {
     "data": {
      "text/plain": [
       "[Module: null prototype] { default: {} }"
      ]
     },
     "execution_count": 1,
     "metadata": {},
     "output_type": "execute_result"
    }
   ],
   "source": [
    "import \"dotenv/config\";"
   ]
  },
  {
   "cell_type": "code",
   "execution_count": 2,
   "id": "4bee5413-fcde-4dd9-b5fb-89023203cfb2",
   "metadata": {
    "height": 115
   },
   "outputs": [],
   "source": [
    "import { loadAndSplitChunks } from \"./lib/helpers.ts\";\n",
    "\n",
    "const splitDocs = await loadAndSplitChunks({\n",
    "    chunkSize: 1536,\n",
    "    chunkOverlap: 128\n",
    "});"
   ]
  },
  {
   "cell_type": "code",
   "execution_count": 3,
   "id": "b3e86ff7-6368-4442-8ee6-0a1a3c1b35e0",
   "metadata": {
    "height": 115
   },
   "outputs": [],
   "source": [
    "import { initializeVectorstoreWithDocuments } from \"./lib/helpers.ts\";\n",
    "\n",
    "const vectorstore = await initializeVectorstoreWithDocuments({\n",
    "  documents: splitDocs,\n",
    "});"
   ]
  },
  {
   "cell_type": "code",
   "execution_count": 4,
   "id": "634988ed-0a57-49bc-9261-dc19fe66529b",
   "metadata": {
    "height": 30
   },
   "outputs": [],
   "source": [
    "const retriever = vectorstore.asRetriever();"
   ]
  },
  {
   "cell_type": "markdown",
   "id": "8b484116-7cee-4c7e-a020-183771d26125",
   "metadata": {},
   "source": [
    "# Document retrieval in a chain"
   ]
  },
  {
   "cell_type": "code",
   "execution_count": 5,
   "id": "cd470c94-5bec-4efe-8395-416b0a408f8b",
   "metadata": {
    "height": 353
   },
   "outputs": [],
   "source": [
    "import { RunnableSequence } from \"@langchain/core/runnables\";\n",
    "import { Document } from \"@langchain/core/documents\";\n",
    "\n",
    "const convertDocsToString = (documents: Document[]): string => {\n",
    "  return documents.map((document) => {\n",
    "    return `<doc>\\n${document.pageContent}\\n</doc>`\n",
    "  }).join(\"\\n\");\n",
    "};\n",
    "\n",
    "/*\n",
    "{\n",
    "question: \"What is deep learning?\"\n",
    "}\n",
    "*/\n",
    "\n",
    "const documentRetrievalChain = RunnableSequence.from([\n",
    "    (input) => input.question,\n",
    "    retriever,\n",
    "    convertDocsToString\n",
    "]);"
   ]
  },
  {
   "cell_type": "code",
   "execution_count": 6,
   "id": "4476713f-5285-4d2f-9126-d30ee9825090",
   "metadata": {
    "height": 81
   },
   "outputs": [
    {
     "name": "stdout",
     "output_type": "stream",
     "text": [
      "<doc>\n",
      "course information handout. So let me just say a few words about parts of these. On the \n",
      "third page, there's a section that says Online Resources.  \n",
      "Oh, okay. Louder? Actually, could you turn up the volume? Testing. Is this better? \n",
      "Testing, testing. Okay, cool. Thanks.\n",
      "</doc>\n",
      "<doc>\n",
      "of this class will not be very programming intensive, although we will do some \n",
      "programming, mostly in either MATLAB or Octave. I'll say a bit more about that later.  \n",
      "I also assume familiarity with basic probability and statistics. So most undergraduate \n",
      "statistics class, like Stat 116 taught here at Stanford, will be more than enough. I'm gonna \n",
      "assume all of you know what random variables are, that all of you know what expectation \n",
      "is, what a variance or a random variable is. And in case of some of you, it's been a while \n",
      "since you've seen some of this material. At some of the discussion sections, we'll actually \n",
      "go over some of the prerequisites, sort of as a refresher course under prerequisite class. \n",
      "I'll say a bit more about that later as well.  \n",
      "Lastly, I also assume familiarity with basic linear algebra. And again, most undergraduate \n",
      "linear algebra courses are more than enough. So if you've taken courses like Math 51, \n",
      "103, Math 113 or CS205 at Stanford, that would be more than enough. Basically, I'm \n",
      "gonna assume that all of you know what matrixes and vectors are, that you know how to \n",
      "multiply matrices and vectors and multiply matrix and matrices, that you know what a \n",
      "matrix inverse is. If you know what an eigenvector of a matrix is, that'd be even better. \n",
      "But if you don't quite know or if you're not quite sure, that's fine, too. We'll go over it in \n",
      "the review sections.  \n",
      "So there are a couple more logistical things I should deal with in this class. One is that, as\n",
      "</doc>\n",
      "<doc>\n",
      "material that I'm teaching in the main lectures. So machine learning is a huge field, and \n",
      "there are a few extensions that we really want to teach but didn't have time in the main \n",
      "lectures for.\n",
      "</doc>\n",
      "<doc>\n",
      "MachineLearning-Lecture01  \n",
      "Instructor (Andrew Ng): Okay. Good morning. Welcome to CS229, the machine \n",
      "learning class. So what I wanna do today is just spend a little time going over the logistics \n",
      "of the class, and then we'll start to talk a bit about machine learning.  \n",
      "By way of introduction, my name's Andrew Ng and I'll be instructor for this class. And so \n",
      "I personally work in machine learning, and I've worked on it for about 15 years now, and \n",
      "I actually think that machine learning is the most exciting field of all the computer \n",
      "sciences. So I'm actually always excited about teaching this class. Sometimes I actually \n",
      "think that machine learning is not only the most exciting thing in computer science, but \n",
      "the most exciting thing in all of human endeavor, so maybe a little bias there.  \n",
      "I also want to introduce the TAs, who are all graduate students doing research in or \n",
      "related to the machine learning and all aspects of machine learning. Paul Baumstarck \n",
      "works in machine learning and computer vision. Catie Chang is actually a neuroscientist \n",
      "who applies machine learning algorithms to try to understand the human brain. Tom Do \n",
      "is another PhD student, works in computational biology and in sort of the basic \n",
      "fundamentals of human learning. Zico Kolter is the head TA — he's head TA two years \n",
      "in a row now — works in machine learning and applies them to a bunch of robots. And \n",
      "Daniel Ramage is — I guess he's not here — Daniel applies learning algorithms to \n",
      "problems in natural language processing.\n",
      "</doc>\n"
     ]
    }
   ],
   "source": [
    "const results = await documentRetrievalChain.invoke({\n",
    "  question: \"What are the prerequisites for this course?\"\n",
    "});\n",
    "console.log(results);"
   ]
  },
  {
   "cell_type": "markdown",
   "id": "9f213b67-f7d3-4e30-9776-41b0b4ce6a10",
   "metadata": {},
   "source": [
    "# Synthesizing a response"
   ]
  },
  {
   "cell_type": "code",
   "execution_count": 7,
   "id": "4f3366a1-4f80-4d4f-b49b-d7223b143d97",
   "metadata": {
    "height": 387
   },
   "outputs": [],
   "source": [
    "import { ChatPromptTemplate } from \"@langchain/core/prompts\";\n",
    "\n",
    "const TEMPLATE_STRING = `You are an experienced researcher, \n",
    "expert at interpreting and answering questions based on provided sources.\n",
    "Using the provided context, answer the user's question \n",
    "to the best of your ability using only the resources provided. \n",
    "Be verbose!\n",
    "\n",
    "<context>\n",
    "\n",
    "{context}\n",
    "\n",
    "</context>\n",
    "\n",
    "Now, answer this question using the above context:\n",
    "\n",
    "{question}`;\n",
    "\n",
    "const answerGenerationPrompt = ChatPromptTemplate.fromTemplate(\n",
    "    TEMPLATE_STRING\n",
    ");"
   ]
  },
  {
   "cell_type": "code",
   "execution_count": 8,
   "id": "c2581cfc-aec6-4600-860c-1e100d42a382",
   "metadata": {
    "height": 183
   },
   "outputs": [
    {
     "data": {
      "text/plain": [
       "{\n",
       "  question: \u001b[32m\"What are the prerequisites for this course?\"\u001b[39m,\n",
       "  context: \u001b[32m\"<doc>\\n\"\u001b[39m +\n",
       "    \u001b[32m\"course information handout. So let me just say a few words about parts of these. On the \\n\"\u001b[39m +\n",
       "    \u001b[32m\"third page, there's a section that says Online Resources.  \\n\"\u001b[39m +\n",
       "    \u001b[32m\"Oh, okay. Louder? Actually, could you turn up the volume? Testing. Is this better? \\n\"\u001b[39m +\n",
       "    \u001b[32m\"Testing, testing. Okay, cool. Thanks.\\n\"\u001b[39m +\n",
       "    \u001b[32m\"</doc>\\n\"\u001b[39m +\n",
       "    \u001b[32m\"<doc>\\n\"\u001b[39m +\n",
       "    \u001b[32m\"of this class will not be very programming intensive, although we will do some \\n\"\u001b[39m +\n",
       "    \u001b[32m\"programming, mostly in either MATLAB or Octave. I'll say a bit more about that later.  \\n\"\u001b[39m +\n",
       "    \u001b[32m\"I also assume familiarity with basic probability and statistics. So most undergraduate \\n\"\u001b[39m +\n",
       "    \u001b[32m\"statistics class, like Stat 116 taught here at Stanford, will be more than enough. I'm gonna \\n\"\u001b[39m +\n",
       "    \u001b[32m\"assume all of you know what random variables are, that all of you know what expectation \\n\"\u001b[39m +\n",
       "    \u001b[32m\"is, what a variance or a random variable is. And in case of some of you, it's been a while \\n\"\u001b[39m +\n",
       "    \u001b[32m\"since you've seen some of this material. At some of the discussion sections, we'll actually \\n\"\u001b[39m +\n",
       "    \u001b[32m\"go over some of the prerequisites, sort of as a refresher course under prerequisite class. \\n\"\u001b[39m +\n",
       "    \u001b[32m\"I'll say a bit more about that later as well.  \\n\"\u001b[39m +\n",
       "    \u001b[32m\"Lastly, I also assume familiarity with basic linear algebra. And again, most undergraduate \\n\"\u001b[39m +\n",
       "    \u001b[32m\"linear algebra courses are more than enough. So if you've taken courses like Math 51, \\n\"\u001b[39m +\n",
       "    \u001b[32m\"103, Math 113 or CS205 at Stanford, that would be more than enough. Basically, I'm \\n\"\u001b[39m +\n",
       "    \u001b[32m\"gonna assume that all of you know what matrixes and vectors are, that you know how to \\n\"\u001b[39m +\n",
       "    \u001b[32m\"multiply matrices and vectors and multiply matrix and matrices, that you know what a \\n\"\u001b[39m +\n",
       "    \u001b[32m\"matrix inverse is. If you know what an eigenvector of a matrix is, that'd be even better. \\n\"\u001b[39m +\n",
       "    \u001b[32m\"But if you don't quite know or if you're not quite sure, that's fine, too. We'll go over it in \\n\"\u001b[39m +\n",
       "    \u001b[32m\"the review sections.  \\n\"\u001b[39m +\n",
       "    \u001b[32m\"So there are a couple more logistical things I should deal with in this class. One is that, as\\n\"\u001b[39m +\n",
       "    \u001b[32m\"</doc>\\n\"\u001b[39m +\n",
       "    \u001b[32m\"<doc>\\n\"\u001b[39m +\n",
       "    \u001b[32m\"material that I'm teaching in the main lectures. So machine learning is a huge field, and \\n\"\u001b[39m +\n",
       "    \u001b[32m\"there are a few extensions that we really want to teach but didn't have time in the main \\n\"\u001b[39m +\n",
       "    \u001b[32m\"lectures for.\\n\"\u001b[39m +\n",
       "    \u001b[32m\"</doc>\\n\"\u001b[39m +\n",
       "    \u001b[32m\"<doc>\\n\"\u001b[39m +\n",
       "    \u001b[32m\"MachineLearning-Lecture01  \\n\"\u001b[39m +\n",
       "    \u001b[32m\"Instructor (Andrew Ng): Okay. Good morning. Welcome to CS229, the machine \\n\"\u001b[39m +\n",
       "    \u001b[32m\"learning class. So what I wanna do today is just spend a little time going over the logistics \\n\"\u001b[39m +\n",
       "    \u001b[32m\"of the class, and then we'll start to talk a bit about machine learning.  \\n\"\u001b[39m +\n",
       "    \u001b[32m\"By way of introduction, my name's Andrew Ng and I'll be instructor for this class. And so \\n\"\u001b[39m +\n",
       "    \u001b[32m\"I personally work in machine learning, and I've worked on it for about 15 years now, and \\n\"\u001b[39m +\n",
       "    \u001b[32m\"I actually think that machine learning is the most exciting field of all the computer \\n\"\u001b[39m +\n",
       "    \u001b[32m\"sciences. So I'm actually always excited about teaching this class. Sometimes I actually \\n\"\u001b[39m +\n",
       "    \u001b[32m\"think that machine learning is not only the most exciting thing in computer science, but \\n\"\u001b[39m +\n",
       "    \u001b[32m\"the most exciting thing in all of human endeavor, so maybe a little bias there.  \\n\"\u001b[39m +\n",
       "    \u001b[32m\"I also want to introduce the TAs, who are all graduate students doing research in or \\n\"\u001b[39m +\n",
       "    \u001b[32m\"related to the machine learning and all aspects of machine learning. Paul Baumstarck \\n\"\u001b[39m +\n",
       "    \u001b[32m\"works in machine learning and computer vision. Catie Chang is actually a neuroscientist \\n\"\u001b[39m +\n",
       "    \u001b[32m\"who applies machine learning algorithms to try to understand the human brain. Tom Do \\n\"\u001b[39m +\n",
       "    \u001b[32m\"is another PhD student, works in computational biology and in sort of the basic \\n\"\u001b[39m +\n",
       "    \u001b[32m\"fundamentals of human learning. Zico Kolter is the head TA — he's head TA two years \\n\"\u001b[39m +\n",
       "    \u001b[32m\"in a row now — works in machine learning and applies them to a bunch of robots. And \\n\"\u001b[39m +\n",
       "    \u001b[32m\"Daniel Ramage is — I guess he's not here — Daniel applies learning algorithms to \\n\"\u001b[39m +\n",
       "    \u001b[32m\"problems in natural language processing.\\n\"\u001b[39m +\n",
       "    \u001b[32m\"</doc>\"\u001b[39m\n",
       "}"
      ]
     },
     "execution_count": 8,
     "metadata": {},
     "output_type": "execute_result"
    }
   ],
   "source": [
    "import { RunnableMap } from \"@langchain/core/runnables\";\n",
    "\n",
    "const runnableMap = RunnableMap.from({\n",
    "  context: documentRetrievalChain,\n",
    "  question: (input) => input.question,\n",
    "});\n",
    "\n",
    "await runnableMap.invoke({\n",
    "    question: \"What are the prerequisites for this course?\"\n",
    "})"
   ]
  },
  {
   "cell_type": "markdown",
   "id": "4fcd402e-854d-448b-b402-241d9cbaedd2",
   "metadata": {},
   "source": [
    "# Augmented generation"
   ]
  },
  {
   "cell_type": "code",
   "execution_count": 9,
   "id": "6da99c5b-08d1-4f6c-a4dd-aed004b6e023",
   "metadata": {
    "height": 115
   },
   "outputs": [],
   "source": [
    "import { ChatOpenAI } from \"@langchain/openai\";\n",
    "import { StringOutputParser } from \"@langchain/core/output_parsers\";\n",
    "\n",
    "const model = new ChatOpenAI({\n",
    "    modelName: \"gpt-3.5-turbo-1106\"\n",
    "});"
   ]
  },
  {
   "cell_type": "code",
   "execution_count": 10,
   "id": "9699b4e1-a46c-44e2-8f13-2f6ff62f49e9",
   "metadata": {
    "height": 166
   },
   "outputs": [],
   "source": [
    "const retrievalChain = RunnableSequence.from([\n",
    "  {\n",
    "    context: documentRetrievalChain,\n",
    "    question: (input) => input.question,\n",
    "  },\n",
    "  answerGenerationPrompt,\n",
    "  model,\n",
    "  new StringOutputParser(),\n",
    "]);"
   ]
  },
  {
   "cell_type": "code",
   "execution_count": 11,
   "id": "8219b6ca-bf2d-4471-91f8-b3e6870ce07e",
   "metadata": {
    "height": 98
   },
   "outputs": [
    {
     "name": "stdout",
     "output_type": "stream",
     "text": [
      "The prerequisites for this course include familiarity with basic probability and statistics, as well as basic linear algebra. The instructor assumes that students are familiar with random variables, expectation, variance, matrices, vectors, matrix multiplication, matrices inverses, and possibly eigenvectors. The instructor also mentioned that most undergraduate statistics classes and linear algebra courses would be sufficient preparation for the course. Additionally, there may be refresher courses offered during discussion sections for those who need to brush up on these topics.\n"
     ]
    }
   ],
   "source": [
    "const answer = await retrievalChain.invoke({\n",
    "  question: \"What are the prerequisites for this course?\"\n",
    "});\n",
    "\n",
    "console.log(answer);"
   ]
  },
  {
   "cell_type": "code",
   "execution_count": 12,
   "id": "66d091de-c9a8-429f-8bda-d43b489cdace",
   "metadata": {
    "height": 98
   },
   "outputs": [
    {
     "name": "stdout",
     "output_type": "stream",
     "text": [
      "Based on the provided context, the information does not give a specific list or details to be outlined in bullet point form. It primarily consists of a course lecture discussing supervised learning, machine learning applications, and logistics. If you have a specific topic or information you'd like to list in bullet points, please provide additional context or details for me to work with.\n"
     ]
    }
   ],
   "source": [
    "const followupAnswer = await retrievalChain.invoke({\n",
    "  question: \"Can you list them in bullet point form?\"\n",
    "});\n",
    "\n",
    "console.log(followupAnswer);"
   ]
  },
  {
   "cell_type": "code",
   "execution_count": 13,
   "id": "c0ce99cb-ab2f-4443-93c8-a5f7c979de71",
   "metadata": {
    "height": 98
   },
   "outputs": [
    {
     "name": "stdout",
     "output_type": "stream",
     "text": [
      "<doc>\n",
      "course information handout. So let me just say a few words about parts of these. On the \n",
      "third page, there's a section that says Online Resources.  \n",
      "Oh, okay. Louder? Actually, could you turn up the volume? Testing. Is this better? \n",
      "Testing, testing. Okay, cool. Thanks.\n",
      "</doc>\n",
      "<doc>\n",
      "into four major sections. We're gonna talk about four major topics in this class, the first \n",
      "of which is supervised learning. So let me give you an example of that.  \n",
      "So suppose you collect a data set of housing prices. And one of the TAs, Dan Ramage, \n",
      "actually collected a data set for me last week to use in the example later. But suppose that \n",
      "you go to collect statistics about how much houses cost in a certain geographic area. And \n",
      "Dan, the TA, collected data from housing prices in Portland, Oregon. So what you can do \n",
      "is let's say plot the square footage of the house against the list price of the house, right, so \n",
      "you collect data on a bunch of houses. And let's say you get a data set like this with \n",
      "houses of different sizes that are listed for different amounts of money.  \n",
      "Now, let's say that I'm trying to sell a house in the same area as Portland, Oregon as \n",
      "where the data comes from. Let's say I have a house that's this size in square footage, and \n",
      "I want an algorithm to tell me about how much should I expect my house to sell for. So \n",
      "there are lots of ways to do this, and some of you may have seen elements of what I'm \n",
      "about to say before.  \n",
      "So one thing you could do is look at this data and maybe put a straight line to it. And then \n",
      "if this is my house, you may then look at the straight line and predict that my house is \n",
      "gonna go for about that much money, right? There are other decisions that we can make, \n",
      "which we'll talk about later, which is, well, what if I don't wanna put a straight line?\n",
      "</doc>\n",
      "<doc>\n",
      "which we'll talk about later, which is, well, what if I don't wanna put a straight line? \n",
      "Maybe I should put a quadratic function to it. Maybe that fits the data a little bit better. \n",
      "You notice if you do that, the price of my house goes up a bit, so that'd be nice.\n",
      "</doc>\n",
      "<doc>\n",
      "joys of machine learning firsthand and really try to think about doing a publishable piece \n",
      "of work.  \n",
      "So many students will try to build a cool machine learning application. That's probably \n",
      "the most common project. Some students will try to improve state-of-the-art machine \n",
      "learning. Some of those projects are also very successful. It's a little bit harder to do. And \n",
      "there's also a smaller minority of students that will sometimes try to prove — develop the \n",
      "theory of machine learning further or try to prove theorems about machine learning. So \n",
      "they're usually great projects of all of those types with applications and machine learning \n",
      "being the most common. Anything else? Okay, cool.  \n",
      "So that was it for logistics. Let's talk about learning algorithms. So can I have the laptop \n",
      "display, please, or the projector? Actually, could you lower the big screen? Cool. This is \n",
      "amazing customer service. Thank you. I see. Okay, cool. Okay. No, that's fine. I see. \n",
      "Okay. That's cool. Thanks. Okay.  \n",
      "Big screen isn't working today, but I hope you can read things on the smaller screens out \n",
      "there. Actually, [inaudible] I think this room just got a new projector that — someone \n",
      "sent you an excited email — was it just on Friday? — saying we just got a new projector \n",
      "and they said 4,000-to-1 something or other brightness ratio. I don't know. Someone was \n",
      "very excited about the new projector in this room, but I guess we'll see that in operation \n",
      "on Wednesday.\n",
      "</doc>\n"
     ]
    }
   ],
   "source": [
    "const docs = await documentRetrievalChain.invoke({\n",
    "  question: \"Can you list them in bullet point form?\"\n",
    "});\n",
    "\n",
    "console.log(docs);"
   ]
  },
  {
   "cell_type": "code",
   "execution_count": null,
   "id": "0ac36205-de1c-4cfb-81e8-9c9d1525b338",
   "metadata": {
    "height": 30
   },
   "outputs": [],
   "source": []
  },
  {
   "cell_type": "code",
   "execution_count": null,
   "id": "b547772d-4f1f-48e8-b381-138b30d993af",
   "metadata": {
    "height": 30
   },
   "outputs": [],
   "source": []
  },
  {
   "cell_type": "code",
   "execution_count": null,
   "id": "ac25b85d-dd40-42a1-8374-6c778e86c9d8",
   "metadata": {
    "height": 30
   },
   "outputs": [],
   "source": []
  },
  {
   "cell_type": "code",
   "execution_count": null,
   "id": "7af107da-cf4c-4900-a456-d131ff8fbc80",
   "metadata": {
    "height": 30
   },
   "outputs": [],
   "source": []
  },
  {
   "cell_type": "code",
   "execution_count": null,
   "id": "fbcaa28f-5057-4109-80c1-406ec47bd9eb",
   "metadata": {
    "height": 30
   },
   "outputs": [],
   "source": []
  },
  {
   "cell_type": "code",
   "execution_count": null,
   "id": "464b5f7d-75e0-4366-8adf-48053f19229d",
   "metadata": {
    "height": 30
   },
   "outputs": [],
   "source": []
  },
  {
   "cell_type": "code",
   "execution_count": null,
   "id": "e50feff9-72d1-4c1a-96b9-ec80ccde87f9",
   "metadata": {
    "height": 30
   },
   "outputs": [],
   "source": []
  },
  {
   "cell_type": "code",
   "execution_count": null,
   "id": "258343e5-e488-4c2c-938b-8c3189ef959d",
   "metadata": {
    "height": 30
   },
   "outputs": [],
   "source": []
  },
  {
   "cell_type": "code",
   "execution_count": null,
   "id": "6ec20e0c-389f-4cd1-b5df-67f6d706fb4e",
   "metadata": {
    "height": 30
   },
   "outputs": [],
   "source": []
  },
  {
   "cell_type": "code",
   "execution_count": null,
   "id": "a4b2b76f-f963-4226-95f1-42d15487f0ca",
   "metadata": {
    "height": 30
   },
   "outputs": [],
   "source": []
  },
  {
   "cell_type": "code",
   "execution_count": null,
   "id": "99a497d1-0587-431b-bc54-657e935af6df",
   "metadata": {
    "height": 30
   },
   "outputs": [],
   "source": []
  },
  {
   "cell_type": "code",
   "execution_count": null,
   "id": "12805d9a-d5fe-48d5-acf3-d88a929e9d21",
   "metadata": {
    "height": 30
   },
   "outputs": [],
   "source": []
  }
 ],
 "metadata": {
  "kernelspec": {
   "display_name": "Deno",
   "language": "typescript",
   "name": "deno"
  },
  "language_info": {
   "codemirror_mode": "typescript",
   "file_extension": ".ts",
   "mimetype": "text/x.typescript",
   "name": "typescript",
   "nbconvert_exporter": "script",
   "pygments_lexer": "typescript",
   "version": "5.5.2"
  }
 },
 "nbformat": 4,
 "nbformat_minor": 5
}
