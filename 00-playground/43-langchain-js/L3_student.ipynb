{
 "cells": [
  {
   "cell_type": "markdown",
   "id": "94712c4b-5f3f-4d93-a9f4-d33620946c99",
   "metadata": {},
   "source": [
    "# Lesson 3: Vectorstores and embeddings"
   ]
  },
  {
   "cell_type": "markdown",
   "id": "00329cd1-0de7-4b69-b474-d9d315d93f6a",
   "metadata": {},
   "source": [
    "# Vectorstore ingestion"
   ]
  },
  {
   "cell_type": "code",
   "execution_count": 1,
   "id": "634988ed-0a57-49bc-9261-dc19fe66529b",
   "metadata": {
    "height": 30
   },
   "outputs": [
    {
     "data": {
      "text/plain": [
       "[Module: null prototype] { default: {} }"
      ]
     },
     "execution_count": 1,
     "metadata": {},
     "output_type": "execute_result"
    }
   ],
   "source": [
    "import \"dotenv/config\";"
   ]
  },
  {
   "cell_type": "code",
   "execution_count": 2,
   "id": "b997a07f-bfb0-407b-8959-fc0c467bd30f",
   "metadata": {
    "height": 98
   },
   "outputs": [
    {
     "data": {
      "text/plain": [
       "[\n",
       "   \u001b[33m-0.010416139\u001b[39m,   \u001b[33m0.0024119338\u001b[39m, \u001b[33m-0.00073926017\u001b[39m,  \u001b[33m-0.010882434\u001b[39m,  \u001b[33m-0.0114866495\u001b[39m,\n",
       "    \u001b[33m0.022907624\u001b[39m,   \u001b[33m-0.014645643\u001b[39m,    \u001b[33m0.001761746\u001b[39m,   \u001b[33m-0.01757477\u001b[39m,     \u001b[33m-0.0192692\u001b[39m,\n",
       "    \u001b[33m0.005201502\u001b[39m,    \u001b[33m0.034151275\u001b[39m,   \u001b[33m-0.012268188\u001b[39m,  \u001b[33m0.0019308605\u001b[39m,    \u001b[33m0.004745057\u001b[39m,\n",
       "    \u001b[33m0.013174511\u001b[39m,    \u001b[33m0.024588916\u001b[39m,   \u001b[33m0.0017256244\u001b[39m,  \u001b[33m0.0045020576\u001b[39m,  \u001b[33m-0.0062358915\u001b[39m,\n",
       "  \u001b[33m-0.0050931373\u001b[39m,   \u001b[33m-0.000690414\u001b[39m,   \u001b[33m-0.008183171\u001b[39m,   \u001b[33m0.014002022\u001b[39m,   \u001b[33m-0.009010682\u001b[39m,\n",
       "  \u001b[33m-0.0040620314\u001b[39m, \u001b[33m-0.00077127694\u001b[39m,   \u001b[33m-0.019728929\u001b[39m,   \u001b[33m0.003966802\u001b[39m,  \u001b[33m-0.0016689793\u001b[39m,\n",
       "    \u001b[33m0.016051099\u001b[39m,   \u001b[33m-0.021935627\u001b[39m, \u001b[33m-0.00076758274\u001b[39m,  \u001b[33m-0.022316543\u001b[39m,   \u001b[33m0.0063278372\u001b[39m,\n",
       "    \u001b[33m0.007046984\u001b[39m,   \u001b[33m-0.011184542\u001b[39m,   \u001b[33m-0.013502888\u001b[39m,   \u001b[33m0.028818421\u001b[39m,   \u001b[33m-0.023577515\u001b[39m,\n",
       "    \u001b[33m0.006922201\u001b[39m,    \u001b[33m0.017561637\u001b[39m,    \u001b[33m0.017298933\u001b[39m,  \u001b[33m-0.005887811\u001b[39m,  \u001b[33m-0.0038847073\u001b[39m,\n",
       "    \u001b[33m-0.01435667\u001b[39m,  \u001b[33m-0.0017584623\u001b[39m,  \u001b[33m-0.0060027433\u001b[39m,  \u001b[33m-0.007894198\u001b[39m,    \u001b[33m0.010448976\u001b[39m,\n",
       "    \u001b[33m0.032837763\u001b[39m, \u001b[33m-0.00082504883\u001b[39m,   \u001b[33m-0.024063513\u001b[39m, \u001b[33m-0.0033363167\u001b[39m, \u001b[33m-0.00088251487\u001b[39m,\n",
       "   \u001b[33m0.0026319467\u001b[39m,   \u001b[33m-0.022487301\u001b[39m,    \u001b[33m0.025271943\u001b[39m,   \u001b[33m0.019781468\u001b[39m,    \u001b[33m0.010797056\u001b[39m,\n",
       "   \u001b[33m-0.011677109\u001b[39m,  \u001b[33m-0.0025071632\u001b[39m,   \u001b[33m0.0023987987\u001b[39m, \u001b[33m-0.0073556593\u001b[39m,  \u001b[33m-0.0012724634\u001b[39m,\n",
       "   \u001b[33m-0.020083576\u001b[39m,   \u001b[33m-0.016471421\u001b[39m,   \u001b[33m-0.003523492\u001b[39m,   \u001b[33m0.011959514\u001b[39m,     \u001b[33m0.01677353\u001b[39m,\n",
       "    \u001b[33m0.028082855\u001b[39m,    \u001b[33m0.017706122\u001b[39m,   \u001b[33m-0.009240546\u001b[39m,  \u001b[33m-0.014868939\u001b[39m,  \u001b[33m-0.0006592181\u001b[39m,\n",
       "   \u001b[33m0.0081963055\u001b[39m,   \u001b[33m-0.020635251\u001b[39m,    \u001b[33m0.014776994\u001b[39m,   \u001b[33m0.009641168\u001b[39m,   \u001b[33m-0.013220483\u001b[39m,\n",
       "    \u001b[33m0.018205255\u001b[39m,   \u001b[33m-0.039562937\u001b[39m,   \u001b[33m0.0001316589\u001b[39m,   \u001b[33m0.024693998\u001b[39m,   \u001b[33m0.0063803773\u001b[39m,\n",
       "  \u001b[33m-0.0050077587\u001b[39m,    \u001b[33m0.009188007\u001b[39m,    \u001b[33m0.030394634\u001b[39m,    \u001b[33m-0.0257054\u001b[39m,   \u001b[33m-0.010619733\u001b[39m,\n",
       "  \u001b[33m-0.0021968463\u001b[39m,    \u001b[33m0.017325204\u001b[39m,   \u001b[33m0.0015663613\u001b[39m,    \u001b[33m0.02377454\u001b[39m,   \u001b[33m-0.020333143\u001b[39m,\n",
       "     \u001b[33m0.03131409\u001b[39m,  \u001b[33m-0.0099498425\u001b[39m,     \u001b[33m0.03233863\u001b[39m, \u001b[33m-0.0015236723\u001b[39m,   \u001b[33m-0.026664265\u001b[39m,\n",
       "  ... 1436 more items\n",
       "]"
      ]
     },
     "execution_count": 2,
     "metadata": {},
     "output_type": "execute_result"
    }
   ],
   "source": [
    "import { OpenAIEmbeddings } from \"@langchain/openai\";\n",
    "\n",
    "const embeddings = new OpenAIEmbeddings();\n",
    "\n",
    "await embeddings.embedQuery(\"This is some sample text\");"
   ]
  },
  {
   "cell_type": "code",
   "execution_count": 3,
   "id": "cd470c94-5bec-4efe-8395-416b0a408f8b",
   "metadata": {
    "height": 149
   },
   "outputs": [],
   "source": [
    "import { similarity } from \"ml-distance\";\n",
    "\n",
    "const vector1 = await embeddings.embedQuery(\n",
    "    \"What are vectors useful for in machine learning?\"\n",
    ");\n",
    "const unrelatedVector = await embeddings.embedQuery(\n",
    "    \"A group of parrots is called a pandemonium.\"\n",
    ");"
   ]
  },
  {
   "cell_type": "code",
   "execution_count": 4,
   "id": "4476713f-5285-4d2f-9126-d30ee9825090",
   "metadata": {
    "height": 30
   },
   "outputs": [
    {
     "data": {
      "text/plain": [
       "\u001b[33m0.6959591747618556\u001b[39m"
      ]
     },
     "execution_count": 4,
     "metadata": {},
     "output_type": "execute_result"
    }
   ],
   "source": [
    "similarity.cosine(vector1, unrelatedVector);"
   ]
  },
  {
   "cell_type": "code",
   "execution_count": 5,
   "id": "17ff1478-261f-4f6d-ae0e-5d9d90df086d",
   "metadata": {
    "height": 98
   },
   "outputs": [
    {
     "data": {
      "text/plain": [
       "\u001b[33m0.8586349152599215\u001b[39m"
      ]
     },
     "execution_count": 5,
     "metadata": {},
     "output_type": "execute_result"
    }
   ],
   "source": [
    "const similarVector = await embeddings.embedQuery(\n",
    "    \"Vectors are representations of information.\"\n",
    ");\n",
    "\n",
    "similarity.cosine(vector1, similarVector);"
   ]
  },
  {
   "cell_type": "code",
   "execution_count": 6,
   "id": "4f3366a1-4f80-4d4f-b49b-d7223b143d97",
   "metadata": {
    "height": 302
   },
   "outputs": [],
   "source": [
    "// Peer dependency\n",
    "import * as parse from \"pdf-parse\";\n",
    "import { PDFLoader } from \"langchain/document_loaders/fs/pdf\";\n",
    "import { \n",
    "    RecursiveCharacterTextSplitter\n",
    "} from \"langchain/text_splitter\";\n",
    "\n",
    "const loader = new PDFLoader(\"./data/MachineLearning-Lecture01.pdf\");\n",
    "\n",
    "const rawCS229Docs = await loader.load();\n",
    "\n",
    "const splitter = new RecursiveCharacterTextSplitter({\n",
    "  chunkSize: 128,\n",
    "  chunkOverlap: 0,\n",
    "});\n",
    "\n",
    "const splitDocs = await splitter.splitDocuments(rawCS229Docs);"
   ]
  },
  {
   "cell_type": "code",
   "execution_count": 7,
   "id": "c2581cfc-aec6-4600-860c-1e100d42a382",
   "metadata": {
    "height": 64
   },
   "outputs": [],
   "source": [
    "import { MemoryVectorStore } from \"langchain/vectorstores/memory\";\n",
    "\n",
    "const vectorstore = new MemoryVectorStore(embeddings);"
   ]
  },
  {
   "cell_type": "code",
   "execution_count": 8,
   "id": "10a566f9-4c8e-4199-a394-f52baaceac4d",
   "metadata": {
    "height": 30
   },
   "outputs": [],
   "source": [
    "await vectorstore.addDocuments(splitDocs);"
   ]
  },
  {
   "cell_type": "code",
   "execution_count": 9,
   "id": "6da99c5b-08d1-4f6c-a4dd-aed004b6e023",
   "metadata": {
    "height": 149
   },
   "outputs": [
    {
     "data": {
      "text/plain": [
       "[\n",
       "  \u001b[32m\"piece of research in machine learning, okay?\"\u001b[39m,\n",
       "  \u001b[32m\"are using a learning algorithm, perhaps without even being aware of it.\"\u001b[39m,\n",
       "  \u001b[32m\"some of my own excitement about machine learning to you.\"\u001b[39m,\n",
       "  \u001b[32m\"of the class, and then we'll start to talk a bit about machine learning.\"\u001b[39m\n",
       "]"
      ]
     },
     "execution_count": 9,
     "metadata": {},
     "output_type": "execute_result"
    }
   ],
   "source": [
    "const retrievedDocs = await vectorstore.similaritySearch(\n",
    "    \"What is deep learning?\", \n",
    "    4\n",
    ");\n",
    "\n",
    "const pageContents = retrievedDocs.map(doc => doc.pageContent);\n",
    "\n",
    "pageContents"
   ]
  },
  {
   "cell_type": "markdown",
   "id": "e64cc739-abaf-4e8a-a142-b4cd77abab40",
   "metadata": {},
   "source": [
    "# Retrievers"
   ]
  },
  {
   "cell_type": "code",
   "execution_count": 10,
   "id": "f5e32044-6e84-470a-91a7-262918d5a22b",
   "metadata": {
    "height": 30
   },
   "outputs": [],
   "source": [
    "const retriever = vectorstore.asRetriever();"
   ]
  },
  {
   "cell_type": "code",
   "execution_count": 11,
   "id": "0d678f1d-c37c-462f-96ba-d1c84ab35482",
   "metadata": {
    "height": 30
   },
   "outputs": [
    {
     "data": {
      "text/plain": [
       "[\n",
       "  Document {\n",
       "    pageContent: \u001b[32m\"piece of research in machine learning, okay?\"\u001b[39m,\n",
       "    metadata: {\n",
       "      source: \u001b[32m\"./data/MachineLearning-Lecture01.pdf\"\u001b[39m,\n",
       "      pdf: {\n",
       "        version: \u001b[32m\"1.10.100\"\u001b[39m,\n",
       "        info: {\n",
       "          PDFFormatVersion: \u001b[32m\"1.4\"\u001b[39m,\n",
       "          IsAcroFormPresent: \u001b[33mfalse\u001b[39m,\n",
       "          IsXFAPresent: \u001b[33mfalse\u001b[39m,\n",
       "          Title: \u001b[32m\"\"\u001b[39m,\n",
       "          Author: \u001b[32m\"\"\u001b[39m,\n",
       "          Creator: \u001b[32m\"PScript5.dll Version 5.2.2\"\u001b[39m,\n",
       "          Producer: \u001b[32m\"Acrobat Distiller 8.1.0 (Windows)\"\u001b[39m,\n",
       "          CreationDate: \u001b[32m\"D:20080711112523-07'00'\"\u001b[39m,\n",
       "          ModDate: \u001b[32m\"D:20080711112523-07'00'\"\u001b[39m\n",
       "        },\n",
       "        metadata: Metadata { _metadata: \u001b[36m[Object: null prototype]\u001b[39m },\n",
       "        totalPages: \u001b[33m22\u001b[39m\n",
       "      },\n",
       "      loc: { pageNumber: \u001b[33m8\u001b[39m, lines: { from: \u001b[33m2\u001b[39m, to: \u001b[33m2\u001b[39m } }\n",
       "    }\n",
       "  },\n",
       "  Document {\n",
       "    pageContent: \u001b[32m\"are using a learning algorithm, perhaps without even being aware of it.\"\u001b[39m,\n",
       "    metadata: {\n",
       "      source: \u001b[32m\"./data/MachineLearning-Lecture01.pdf\"\u001b[39m,\n",
       "      pdf: {\n",
       "        version: \u001b[32m\"1.10.100\"\u001b[39m,\n",
       "        info: {\n",
       "          PDFFormatVersion: \u001b[32m\"1.4\"\u001b[39m,\n",
       "          IsAcroFormPresent: \u001b[33mfalse\u001b[39m,\n",
       "          IsXFAPresent: \u001b[33mfalse\u001b[39m,\n",
       "          Title: \u001b[32m\"\"\u001b[39m,\n",
       "          Author: \u001b[32m\"\"\u001b[39m,\n",
       "          Creator: \u001b[32m\"PScript5.dll Version 5.2.2\"\u001b[39m,\n",
       "          Producer: \u001b[32m\"Acrobat Distiller 8.1.0 (Windows)\"\u001b[39m,\n",
       "          CreationDate: \u001b[32m\"D:20080711112523-07'00'\"\u001b[39m,\n",
       "          ModDate: \u001b[32m\"D:20080711112523-07'00'\"\u001b[39m\n",
       "        },\n",
       "        metadata: Metadata { _metadata: \u001b[36m[Object: null prototype]\u001b[39m },\n",
       "        totalPages: \u001b[33m22\u001b[39m\n",
       "      },\n",
       "      loc: { pageNumber: \u001b[33m3\u001b[39m, lines: { from: \u001b[33m39\u001b[39m, to: \u001b[33m39\u001b[39m } }\n",
       "    }\n",
       "  },\n",
       "  Document {\n",
       "    pageContent: \u001b[32m\"some of my own excitement about machine learning to you.\"\u001b[39m,\n",
       "    metadata: {\n",
       "      source: \u001b[32m\"./data/MachineLearning-Lecture01.pdf\"\u001b[39m,\n",
       "      pdf: {\n",
       "        version: \u001b[32m\"1.10.100\"\u001b[39m,\n",
       "        info: {\n",
       "          PDFFormatVersion: \u001b[32m\"1.4\"\u001b[39m,\n",
       "          IsAcroFormPresent: \u001b[33mfalse\u001b[39m,\n",
       "          IsXFAPresent: \u001b[33mfalse\u001b[39m,\n",
       "          Title: \u001b[32m\"\"\u001b[39m,\n",
       "          Author: \u001b[32m\"\"\u001b[39m,\n",
       "          Creator: \u001b[32m\"PScript5.dll Version 5.2.2\"\u001b[39m,\n",
       "          Producer: \u001b[32m\"Acrobat Distiller 8.1.0 (Windows)\"\u001b[39m,\n",
       "          CreationDate: \u001b[32m\"D:20080711112523-07'00'\"\u001b[39m,\n",
       "          ModDate: \u001b[32m\"D:20080711112523-07'00'\"\u001b[39m\n",
       "        },\n",
       "        metadata: Metadata { _metadata: \u001b[36m[Object: null prototype]\u001b[39m },\n",
       "        totalPages: \u001b[33m22\u001b[39m\n",
       "      },\n",
       "      loc: { pageNumber: \u001b[33m4\u001b[39m, lines: { from: \u001b[33m24\u001b[39m, to: \u001b[33m24\u001b[39m } }\n",
       "    }\n",
       "  },\n",
       "  Document {\n",
       "    pageContent: \u001b[32m\"of the class, and then we'll start to talk a bit about machine learning.\"\u001b[39m,\n",
       "    metadata: {\n",
       "      source: \u001b[32m\"./data/MachineLearning-Lecture01.pdf\"\u001b[39m,\n",
       "      pdf: {\n",
       "        version: \u001b[32m\"1.10.100\"\u001b[39m,\n",
       "        info: {\n",
       "          PDFFormatVersion: \u001b[32m\"1.4\"\u001b[39m,\n",
       "          IsAcroFormPresent: \u001b[33mfalse\u001b[39m,\n",
       "          IsXFAPresent: \u001b[33mfalse\u001b[39m,\n",
       "          Title: \u001b[32m\"\"\u001b[39m,\n",
       "          Author: \u001b[32m\"\"\u001b[39m,\n",
       "          Creator: \u001b[32m\"PScript5.dll Version 5.2.2\"\u001b[39m,\n",
       "          Producer: \u001b[32m\"Acrobat Distiller 8.1.0 (Windows)\"\u001b[39m,\n",
       "          CreationDate: \u001b[32m\"D:20080711112523-07'00'\"\u001b[39m,\n",
       "          ModDate: \u001b[32m\"D:20080711112523-07'00'\"\u001b[39m\n",
       "        },\n",
       "        metadata: Metadata { _metadata: \u001b[36m[Object: null prototype]\u001b[39m },\n",
       "        totalPages: \u001b[33m22\u001b[39m\n",
       "      },\n",
       "      loc: { pageNumber: \u001b[33m1\u001b[39m, lines: { from: \u001b[33m4\u001b[39m, to: \u001b[33m4\u001b[39m } }\n",
       "    }\n",
       "  }\n",
       "]"
      ]
     },
     "execution_count": 11,
     "metadata": {},
     "output_type": "execute_result"
    }
   ],
   "source": [
    "await retriever.invoke(\"What is deep learning?\")"
   ]
  },
  {
   "cell_type": "code",
   "execution_count": null,
   "id": "18f6254b-5eaf-4867-999b-97d08f96cee9",
   "metadata": {
    "height": 30
   },
   "outputs": [],
   "source": []
  },
  {
   "cell_type": "code",
   "execution_count": null,
   "id": "c326a7cc-d9be-432c-be10-7846d2b8e5e9",
   "metadata": {
    "height": 30
   },
   "outputs": [],
   "source": []
  },
  {
   "cell_type": "code",
   "execution_count": null,
   "id": "8b25e21c-28d0-4329-852e-b96a14c38529",
   "metadata": {
    "height": 30
   },
   "outputs": [],
   "source": []
  },
  {
   "cell_type": "code",
   "execution_count": null,
   "id": "520b4a9b-89de-4652-b238-b7dddbd5a2c2",
   "metadata": {
    "height": 30
   },
   "outputs": [],
   "source": []
  },
  {
   "cell_type": "code",
   "execution_count": null,
   "id": "c325c8b5-9292-41f2-ad10-3ad0ad3df182",
   "metadata": {
    "height": 30
   },
   "outputs": [],
   "source": []
  },
  {
   "cell_type": "code",
   "execution_count": null,
   "id": "f5fe1d4c-9075-47d4-8451-b9bbc1115668",
   "metadata": {
    "height": 30
   },
   "outputs": [],
   "source": []
  },
  {
   "cell_type": "code",
   "execution_count": null,
   "id": "9cb3853d-826c-4e1f-a413-9f9f0faf62fe",
   "metadata": {
    "height": 30
   },
   "outputs": [],
   "source": []
  },
  {
   "cell_type": "code",
   "execution_count": null,
   "id": "3dd60bd2-fcc1-4f96-8763-969e30d52c13",
   "metadata": {
    "height": 30
   },
   "outputs": [],
   "source": []
  },
  {
   "cell_type": "code",
   "execution_count": null,
   "id": "c8f81c9f-88d7-470a-b597-c4137c9d35a4",
   "metadata": {
    "height": 30
   },
   "outputs": [],
   "source": []
  },
  {
   "cell_type": "code",
   "execution_count": null,
   "id": "c3b2e1ba-0419-4276-bdb4-3b044b3a7f46",
   "metadata": {
    "height": 30
   },
   "outputs": [],
   "source": []
  },
  {
   "cell_type": "code",
   "execution_count": null,
   "id": "24bc88b0-851c-4304-a085-ac0cba9f615f",
   "metadata": {
    "height": 30
   },
   "outputs": [],
   "source": []
  },
  {
   "cell_type": "code",
   "execution_count": null,
   "id": "f35a5209-e820-496b-9abc-60ade9f22d7c",
   "metadata": {
    "height": 30
   },
   "outputs": [],
   "source": []
  }
 ],
 "metadata": {
  "kernelspec": {
   "display_name": "Deno",
   "language": "typescript",
   "name": "deno"
  },
  "language_info": {
   "codemirror_mode": "typescript",
   "file_extension": ".ts",
   "mimetype": "text/x.typescript",
   "name": "typescript",
   "nbconvert_exporter": "script",
   "pygments_lexer": "typescript",
   "version": "5.5.2"
  }
 },
 "nbformat": 4,
 "nbformat_minor": 5
}
