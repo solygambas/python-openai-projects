{
 "cells": [
  {
   "cell_type": "markdown",
   "id": "5b1d5fb5-89a4-4812-8eba-b7748ba4d347",
   "metadata": {},
   "source": [
    "# Lesson 2: Loading and preparing data"
   ]
  },
  {
   "cell_type": "markdown",
   "id": "1549545a-43bd-461b-897f-fdf623bf7e4a",
   "metadata": {},
   "source": [
    "# Loading"
   ]
  },
  {
   "cell_type": "code",
   "execution_count": 1,
   "id": "b666824e-a940-484f-b3f0-6b7682ef4677",
   "metadata": {
    "height": 30
   },
   "outputs": [
    {
     "data": {
      "text/plain": [
       "[Module: null prototype] { default: {} }"
      ]
     },
     "execution_count": 1,
     "metadata": {},
     "output_type": "execute_result"
    }
   ],
   "source": [
    "import \"dotenv/config\";"
   ]
  },
  {
   "cell_type": "code",
   "execution_count": 2,
   "id": "4bee5413-fcde-4dd9-b5fb-89023203cfb2",
   "metadata": {
    "height": 81
   },
   "outputs": [],
   "source": [
    "import { GithubRepoLoader } from \"langchain/document_loaders/web/github\";\n",
    "// Peer dependency, used to support .gitignore syntax\n",
    "import ignore from \"ignore\";"
   ]
  },
  {
   "cell_type": "code",
   "execution_count": 3,
   "id": "b3e86ff7-6368-4442-8ee6-0a1a3c1b35e0",
   "metadata": {
    "height": 98
   },
   "outputs": [],
   "source": [
    "// Will not include anything under \"ignorePaths\"\n",
    "const loader = new GithubRepoLoader(\n",
    "  \"https://github.com/langchain-ai/langchainjs\",\n",
    "  { recursive: false, ignorePaths: [\"*.md\", \"yarn.lock\"] }\n",
    ");"
   ]
  },
  {
   "cell_type": "code",
   "execution_count": 4,
   "id": "634988ed-0a57-49bc-9261-dc19fe66529b",
   "metadata": {
    "height": 64
   },
   "outputs": [
    {
     "name": "stdout",
     "output_type": "stream",
     "text": [
      "[\n",
      "  Document {\n",
      "    pageContent: \"coverage:\\n\" +\n",
      "      \"  status:\\n\" +\n",
      "      \"    project:\\n\" +\n",
      "      \"      default:\\n\" +\n",
      "      \"        informational: true\\n\" +\n",
      "      \"    patch:\\n\" +\n",
      "      \"      default:\\n\" +\n",
      "      \"        informational: true\\n\" +\n",
      "      \"\\n\" +\n",
      "      \"\\n\" +\n",
      "      \"# When modifying this file, please validate using\\n\" +\n",
      "      \"# curl -X POST --data-binary @codecov.yml https://codecov.io/validate\",\n",
      "    metadata: {\n",
      "      source: \".codecov.yml\",\n",
      "      repository: \"https://github.com/langchain-ai/langchainjs\",\n",
      "      branch: \"main\"\n",
      "    }\n",
      "  },\n",
      "  Document {\n",
      "    pageContent: \"# top-most EditorConfig file\\n\" +\n",
      "      \"root = true\\n\" +\n",
      "      \"\\n\" +\n",
      "      \"# Unix-style newlines with a newline ending every file\\n\" +\n",
      "      \"[*]\\n\" +\n",
      "      \"end_of_line = lf\",\n",
      "    metadata: {\n",
      "      source: \".editorconfig\",\n",
      "      repository: \"https://github.com/langchain-ai/langchainjs\",\n",
      "      branch: \"main\"\n",
      "    }\n",
      "  },\n",
      "  Document {\n",
      "    pageContent: \"* text=auto eol=lf\",\n",
      "    metadata: {\n",
      "      source: \".gitattributes\",\n",
      "      repository: \"https://github.com/langchain-ai/langchainjs\",\n",
      "      branch: \"main\"\n",
      "    }\n",
      "  }\n",
      "]\n"
     ]
    }
   ],
   "source": [
    "const docs = await loader.load();\n",
    "\n",
    "console.log(docs.slice(0, 3));"
   ]
  },
  {
   "cell_type": "code",
   "execution_count": 5,
   "id": "b997a07f-bfb0-407b-8959-fc0c467bd30f",
   "metadata": {
    "height": 64
   },
   "outputs": [],
   "source": [
    "// Peer dependency\n",
    "import * as parse from \"pdf-parse\";\n",
    "import { PDFLoader } from \"langchain/document_loaders/fs/pdf\";"
   ]
  },
  {
   "cell_type": "code",
   "execution_count": 6,
   "id": "cd470c94-5bec-4efe-8395-416b0a408f8b",
   "metadata": {
    "height": 30
   },
   "outputs": [],
   "source": [
    "const loader = new PDFLoader(\"./data/MachineLearning-Lecture01.pdf\");"
   ]
  },
  {
   "cell_type": "code",
   "execution_count": 7,
   "id": "4476713f-5285-4d2f-9126-d30ee9825090",
   "metadata": {
    "height": 64
   },
   "outputs": [
    {
     "name": "stdout",
     "output_type": "stream",
     "text": [
      "[\n",
      "  Document {\n",
      "    pageContent: \"MachineLearning-Lecture01  \\n\" +\n",
      "      \"Instructor (Andrew Ng): Okay. Good morning. Welcome to CS229, the machine \\n\" +\n",
      "      \"learning class. So what I wanna do today is just spend a little time going over the logistics \\n\" +\n",
      "      \"of the class, and then we'll start to talk a bit about machine learning.  \\n\" +\n",
      "      \"By way of introduction, my name's Andrew Ng and I'll be instructor for this class. And so \\n\" +\n",
      "      \"I personally work in machine learning, and I've worked on it for about 15 years now, and \\n\" +\n",
      "      \"I actually think that machine learning is the most exciting field of all the computer \\n\" +\n",
      "      \"sciences. So I'm actually always excited about teaching this class. Sometimes I actually \\n\" +\n",
      "      \"think that machine learning is not only the most exciting thing in computer science, but \\n\" +\n",
      "      \"the most exciting thing in all of human endeavor, so maybe a little bias there.  \\n\" +\n",
      "      \"I also want to introduce the TAs, who are all graduate students doing research in or \\n\" +\n",
      "      \"related to the machine learning and all aspects of machine learning. Paul Baumstarck \\n\" +\n",
      "      \"works in machine learning and computer vision. Catie Chang is actually a neuroscientist \\n\" +\n",
      "      \"who applies machine learning algorithms to try to understand the human brain. Tom Do \\n\" +\n",
      "      \"is another PhD student, works in computational biology and in sort of the basic \\n\" +\n",
      "      \"fundamentals of human learning. Zico Kolter is the head TA — he's head TA two years \\n\" +\n",
      "      \"in a row now — works in machine learning and applies them to a bunch of robots. And \\n\" +\n",
      "      \"Daniel Ramage is — I guess he's not here — Daniel applies learning algorithms to \\n\" +\n",
      "      \"problems in natural language processing.  \\n\" +\n",
      "      \"So you'll get to know the TAs and me much better throughout this quarter, but just from \\n\" +\n",
      "      \"the sorts of things the TA's do, I hope you can already tell that machine learning is a \\n\" +\n",
      "      \"highly interdisciplinary topic in which just the TAs find learning algorithms to problems \\n\" +\n",
      "      \"in computer vision and biology and robots and language. And machine learning is one of \\n\" +\n",
      "      \"those things that has and is having a large impact on many applications.  \\n\" +\n",
      "      \"So just in my own daily work, I actually frequently end up talking to people like \\n\" +\n",
      "      \"helicopter pilots to biologists to people in computer systems or databases to economists \\n\" +\n",
      "      \"and sort of also an unending stream of people from industry coming to Stanford \\n\" +\n",
      "      \"interested in applying machine learning methods to their own problems.  \\n\" +\n",
      "      \"So yeah, this is fun. A couple of weeks ago, a student actually forwarded to me an article \\n\" +\n",
      "      `in \"Computer World\" about the 12 IT skills that employers can't say no to. So it's about \\n` +\n",
      "      \"sort of the 12 most desirable skills in all of IT and all of information technology, and \\n\" +\n",
      "      \"topping the list was actually machine learning. So I think this is a good time to be \\n\" +\n",
      "      \"learning this stuff and learning algorithms and having a large impact on many segments \\n\" +\n",
      "      \"of science and industry.  \\n\" +\n",
      "      \"I'm actually curious about something. Learning algorithms is one of the things that \\n\" +\n",
      "      \"touches many areas of science and industries, and I'm just kind of curious. How many \\n\" +\n",
      "      \"people here are computer science majors, are in the computer science department? Okay. \\n\" +\n",
      "      \"About half of you. How many people are from EE? Oh, okay, maybe about a fifth. How \",\n",
      "    metadata: {\n",
      "      source: \"./data/MachineLearning-Lecture01.pdf\",\n",
      "      pdf: {\n",
      "        version: \"1.10.100\",\n",
      "        info: {\n",
      "          PDFFormatVersion: \"1.4\",\n",
      "          IsAcroFormPresent: false,\n",
      "          IsXFAPresent: false,\n",
      "          Title: \"\",\n",
      "          Author: \"\",\n",
      "          Creator: \"PScript5.dll Version 5.2.2\",\n",
      "          Producer: \"Acrobat Distiller 8.1.0 (Windows)\",\n",
      "          CreationDate: \"D:20080711112523-07'00'\",\n",
      "          ModDate: \"D:20080711112523-07'00'\"\n",
      "        },\n",
      "        metadata: Metadata { _metadata: [Object: null prototype] },\n",
      "        totalPages: 22\n",
      "      },\n",
      "      loc: { pageNumber: 1 }\n",
      "    }\n",
      "  },\n",
      "  Document {\n",
      "    pageContent: \"many biologers are there here? Wow, just a few, not many. I'm surprised. Anyone from \\n\" +\n",
      "      \"statistics? Okay, a few. So where are the rest of you from?  \\n\" +\n",
      "      \"Student : iCME.  \\n\" +\n",
      "      \"Instructor (Andrew Ng) : Say again?  \\n\" +\n",
      "      \"Student : iCME.  \\n\" +\n",
      "      \"Instructor (Andrew Ng) : iCME. Cool.  \\n\" +\n",
      "      \"Student : [Inaudible].  \\n\" +\n",
      "      \"Instructor (Andrew Ng) : Civi and what else?  \\n\" +\n",
      "      \"Student : [Inaudible]  \\n\" +\n",
      "      \"Instructor (Andrew Ng) : Synthesis, [inaudible] systems. Yeah, cool.  \\n\" +\n",
      "      \"Student : Chemi.  \\n\" +\n",
      "      \"Instructor (Andrew Ng) : Chemi. Cool.  \\n\" +\n",
      "      \"Student : [Inaudible].  \\n\" +\n",
      "      \"Instructor (Andrew Ng) : Aero/astro. Yes, right. Yeah, okay, cool. Anyone else?  \\n\" +\n",
      "      \"Student : [Inaudible].  \\n\" +\n",
      "      \"Instructor (Andrew Ng) : Pardon? MSNE. All right. Cool. Yeah.  \\n\" +\n",
      "      \"Student : [Inaudible].  \\n\" +\n",
      "      \"Instructor (Andrew Ng) : Pardon?  \\n\" +\n",
      "      \"Student : [Inaudible].  \\n\" +\n",
      "      \"Instructor (Andrew Ng) : Endo —  \\n\" +\n",
      "      \"Student : [Inaudible].  \\n\" +\n",
      "      \"Instructor (Andrew Ng) : Oh, I see, industry. Okay. Cool. Great, great. So as you can \\n\" +\n",
      "      \"tell from a cross-section of this class, I think we're a very diverse audience in this room, \\n\" +\n",
      "      \"and that's one of the things that makes this class fun to teach and fun to be in, I think.  \",\n",
      "    metadata: {\n",
      "      source: \"./data/MachineLearning-Lecture01.pdf\",\n",
      "      pdf: {\n",
      "        version: \"1.10.100\",\n",
      "        info: {\n",
      "          PDFFormatVersion: \"1.4\",\n",
      "          IsAcroFormPresent: false,\n",
      "          IsXFAPresent: false,\n",
      "          Title: \"\",\n",
      "          Author: \"\",\n",
      "          Creator: \"PScript5.dll Version 5.2.2\",\n",
      "          Producer: \"Acrobat Distiller 8.1.0 (Windows)\",\n",
      "          CreationDate: \"D:20080711112523-07'00'\",\n",
      "          ModDate: \"D:20080711112523-07'00'\"\n",
      "        },\n",
      "        metadata: Metadata { _metadata: [Object: null prototype] },\n",
      "        totalPages: 22\n",
      "      },\n",
      "      loc: { pageNumber: 2 }\n",
      "    }\n",
      "  },\n",
      "  Document {\n",
      "    pageContent: \"So in this class, we've tried to convey to you a broad set of principles and tools that will \\n\" +\n",
      "      \"be useful for doing many, many things. And every time I teach this class, I can actually \\n\" +\n",
      "      \"very confidently say that after December, no matter what you're going to do after this \\n\" +\n",
      "      \"December when you've sort of completed this class, you'll find the things you learn in \\n\" +\n",
      "      \"this class very useful, and these things will be useful pretty much no matter what you end \\n\" +\n",
      "      \"up doing later in your life.  \\n\" +\n",
      "      \"So I have more logistics to go over later, but let's say a few more words about machine \\n\" +\n",
      "      \"learning. I feel that machine learning grew out of early work in AI, early work in artificial \\n\" +\n",
      "      \"intelligence. And over the last — I wanna say last 15 or last 20 years or so, it's been \\n\" +\n",
      "      \"viewed as a sort of growing new capability for computers. And in particular, it turns out \\n\" +\n",
      "      \"that there are many programs or there are many applications that you can't program by \\n\" +\n",
      "      \"hand.  \\n\" +\n",
      "      \"For example, if you want to get a computer to read handwritten characters, to read sort of \\n\" +\n",
      "      \"handwritten digits, that actually turns out to be amazingly difficult to write a piece of \\n\" +\n",
      "      \"software to take this input, an image of something that I wrote and to figure out just what \\n\" +\n",
      "      \"it is, to translate my cursive handwriting into — to extract the characters I wrote out in \\n\" +\n",
      "      \"longhand. And other things: One thing that my students and I do is autonomous flight. It \\n\" +\n",
      "      \"turns out to be extremely difficult to sit down and write a program to fly a helicopter.  \\n\" +\n",
      "      \"But in contrast, if you want to do things like to get software to fly a helicopter or have \\n\" +\n",
      "      \"software recognize handwritten digits, one very successful approach is to use a learning \\n\" +\n",
      "      \"algorithm and have a computer learn by itself how to, say, recognize your handwriting. \\n\" +\n",
      "      \"And in fact, handwritten digit recognition, this is pretty much the only approach that \\n\" +\n",
      "      \"works well. It uses applications that are hard to program by hand.  \\n\" +\n",
      "      \"Learning algorithms has also made I guess significant inroads in what's sometimes called \\n\" +\n",
      "      \"database mining. So, for example, with the growth of IT and computers, increasingly \\n\" +\n",
      "      \"many hospitals are keeping around medical records of what sort of patients, what \\n\" +\n",
      "      \"problems they had, what their prognoses was, what the outcome was. And taking all of \\n\" +\n",
      "      \"these medical records, which started to be digitized only about maybe 15 years, applying \\n\" +\n",
      "      \"learning algorithms to them can turn raw medical records into what I might loosely call \\n\" +\n",
      "      \"medical knowledge in which we start to detect trends in medical practice and even start to \\n\" +\n",
      "      \"alter medical practice as a result of medical knowledge that's derived by applying \\n\" +\n",
      "      \"learning algorithms to the sorts of medical records that hospitals have just been building \\n\" +\n",
      "      \"over the last 15, 20 years in an electronic format.  \\n\" +\n",
      "      \"Turns out that most of you probably use learning algorithms — I don't know — I think \\n\" +\n",
      "      \"half a dozen times a day or maybe a dozen times a day or more, and often without \\n\" +\n",
      "      \"knowing it. So, for example, every time you send mail via the US Postal System, turns \\n\" +\n",
      "      \"out there's an algorithm that tries to automatically read the zip code you wrote on your \\n\" +\n",
      "      \"envelope, and that's done by a learning algorithm. So every time you send US mail, you \\n\" +\n",
      "      \"are using a learning algorithm, perhaps without even being aware of it.  \",\n",
      "    metadata: {\n",
      "      source: \"./data/MachineLearning-Lecture01.pdf\",\n",
      "      pdf: {\n",
      "        version: \"1.10.100\",\n",
      "        info: {\n",
      "          PDFFormatVersion: \"1.4\",\n",
      "          IsAcroFormPresent: false,\n",
      "          IsXFAPresent: false,\n",
      "          Title: \"\",\n",
      "          Author: \"\",\n",
      "          Creator: \"PScript5.dll Version 5.2.2\",\n",
      "          Producer: \"Acrobat Distiller 8.1.0 (Windows)\",\n",
      "          CreationDate: \"D:20080711112523-07'00'\",\n",
      "          ModDate: \"D:20080711112523-07'00'\"\n",
      "        },\n",
      "        metadata: Metadata { _metadata: [Object: null prototype] },\n",
      "        totalPages: 22\n",
      "      },\n",
      "      loc: { pageNumber: 3 }\n",
      "    }\n",
      "  },\n",
      "  Document {\n",
      "    pageContent: \"Similarly, every time you write a check, I actually don't know the number for this, but a \\n\" +\n",
      "      \"significant fraction of checks that you write are processed by a learning algorithm that's \\n\" +\n",
      "      \"learned to read the digits, so the dollar amount that you wrote down on your check. So \\n\" +\n",
      "      \"every time you write a check, there's another learning algorithm that you're probably \\n\" +\n",
      "      \"using without even being aware of it.  \\n\" +\n",
      "      \"If you use a credit card, or I know at least one phone company was doing this, and lots of \\n\" +\n",
      "      \"companies like eBay as well that do electronic transactions, there's a good chance that \\n\" +\n",
      "      \"there's a learning algorithm in the background trying to figure out if, say, your credit \\n\" +\n",
      "      \"card's been stolen or if someone's engaging in a fraudulent transaction.  \\n\" +\n",
      "      \"If you use a website like Amazon or Netflix that will often recommend books for you to \\n\" +\n",
      "      \"buy or movies for you to rent or whatever, these are other examples of learning \\n\" +\n",
      "      \"algorithms that have learned what sorts of things you like to buy or what sorts of movies \\n\" +\n",
      "      \"you like to watch and can therefore give customized recommendations to you.  \\n\" +\n",
      "      \"Just about a week ago, I had my car serviced, and even there, my car mechanic was trying \\n\" +\n",
      "      \"to explain to me some learning algorithm in the innards of my car that's sort of doing its \\n\" +\n",
      "      \"best to optimize my driving performance for fuel efficiency or something.  \\n\" +\n",
      "      \"So, see, most of us use learning algorithms half a dozen, a dozen, maybe dozens of times \\n\" +\n",
      "      \"without even knowing it.  \\n\" +\n",
      "      \"And of course, learning algorithms are also doing things like giving us a growing \\n\" +\n",
      "      \"understanding of the human genome. So if someday we ever find a cure for cancer, I bet \\n\" +\n",
      "      \"learning algorithms will have had a large role in that. That's sort of the thing that Tom \\n\" +\n",
      "      \"works on, yes?  \\n\" +\n",
      "      \"So in teaching this class, I sort of have three goals. One of them is just to I hope convey \\n\" +\n",
      "      \"some of my own excitement about machine learning to you.  \\n\" +\n",
      "      \"The second goal is by the end of this class, I hope all of you will be able to apply state-of-\\n\" +\n",
      "      \"the-art machine learning algorithms to whatever problems you're interested in. And if you \\n\" +\n",
      "      \"ever need to build a system for reading zip codes, you'll know how to do that by the end \\n\" +\n",
      "      \"of this class.  \\n\" +\n",
      "      \"And lastly, by the end of this class, I realize that only a subset of you are interested in \\n\" +\n",
      "      \"doing research in machine learning, but by the conclusion of this class, I hope that all of \\n\" +\n",
      "      \"you will actually be well qualified to start doing research in machine learning, okay?  \\n\" +\n",
      "      \"So let's say a few words about logistics. The prerequisites of this class are written on one \\n\" +\n",
      "      \"of the handouts, are as follows: In this class, I'm going to assume that all of you have sort \\n\" +\n",
      "      \"of basic knowledge of computer science and knowledge of the basic computer skills and \\n\" +\n",
      "      \"principles. So I assume all of you know what big?O notation, that all of you know about \\n\" +\n",
      "      \"sort of data structures like queues, stacks, binary trees, and that all of you know enough \\n\" +\n",
      "      \"programming skills to, like, write a simple computer program. And it turns out that most \",\n",
      "    metadata: {\n",
      "      source: \"./data/MachineLearning-Lecture01.pdf\",\n",
      "      pdf: {\n",
      "        version: \"1.10.100\",\n",
      "        info: {\n",
      "          PDFFormatVersion: \"1.4\",\n",
      "          IsAcroFormPresent: false,\n",
      "          IsXFAPresent: false,\n",
      "          Title: \"\",\n",
      "          Author: \"\",\n",
      "          Creator: \"PScript5.dll Version 5.2.2\",\n",
      "          Producer: \"Acrobat Distiller 8.1.0 (Windows)\",\n",
      "          CreationDate: \"D:20080711112523-07'00'\",\n",
      "          ModDate: \"D:20080711112523-07'00'\"\n",
      "        },\n",
      "        metadata: Metadata { _metadata: [Object: null prototype] },\n",
      "        totalPages: 22\n",
      "      },\n",
      "      loc: { pageNumber: 4 }\n",
      "    }\n",
      "  },\n",
      "  Document {\n",
      "    pageContent: \"of this class will not be very programming intensive, although we will do some \\n\" +\n",
      "      \"programming, mostly in either MATLAB or Octave. I'll say a bit more about that later.  \\n\" +\n",
      "      \"I also assume familiarity with basic probability and statistics. So most undergraduate \\n\" +\n",
      "      \"statistics class, like Stat 116 taught here at Stanford, will be more than enough. I'm gonna \\n\" +\n",
      "      \"assume all of you know what random variables are, that all of you know what expectation \\n\" +\n",
      "      \"is, what a variance or a random variable is. And in case of some of you, it's been a while \\n\" +\n",
      "      \"since you've seen some of this material. At some of the discussion sections, we'll actually \\n\" +\n",
      "      \"go over some of the prerequisites, sort of as a refresher course under prerequisite class. \\n\" +\n",
      "      \"I'll say a bit more about that later as well.  \\n\" +\n",
      "      \"Lastly, I also assume familiarity with basic linear algebra. And again, most undergraduate \\n\" +\n",
      "      \"linear algebra courses are more than enough. So if you've taken courses like Math 51, \\n\" +\n",
      "      \"103, Math 113 or CS205 at Stanford, that would be more than enough. Basically, I'm \\n\" +\n",
      "      \"gonna assume that all of you know what matrixes and vectors are, that you know how to \\n\" +\n",
      "      \"multiply matrices and vectors and multiply matrix and matrices, that you know what a \\n\" +\n",
      "      \"matrix inverse is. If you know what an eigenvector of a matrix is, that'd be even better. \\n\" +\n",
      "      \"But if you don't quite know or if you're not quite sure, that's fine, too. We'll go over it in \\n\" +\n",
      "      \"the review sections.  \\n\" +\n",
      "      \"So there are a couple more logistical things I should deal with in this class. One is that, as \\n\" +\n",
      "      \"most of you know, CS229 is a televised class. And in fact, I guess many of you are \\n\" +\n",
      "      \"probably watching this at home on TV, so I'm gonna say hi to our home viewers.  \\n\" +\n",
      "      \"So earlier this year, I approached SCPD, which televises these classes, about trying to \\n\" +\n",
      "      \"make a small number of Stanford classes publicly available or posting the videos on the \\n\" +\n",
      "      \"web. And so this year, Stanford is actually starting a small pilot program in which we'll \\n\" +\n",
      "      \"post videos of a small number of classes online, so on the Internet in a way that makes it \\n\" +\n",
      "      \"publicly accessible to everyone. I'm very excited about that because machine learning in \\n\" +\n",
      "      \"school, let's get the word out there.  \\n\" +\n",
      "      \"One of the consequences of this is that — let's see — so videos or pictures of the students \\n\" +\n",
      "      \"in this classroom will not be posted online, so your images — so don't worry about being \\n\" +\n",
      "      \"by seeing your own face appear on YouTube one day. But the microphones may pick up \\n\" +\n",
      "      \"your voices, so I guess the consequence of that is that because microphones may pick up \\n\" +\n",
      "      \"your voices, no matter how irritated you are at me, don't yell out swear words in the \\n\" +\n",
      "      \"middle of class, but because there won't be video you can safely sit there and make faces \\n\" +\n",
      "      \"at me, and that won't show, okay?  \\n\" +\n",
      "      \"Let's see. I also handed out this — there were two handouts I hope most of you have, \\n\" +\n",
      "      \"course information handout. So let me just say a few words about parts of these. On the \\n\" +\n",
      "      \"third page, there's a section that says Online Resources.  \\n\" +\n",
      "      \"Oh, okay. Louder? Actually, could you turn up the volume? Testing. Is this better? \\n\" +\n",
      "      \"Testing, testing. Okay, cool. Thanks.  \",\n",
      "    metadata: {\n",
      "      source: \"./data/MachineLearning-Lecture01.pdf\",\n",
      "      pdf: {\n",
      "        version: \"1.10.100\",\n",
      "        info: {\n",
      "          PDFFormatVersion: \"1.4\",\n",
      "          IsAcroFormPresent: false,\n",
      "          IsXFAPresent: false,\n",
      "          Title: \"\",\n",
      "          Author: \"\",\n",
      "          Creator: \"PScript5.dll Version 5.2.2\",\n",
      "          Producer: \"Acrobat Distiller 8.1.0 (Windows)\",\n",
      "          CreationDate: \"D:20080711112523-07'00'\",\n",
      "          ModDate: \"D:20080711112523-07'00'\"\n",
      "        },\n",
      "        metadata: Metadata { _metadata: [Object: null prototype] },\n",
      "        totalPages: 22\n",
      "      },\n",
      "      loc: { pageNumber: 5 }\n",
      "    }\n",
      "  }\n",
      "]\n"
     ]
    }
   ],
   "source": [
    "const rawCS229Docs = await loader.load();\n",
    "\n",
    "console.log(rawCS229Docs.slice(0, 5));"
   ]
  },
  {
   "cell_type": "markdown",
   "id": "ca1a583f-c40c-43fa-a554-d0dbecfd543a",
   "metadata": {},
   "source": [
    "# Splitting"
   ]
  },
  {
   "cell_type": "code",
   "execution_count": 8,
   "id": "c2581cfc-aec6-4600-860c-1e100d42a382",
   "metadata": {
    "height": 47
   },
   "outputs": [],
   "source": [
    "import { RecursiveCharacterTextSplitter } from \"langchain/text_splitter\";"
   ]
  },
  {
   "cell_type": "code",
   "execution_count": 9,
   "id": "10a566f9-4c8e-4199-a394-f52baaceac4d",
   "metadata": {
    "height": 81
   },
   "outputs": [],
   "source": [
    "const splitter = RecursiveCharacterTextSplitter.fromLanguage(\"js\", {\n",
    "  chunkSize: 32,\n",
    "  chunkOverlap: 0,\n",
    "});"
   ]
  },
  {
   "cell_type": "code",
   "execution_count": 10,
   "id": "6da99c5b-08d1-4f6c-a4dd-aed004b6e023",
   "metadata": {
    "height": 132
   },
   "outputs": [
    {
     "data": {
      "text/plain": [
       "[\n",
       "  \u001b[32m\"function helloWorld() {\"\u001b[39m,\n",
       "  \u001b[32m'console.log(\"Hello, World!\");\\n}'\u001b[39m,\n",
       "  \u001b[32m\"// Call the function\"\u001b[39m,\n",
       "  \u001b[32m\"helloWorld();\"\u001b[39m\n",
       "]"
      ]
     },
     "execution_count": 10,
     "metadata": {},
     "output_type": "execute_result"
    }
   ],
   "source": [
    "const code = `function helloWorld() {\n",
    "console.log(\"Hello, World!\");\n",
    "}\n",
    "// Call the function\n",
    "helloWorld();`;\n",
    "\n",
    "await splitter.splitText(code);"
   ]
  },
  {
   "cell_type": "code",
   "execution_count": 11,
   "id": "9699b4e1-a46c-44e2-8f13-2f6ff62f49e9",
   "metadata": {
    "height": 166
   },
   "outputs": [
    {
     "data": {
      "text/plain": [
       "[\n",
       "  \u001b[32m\"function helloWorld()\"\u001b[39m,\n",
       "  \u001b[32m'{\\nconsole.log(\"Hello,'\u001b[39m,\n",
       "  \u001b[32m'World!\");\\n}\\n// Call the'\u001b[39m,\n",
       "  \u001b[32m\"function\\nhelloWorld();\"\u001b[39m\n",
       "]"
      ]
     },
     "execution_count": 11,
     "metadata": {},
     "output_type": "execute_result"
    }
   ],
   "source": [
    "import { CharacterTextSplitter } from \"langchain/text_splitter\";\n",
    "\n",
    "const splitter = new CharacterTextSplitter({\n",
    "  chunkSize: 32,\n",
    "  chunkOverlap: 0,\n",
    "  separator: \" \"\n",
    "});\n",
    "\n",
    "await splitter.splitText(code);"
   ]
  },
  {
   "cell_type": "code",
   "execution_count": 12,
   "id": "8219b6ca-bf2d-4471-91f8-b3e6870ce07e",
   "metadata": {
    "height": 115
   },
   "outputs": [
    {
     "data": {
      "text/plain": [
       "[\n",
       "  \u001b[32m'function helloWorld() {\\nconsole.log(\"Hello, World!\");\\n}'\u001b[39m,\n",
       "  \u001b[32m'console.log(\"Hello, World!\");\\n}\\n// Call the function'\u001b[39m,\n",
       "  \u001b[32m\"}\\n// Call the function\\nhelloWorld();\"\u001b[39m\n",
       "]"
      ]
     },
     "execution_count": 12,
     "metadata": {},
     "output_type": "execute_result"
    }
   ],
   "source": [
    "const splitter = RecursiveCharacterTextSplitter.fromLanguage(\"js\", {\n",
    "  chunkSize: 64,\n",
    "  chunkOverlap: 32,\n",
    "});\n",
    "\n",
    "await splitter.splitText(code);"
   ]
  },
  {
   "cell_type": "code",
   "execution_count": 13,
   "id": "66d091de-c9a8-429f-8bda-d43b489cdace",
   "metadata": {
    "height": 81
   },
   "outputs": [],
   "source": [
    "const splitter = new RecursiveCharacterTextSplitter({\n",
    "  chunkSize: 512,\n",
    "  chunkOverlap: 64,\n",
    "});"
   ]
  },
  {
   "cell_type": "code",
   "execution_count": 14,
   "id": "c0ce99cb-ab2f-4443-93c8-a5f7c979de71",
   "metadata": {
    "height": 64
   },
   "outputs": [
    {
     "name": "stdout",
     "output_type": "stream",
     "text": [
      "[\n",
      "  Document {\n",
      "    pageContent: \"MachineLearning-Lecture01  \\n\" +\n",
      "      \"Instructor (Andrew Ng): Okay. Good morning. Welcome to CS229, the machine \\n\" +\n",
      "      \"learning class. So what I wanna do today is just spend a little time going over the logistics \\n\" +\n",
      "      \"of the class, and then we'll start to talk a bit about machine learning.  \\n\" +\n",
      "      \"By way of introduction, my name's Andrew Ng and I'll be instructor for this class. And so \\n\" +\n",
      "      \"I personally work in machine learning, and I've worked on it for about 15 years now, and\",\n",
      "    metadata: {\n",
      "      source: \"./data/MachineLearning-Lecture01.pdf\",\n",
      "      pdf: {\n",
      "        version: \"1.10.100\",\n",
      "        info: {\n",
      "          PDFFormatVersion: \"1.4\",\n",
      "          IsAcroFormPresent: false,\n",
      "          IsXFAPresent: false,\n",
      "          Title: \"\",\n",
      "          Author: \"\",\n",
      "          Creator: \"PScript5.dll Version 5.2.2\",\n",
      "          Producer: \"Acrobat Distiller 8.1.0 (Windows)\",\n",
      "          CreationDate: \"D:20080711112523-07'00'\",\n",
      "          ModDate: \"D:20080711112523-07'00'\"\n",
      "        },\n",
      "        metadata: Metadata { _metadata: [Object: null prototype] },\n",
      "        totalPages: 22\n",
      "      },\n",
      "      loc: { pageNumber: 1, lines: { from: 1, to: 6 } }\n",
      "    }\n",
      "  },\n",
      "  Document {\n",
      "    pageContent: \"I actually think that machine learning is the most exciting field of all the computer \\n\" +\n",
      "      \"sciences. So I'm actually always excited about teaching this class. Sometimes I actually \\n\" +\n",
      "      \"think that machine learning is not only the most exciting thing in computer science, but \\n\" +\n",
      "      \"the most exciting thing in all of human endeavor, so maybe a little bias there.  \\n\" +\n",
      "      \"I also want to introduce the TAs, who are all graduate students doing research in or\",\n",
      "    metadata: {\n",
      "      source: \"./data/MachineLearning-Lecture01.pdf\",\n",
      "      pdf: {\n",
      "        version: \"1.10.100\",\n",
      "        info: {\n",
      "          PDFFormatVersion: \"1.4\",\n",
      "          IsAcroFormPresent: false,\n",
      "          IsXFAPresent: false,\n",
      "          Title: \"\",\n",
      "          Author: \"\",\n",
      "          Creator: \"PScript5.dll Version 5.2.2\",\n",
      "          Producer: \"Acrobat Distiller 8.1.0 (Windows)\",\n",
      "          CreationDate: \"D:20080711112523-07'00'\",\n",
      "          ModDate: \"D:20080711112523-07'00'\"\n",
      "        },\n",
      "        metadata: Metadata { _metadata: [Object: null prototype] },\n",
      "        totalPages: 22\n",
      "      },\n",
      "      loc: { pageNumber: 1, lines: { from: 7, to: 11 } }\n",
      "    }\n",
      "  },\n",
      "  Document {\n",
      "    pageContent: \"related to the machine learning and all aspects of machine learning. Paul Baumstarck \\n\" +\n",
      "      \"works in machine learning and computer vision. Catie Chang is actually a neuroscientist \\n\" +\n",
      "      \"who applies machine learning algorithms to try to understand the human brain. Tom Do \\n\" +\n",
      "      \"is another PhD student, works in computational biology and in sort of the basic \\n\" +\n",
      "      \"fundamentals of human learning. Zico Kolter is the head TA — he's head TA two years \\n\" +\n",
      "      \"in a row now — works in machine learning and applies them to a bunch of robots. And\",\n",
      "    metadata: {\n",
      "      source: \"./data/MachineLearning-Lecture01.pdf\",\n",
      "      pdf: {\n",
      "        version: \"1.10.100\",\n",
      "        info: {\n",
      "          PDFFormatVersion: \"1.4\",\n",
      "          IsAcroFormPresent: false,\n",
      "          IsXFAPresent: false,\n",
      "          Title: \"\",\n",
      "          Author: \"\",\n",
      "          Creator: \"PScript5.dll Version 5.2.2\",\n",
      "          Producer: \"Acrobat Distiller 8.1.0 (Windows)\",\n",
      "          CreationDate: \"D:20080711112523-07'00'\",\n",
      "          ModDate: \"D:20080711112523-07'00'\"\n",
      "        },\n",
      "        metadata: Metadata { _metadata: [Object: null prototype] },\n",
      "        totalPages: 22\n",
      "      },\n",
      "      loc: { pageNumber: 1, lines: { from: 12, to: 17 } }\n",
      "    }\n",
      "  },\n",
      "  Document {\n",
      "    pageContent: \"Daniel Ramage is — I guess he's not here — Daniel applies learning algorithms to \\n\" +\n",
      "      \"problems in natural language processing.  \\n\" +\n",
      "      \"So you'll get to know the TAs and me much better throughout this quarter, but just from \\n\" +\n",
      "      \"the sorts of things the TA's do, I hope you can already tell that machine learning is a \\n\" +\n",
      "      \"highly interdisciplinary topic in which just the TAs find learning algorithms to problems \\n\" +\n",
      "      \"in computer vision and biology and robots and language. And machine learning is one of\",\n",
      "    metadata: {\n",
      "      source: \"./data/MachineLearning-Lecture01.pdf\",\n",
      "      pdf: {\n",
      "        version: \"1.10.100\",\n",
      "        info: {\n",
      "          PDFFormatVersion: \"1.4\",\n",
      "          IsAcroFormPresent: false,\n",
      "          IsXFAPresent: false,\n",
      "          Title: \"\",\n",
      "          Author: \"\",\n",
      "          Creator: \"PScript5.dll Version 5.2.2\",\n",
      "          Producer: \"Acrobat Distiller 8.1.0 (Windows)\",\n",
      "          CreationDate: \"D:20080711112523-07'00'\",\n",
      "          ModDate: \"D:20080711112523-07'00'\"\n",
      "        },\n",
      "        metadata: Metadata { _metadata: [Object: null prototype] },\n",
      "        totalPages: 22\n",
      "      },\n",
      "      loc: { pageNumber: 1, lines: { from: 18, to: 23 } }\n",
      "    }\n",
      "  },\n",
      "  Document {\n",
      "    pageContent: \"those things that has and is having a large impact on many applications.  \\n\" +\n",
      "      \"So just in my own daily work, I actually frequently end up talking to people like \\n\" +\n",
      "      \"helicopter pilots to biologists to people in computer systems or databases to economists \\n\" +\n",
      "      \"and sort of also an unending stream of people from industry coming to Stanford \\n\" +\n",
      "      \"interested in applying machine learning methods to their own problems.  \\n\" +\n",
      "      \"So yeah, this is fun. A couple of weeks ago, a student actually forwarded to me an article\",\n",
      "    metadata: {\n",
      "      source: \"./data/MachineLearning-Lecture01.pdf\",\n",
      "      pdf: {\n",
      "        version: \"1.10.100\",\n",
      "        info: {\n",
      "          PDFFormatVersion: \"1.4\",\n",
      "          IsAcroFormPresent: false,\n",
      "          IsXFAPresent: false,\n",
      "          Title: \"\",\n",
      "          Author: \"\",\n",
      "          Creator: \"PScript5.dll Version 5.2.2\",\n",
      "          Producer: \"Acrobat Distiller 8.1.0 (Windows)\",\n",
      "          CreationDate: \"D:20080711112523-07'00'\",\n",
      "          ModDate: \"D:20080711112523-07'00'\"\n",
      "        },\n",
      "        metadata: Metadata { _metadata: [Object: null prototype] },\n",
      "        totalPages: 22\n",
      "      },\n",
      "      loc: { pageNumber: 1, lines: { from: 24, to: 29 } }\n",
      "    }\n",
      "  }\n",
      "]\n"
     ]
    }
   ],
   "source": [
    "const splitDocs = await splitter.splitDocuments(rawCS229Docs);\n",
    "\n",
    "console.log(splitDocs.slice(0, 5));"
   ]
  },
  {
   "cell_type": "code",
   "execution_count": null,
   "id": "7be9d41f-64c2-4839-a8fd-c2f32a33c5dc",
   "metadata": {
    "height": 30
   },
   "outputs": [],
   "source": []
  },
  {
   "cell_type": "code",
   "execution_count": null,
   "id": "f5e32044-6e84-470a-91a7-262918d5a22b",
   "metadata": {
    "height": 30
   },
   "outputs": [],
   "source": []
  },
  {
   "cell_type": "code",
   "execution_count": null,
   "id": "0d678f1d-c37c-462f-96ba-d1c84ab35482",
   "metadata": {
    "height": 30
   },
   "outputs": [],
   "source": []
  },
  {
   "cell_type": "code",
   "execution_count": null,
   "id": "18f6254b-5eaf-4867-999b-97d08f96cee9",
   "metadata": {
    "height": 30
   },
   "outputs": [],
   "source": []
  },
  {
   "cell_type": "code",
   "execution_count": null,
   "id": "c326a7cc-d9be-432c-be10-7846d2b8e5e9",
   "metadata": {
    "height": 30
   },
   "outputs": [],
   "source": []
  },
  {
   "cell_type": "code",
   "execution_count": null,
   "id": "8b25e21c-28d0-4329-852e-b96a14c38529",
   "metadata": {
    "height": 30
   },
   "outputs": [],
   "source": []
  },
  {
   "cell_type": "code",
   "execution_count": null,
   "id": "520b4a9b-89de-4652-b238-b7dddbd5a2c2",
   "metadata": {
    "height": 30
   },
   "outputs": [],
   "source": []
  },
  {
   "cell_type": "code",
   "execution_count": null,
   "id": "c325c8b5-9292-41f2-ad10-3ad0ad3df182",
   "metadata": {
    "height": 30
   },
   "outputs": [],
   "source": []
  },
  {
   "cell_type": "code",
   "execution_count": null,
   "id": "f5fe1d4c-9075-47d4-8451-b9bbc1115668",
   "metadata": {
    "height": 30
   },
   "outputs": [],
   "source": []
  },
  {
   "cell_type": "code",
   "execution_count": null,
   "id": "9cb3853d-826c-4e1f-a413-9f9f0faf62fe",
   "metadata": {
    "height": 30
   },
   "outputs": [],
   "source": []
  },
  {
   "cell_type": "code",
   "execution_count": null,
   "id": "3dd60bd2-fcc1-4f96-8763-969e30d52c13",
   "metadata": {
    "height": 30
   },
   "outputs": [],
   "source": []
  },
  {
   "cell_type": "code",
   "execution_count": null,
   "id": "c8f81c9f-88d7-470a-b597-c4137c9d35a4",
   "metadata": {
    "height": 30
   },
   "outputs": [],
   "source": []
  },
  {
   "cell_type": "code",
   "execution_count": null,
   "id": "b8e56d1e-17e2-4c11-984a-da63e0d13e55",
   "metadata": {
    "height": 30
   },
   "outputs": [],
   "source": []
  }
 ],
 "metadata": {
  "kernelspec": {
   "display_name": "Deno",
   "language": "typescript",
   "name": "deno"
  },
  "language_info": {
   "codemirror_mode": "typescript",
   "file_extension": ".ts",
   "mimetype": "text/x.typescript",
   "name": "typescript",
   "nbconvert_exporter": "script",
   "pygments_lexer": "typescript",
   "version": "5.5.2"
  }
 },
 "nbformat": 4,
 "nbformat_minor": 5
}
