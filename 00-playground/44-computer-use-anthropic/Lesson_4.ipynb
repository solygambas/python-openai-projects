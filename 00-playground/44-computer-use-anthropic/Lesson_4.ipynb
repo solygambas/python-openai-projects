{
 "cells": [
  {
   "cell_type": "markdown",
   "id": "fe726368-6d31-4518-bdc6-2e3e13c9b6f2",
   "metadata": {},
   "source": [
    "# L4: Real-World Prompting"
   ]
  },
  {
   "cell_type": "markdown",
   "id": "d9762ffb-8e5d-424e-9162-16d839cfd752",
   "metadata": {},
   "source": [
    "<p style=\"background-color:#fff6e4; padding:15px; border-width:3px; border-color:#f5ecda; border-style:solid; border-radius:6px\"> ⏳ <b>Note <code>(Kernel Starting)</code>:</b> This notebook takes about 30 seconds to be ready to use. You may start and watch the video while you wait.</p>"
   ]
  },
  {
   "cell_type": "code",
   "execution_count": 1,
   "id": "af2934dc-7096-46e2-80c5-d0df861277c2",
   "metadata": {
    "height": 30
   },
   "outputs": [],
   "source": [
    "from anthropic import Anthropic"
   ]
  },
  {
   "cell_type": "code",
   "execution_count": 2,
   "id": "9c333dbc-2a45-442a-b88d-0e7682430078",
   "metadata": {
    "height": 64
   },
   "outputs": [],
   "source": [
    "# Load environment variables\n",
    "from helper import load_env\n",
    "load_env()"
   ]
  },
  {
   "cell_type": "markdown",
   "id": "4e117640-1ce2-4ef4-abf3-6df0962b095e",
   "metadata": {},
   "source": [
    "<div style=\"background-color:#fff6ff; padding:13px; border-width:3px; border-color:#efe6ef; border-style:solid; border-radius:6px\">\n",
    "<p> 💻 &nbsp; <b>Access <code>requirements.txt</code> and <code>helper.py</code> files:</b> 1) click on the <em>\"File\"</em> option on the top menu of the notebook and then 2) click on <em>\"Open\"</em>.\n",
    "\n",
    "<p> ⬇ &nbsp; <b>Download Notebooks:</b> 1) click on the <em>\"File\"</em> option on the top menu of the notebook and then 2) click on <em>\"Download as\"</em> and select <em>\"Notebook (.ipynb)\"</em>.</p>\n",
    "\n",
    "<p> 📒 &nbsp; For more help, please see the <em>\"Appendix – Tips, Help, and Download\"</em> Lesson.</p>\n",
    "</div>"
   ]
  },
  {
   "cell_type": "code",
   "execution_count": 3,
   "id": "09a1bff3-ca74-4fa4-865a-b1bbffdf25b3",
   "metadata": {
    "height": 47
   },
   "outputs": [],
   "source": [
    "client = Anthropic()\n",
    "MODEL_NAME=\"claude-3-5-sonnet-20241022\""
   ]
  },
  {
   "cell_type": "markdown",
   "id": "d1e69de1-cff4-4252-a33d-b4d54b8d17b2",
   "metadata": {},
   "source": [
    "## Real-World Prompts"
   ]
  },
  {
   "cell_type": "markdown",
   "id": "54c65599-09f0-486d-9fa5-54d78c640a7b",
   "metadata": {},
   "source": [
    "### A Consumer Prompt"
   ]
  },
  {
   "cell_type": "code",
   "execution_count": 4,
   "id": "d327e1ad-50eb-452a-9417-105ae22e8e90",
   "metadata": {
    "height": 47
   },
   "outputs": [],
   "source": [
    "consumer_prompt = \"help me brainstorm ideas for a talk on AI and education\""
   ]
  },
  {
   "cell_type": "markdown",
   "id": "43822d04-f112-42e2-afa8-08add665232e",
   "metadata": {},
   "source": [
    "### An Enterprise-Grade Prompt"
   ]
  },
  {
   "cell_type": "code",
   "execution_count": 5,
   "id": "3deea1c4-8ac0-4ed6-866e-7f75d659f79e",
   "metadata": {
    "height": 2580
   },
   "outputs": [],
   "source": [
    "enterprise_prompt = \"\"\"\n",
    "Analyze the following customer service call transcript and generate a JSON summary of the interaction:\n",
    "\n",
    "<transcript>\n",
    "[INSERT CALL TRANSCRIPT HERE]\n",
    "</transcript>\n",
    "\n",
    "Instructions:\n",
    "<instructions>\n",
    "1. Read the transcript carefully.\n",
    "2. Analyze the transcript, focusing on the main issue, resolution, and any follow-up required.\n",
    "3. Generate a JSON object summarizing the key aspects of the interaction according to the specified structure.\n",
    "\n",
    "Important guidelines:\n",
    "- Confidentiality: Omit all specific customer data like names, phone numbers, and email addresses.\n",
    "- Character limit: Restrict each text field to a maximum of 100 characters.\n",
    "- Maintain a professional tone in your summary.\n",
    "\n",
    "Output format:\n",
    "Generate a JSON object with the following structure:\n",
    "<json>\n",
    "{\n",
    "  \"summary\": {\n",
    "    \"customerIssue\": \"Brief description of the main problem or reason for the call\",\n",
    "    \"resolution\": \"How the issue was addressed or resolved, if applicable\",\n",
    "    \"followUpRequired\": true/false,\n",
    "    \"followUpDetails\": \"Description of any necessary follow-up actions, or null if none required\"\n",
    "  },\n",
    "  \"status\": \"COMPLETE\",\n",
    "  \"ambiguities\": [\"List of any unclear or vague points in the conversation, or an empty array if none\"]\n",
    "}\n",
    "</json>\n",
    "\n",
    "Insufficient data criteria:\n",
    "   If any of these conditions are met:\n",
    "   a) The transcript has fewer than 5 total exchanges\n",
    "   b) The customer's issue is unclear\n",
    "   c) The call is garbled, incomplete, or is hindered by a language barrier\n",
    "   Then return ONLY the following JSON:\n",
    "   {\n",
    "     \"status\": \"INSUFFICIENT_DATA\"\n",
    "   }\n",
    "\n",
    "Examples: \n",
    "<examples>\n",
    "1. Complete interaction:\n",
    "<transcript>\n",
    "Agent: Thank you for calling Acme Smart Home Support. This is Alex. How may I assist you today?\n",
    "Customer: Hi Alex, my Acme SmartTherm isn't maintaining the temperature I set. It's set to 72 but the house is much warmer.\n",
    "Agent: I'm sorry to hear that. Let's troubleshoot. Is your SmartTherm connected to Wi-Fi?\n",
    "Customer: Yes, the Wi-Fi symbol is showing on the display.\n",
    "Agent: Great. Let's recalibrate your SmartTherm. Press and hold the menu button for 5 seconds.\n",
    "Customer: Okay, done. A new menu came up.\n",
    "Agent: Perfect. Navigate to \"Calibration\" and press select. Adjust the temperature to match your room thermometer.\n",
    "Customer: Alright, I've set it to 79 degrees to match.\n",
    "Agent: Great. Press select to confirm. It will recalibrate, which may take a few minutes. Check back in an hour to see if it's fixed.\n",
    "Customer: Okay, I'll do that. Thank you for your help, Alex.\n",
    "Agent: You're welcome! Is there anything else I can assist you with today?\n",
    "Customer: No, that's all. Thanks again.\n",
    "Agent: Thank you for choosing Acme Smart Home. Have a great day!\n",
    "</transcript>\n",
    "\n",
    "<thinking>\n",
    "Main issue: SmartTherm not maintaining set temperature\n",
    "Resolution: Guided customer through recalibration process\n",
    "Follow-up: Not required, but customer should check effectiveness after an hour\n",
    "Ambiguities: None identified\n",
    "</thinking>\n",
    "\n",
    "<json>\n",
    "{\n",
    "  \"summary\": {\n",
    "    \"customerIssue\": \"SmartTherm not maintaining set temperature, showing higher than set 72 degrees\",\n",
    "    \"resolution\": \"Guided customer through SmartTherm recalibration process\",\n",
    "    \"followUpRequired\": false,\n",
    "    \"followUpDetails\": null\n",
    "  },\n",
    "  \"status\": \"COMPLETE\",\n",
    "  \"ambiguities\": []\n",
    "}\n",
    "</json>\n",
    "\n",
    "2. Interaction requiring follow-up:\n",
    "<transcript>\n",
    "Agent: Acme Smart Home Support, this is Jamie. How can I help you?\n",
    "Customer: Hi, I just installed my new Acme SmartCam, but I can't get it to connect to my Wi-Fi.\n",
    "Agent: I'd be happy to help. Are you using the Acme Smart Home app?\n",
    "Customer: Yes, I have the app on my phone.\n",
    "Agent: Great. Make sure your phone is connected to the 2.4GHz Wi-Fi network, not the 5GHz one.\n",
    "Customer: Oh, I'm on the 5GHz network. Should I switch?\n",
    "Agent: Yes, please switch to the 2.4GHz network. The SmartCam only works with 2.4GHz.\n",
    "Customer: Okay, done. Now what?\n",
    "Agent: Open the app, select 'Add Device', choose 'SmartCam', and follow the on-screen instructions.\n",
    "Customer: It's asking for a password now.\n",
    "Agent: Enter your Wi-Fi password and it should connect.\n",
    "Customer: It's still not working. I keep getting an error message.\n",
    "Agent: I see. In that case, I'd like to escalate this to our technical team. They'll contact you within 24 hours.\n",
    "Customer: Okay, that sounds good. Thank you for trying to help.\n",
    "Agent: You're welcome. Is there anything else you need assistance with?\n",
    "Customer: No, that's all for now. Thanks again.\n",
    "Agent: Thank you for choosing Acme Smart Home. Have a great day!\n",
    "</transcript>\n",
    "\n",
    "<thinking>\n",
    "Main issue: Customer unable to connect new SmartCam to Wi-Fi\n",
    "Resolution: Initial troubleshooting unsuccessful, issue escalated to technical team\n",
    "Follow-up: Required, technical team to contact customer within 24 hours\n",
    "Ambiguities: Specific error message customer is receiving not mentioned\n",
    "</thinking>\n",
    "\n",
    "<json>\n",
    "{\n",
    "  \"summary\": {\n",
    "    \"customerIssue\": \"Unable to connect new SmartCam to Wi-Fi\",\n",
    "    \"resolution\": \"Initial troubleshooting unsuccessful, issue escalated to technical team\",\n",
    "    \"followUpRequired\": true,\n",
    "    \"followUpDetails\": \"Technical team to contact customer within 24 hours for further assistance\"\n",
    "  },\n",
    "  \"status\": \"COMPLETE\",\n",
    "  \"ambiguities\": [\"Specific error message customer is receiving not mentioned\"]\n",
    "}\n",
    "</json>\n",
    "\n",
    "3. Insufficient data:\n",
    "<transcript>\n",
    "Agent: Acme Smart Home Support, this is Sam. How may I assist you?\n",
    "Customer: Hi, my smart lock isn't working.\n",
    "Agent: I'm sorry to hear that. Can you tell me more about the issue?\n",
    "Customer: It just doesn't work. I don't know what else to say.\n",
    "Agent: Okay, when did you first notice the problem? And what model of Acme smart lock do you have?\n",
    "Customer: I don't remember. Listen, I have to go. I'll call back later.\n",
    "Agent: Alright, we're here 24/7 if you need further assistance. Have a good day.\n",
    "</transcript>\n",
    "\n",
    "<thinking>\n",
    "This transcript has fewer than 5 exchanges and the customer's issue is unclear. The customer doesn't provide specific details about the problem with the smart lock or respond to the agent's questions. This interaction doesn't provide sufficient information for a complete summary.\n",
    "</thinking>\n",
    "\n",
    "<json>\n",
    "{\n",
    "  \"status\": \"INSUFFICIENT_DATA\"\n",
    "}\n",
    "</json>\n",
    "</examples>\n",
    "</instructions>\n",
    "\n",
    "Before generating the JSON, please analyze the transcript in <thinking> tags. \n",
    "Include your identification of the main issue, resolution, follow-up requirements, and any ambiguities. \n",
    "Then, provide your JSON output in <json> tags.\n",
    "\"\"\""
   ]
  },
  {
   "cell_type": "markdown",
   "id": "eca158af-6751-4497-b44c-a910c9b98675",
   "metadata": {},
   "source": [
    "## Our Goal"
   ]
  },
  {
   "cell_type": "markdown",
   "id": "827895bb-120d-47df-a48c-c630c579322b",
   "metadata": {},
   "source": [
    "### Sample Customer Reviews"
   ]
  },
  {
   "cell_type": "markdown",
   "id": "db707ed1-adda-4ed7-be4d-d5a0d887dab7",
   "metadata": {},
   "source": [
    "I recently purchased the XYZ Smartphone, and I have to say, it's been a mixed experience. On the positive side, the camera quality is absolutely stunning. The photos I've taken are crisp, clear, and the colors are vibrant. The battery life is also impressive, lasting me a full day even with heavy use.\n",
    "\n",
    "However, there are a few issues that have been frustrating. Firstly, the phone tends to overheat when I'm using multiple apps or playing games for extended periods. It becomes uncomfortably warm to hold. Secondly, the facial recognition feature is unreliable. It often fails to recognize me in low light conditions, forcing me to use the PIN instead.\n",
    "\n",
    "The user interface is sleek and intuitive, which I appreciate. But I've noticed occasional lag when switching between apps, which is disappointing for a phone at this price point. Customer support has been helpful in addressing some of my concerns, but they haven't been able to resolve the overheating issue.\n",
    "\n",
    "Overall, while I'm impressed with certain aspects of the phone, the negatives are significant enough that I'm not sure I can wholeheartedly recommend it. It's a decent phone, but for the price, I expected fewer issues."
   ]
  },
  {
   "cell_type": "markdown",
   "id": "ae1e898f-5e56-4ed5-a407-db6a2c0b2562",
   "metadata": {},
   "source": [
    "### Desired Output"
   ]
  },
  {
   "cell_type": "markdown",
   "id": "6320e921-48dd-4025-b359-40f4ca94fbd7",
   "metadata": {},
   "source": [
    "```json\n",
    "{\n",
    "  \"sentiment_score\": \"Negative\",\n",
    "  \"sentiment_analysis\": \"While the review acknowledges positive aspects (camera quality, battery life, and user interface), the overall sentiment is negative due to multiple unresolved technical issues, performance problems, and price-to-value concerns. The reviewer explicitly states reluctance to recommend the product and concludes with disappointment regarding the value proposition.\",\n",
    "  \"complaints\": [\n",
    "    \"Phone overheating during multiple apps usage and gaming\",\n",
    "    \"Unreliable facial recognition system, especially in low light\",\n",
    "    \"Performance lag when switching between apps\",\n",
    "    \"Poor value for money considering the price point\"\n",
    "  ]\n",
    "}\n",
    "```"
   ]
  },
  {
   "cell_type": "markdown",
   "id": "32ee397c-36a6-4cbc-b6f6-404d59217519",
   "metadata": {},
   "source": [
    "## Writing Our Prompt"
   ]
  },
  {
   "cell_type": "markdown",
   "id": "35049479-bb89-4557-bb58-a824d467185f",
   "metadata": {},
   "source": [
    "### Set The Role"
   ]
  },
  {
   "cell_type": "code",
   "execution_count": 6,
   "id": "8e3e381a-371f-46b6-8b4a-b3ee8358b27b",
   "metadata": {
    "height": 115
   },
   "outputs": [],
   "source": [
    "setting_the_role = \"\"\"\n",
    "You are an AI assistant specialized in analyzing customer reviews. \n",
    "Your task is to determine the overall sentiment of a given review \n",
    "and extract any specific complaints mentioned. \n",
    "Please follow these instructions carefully:\n",
    "\"\"\""
   ]
  },
  {
   "cell_type": "markdown",
   "id": "4a84daf2-078a-41c1-a727-2bcbc0e73ff3",
   "metadata": {},
   "source": [
    "### Make It A Prompt Template"
   ]
  },
  {
   "cell_type": "code",
   "execution_count": 7,
   "id": "0c2c1446-e653-4580-9347-5c155e46cc72",
   "metadata": {
    "height": 132
   },
   "outputs": [],
   "source": [
    "instruction_pt1 = \"\"\"\n",
    "1. Review the following customer feedback:\n",
    "\n",
    "<customer_review>\n",
    "{{CUSTOMER_REVIEW}}\n",
    "</customer_review>\n",
    "\"\"\""
   ]
  },
  {
   "cell_type": "markdown",
   "id": "8db171b9-c9b1-410d-bb3b-ae6a0e6d55dc",
   "metadata": {},
   "source": [
    "### Let Claude Think"
   ]
  },
  {
   "cell_type": "code",
   "execution_count": 8,
   "id": "cc606437-b1a0-4e34-84bb-c118ad521c3a",
   "metadata": {
    "height": 438
   },
   "outputs": [],
   "source": [
    "instruction_pt2 = \"\"\"\n",
    "2. Analyze the review using the following steps. \n",
    "Show your work in <review_breakdown> tags:\n",
    "\n",
    "a) Key Phrase Extraction:\n",
    "   - Extract and quote key phrases that indicate sentiment \n",
    "   (positive, negative, or neutral).\n",
    "   - Extract and quote key phrases that suggest complaints or issues.\n",
    "\n",
    "b) Sentiment Analysis:\n",
    "   - Consider arguments for positive, negative, \n",
    "   and neutral sentiment based on the extracted phrases.\n",
    "   - Determine the overall sentiment (positive, negative, or neutral) \n",
    "   based on your analysis.\n",
    "   - Explain your reasoning for the sentiment classification.\n",
    "\n",
    "c) Complaint Extraction:\n",
    "   - List each specific issue or problem mentioned in the review.\n",
    "   - For each complaint, provide the relevant quote from the review.\n",
    "   - Count the total number of complaints found.\n",
    "\n",
    "It's OK for this section to be quite long as you \n",
    "thoroughly break down the review.\n",
    "\"\"\""
   ]
  },
  {
   "cell_type": "markdown",
   "id": "cc2f1490-43d6-437e-a2b0-d5e21b17dcd3",
   "metadata": {},
   "source": [
    "### Output Instructions"
   ]
  },
  {
   "cell_type": "code",
   "execution_count": 9,
   "id": "19ed3476-028e-4265-b2b1-5fec1381223b",
   "metadata": {
    "height": 489
   },
   "outputs": [],
   "source": [
    "instruction_pt3 = \"\"\"\n",
    "3. Based on your analysis, \n",
    "generate a JSON output with the following structure:\n",
    "\n",
    "<json>\n",
    "{\n",
    "  \"sentiment_score\": \"Positive|Negative|Neutral\",\n",
    "  \"sentiment_analysis\": \"Explanation of sentiment classification\",\n",
    "  \"complaints\": [\n",
    "    \"Complaint 1\",\n",
    "    \"Complaint 2\",\n",
    "    \"...\"\n",
    "  ]\n",
    "}\n",
    "</json>\n",
    "\n",
    "If no complaints are found, \n",
    "use an empty array for the \"complaints\" field.\n",
    "\n",
    "Remember:\n",
    "- Base your analysis solely on the content of the provided review.\n",
    "- Do not make assumptions or include information \n",
    "not present in the review.\n",
    "- Be objective and focus on the customer's expressed \n",
    "opinions and experiences.\n",
    "- Ensure your JSON output is properly formatted \n",
    "and contains all required fields.\n",
    "\"\"\""
   ]
  },
  {
   "cell_type": "markdown",
   "id": "808cec57-9400-4f1b-a94f-679727be778c",
   "metadata": {},
   "source": [
    "### Assembling The Prompt"
   ]
  },
  {
   "cell_type": "code",
   "execution_count": 10,
   "id": "8079ad8d-db32-46c1-8ad9-f78ecc19c6a6",
   "metadata": {
    "height": 115
   },
   "outputs": [],
   "source": [
    "final_prompt = f\"\"\"\n",
    "{setting_the_role}\n",
    "{instruction_pt1}\n",
    "{instruction_pt2}\n",
    "{instruction_pt3}\n",
    "\"\"\""
   ]
  },
  {
   "cell_type": "code",
   "execution_count": 11,
   "id": "8261eb11-b438-4d0f-ae32-5134712648ab",
   "metadata": {
    "height": 30
   },
   "outputs": [
    {
     "name": "stdout",
     "output_type": "stream",
     "text": [
      "\n",
      "\n",
      "You are an AI assistant specialized in analyzing customer reviews. \n",
      "Your task is to determine the overall sentiment of a given review \n",
      "and extract any specific complaints mentioned. \n",
      "Please follow these instructions carefully:\n",
      "\n",
      "\n",
      "1. Review the following customer feedback:\n",
      "\n",
      "<customer_review>\n",
      "{{CUSTOMER_REVIEW}}\n",
      "</customer_review>\n",
      "\n",
      "\n",
      "2. Analyze the review using the following steps. \n",
      "Show your work in <review_breakdown> tags:\n",
      "\n",
      "a) Key Phrase Extraction:\n",
      "   - Extract and quote key phrases that indicate sentiment \n",
      "   (positive, negative, or neutral).\n",
      "   - Extract and quote key phrases that suggest complaints or issues.\n",
      "\n",
      "b) Sentiment Analysis:\n",
      "   - Consider arguments for positive, negative, \n",
      "   and neutral sentiment based on the extracted phrases.\n",
      "   - Determine the overall sentiment (positive, negative, or neutral) \n",
      "   based on your analysis.\n",
      "   - Explain your reasoning for the sentiment classification.\n",
      "\n",
      "c) Complaint Extraction:\n",
      "   - List each specific issue or problem mentioned in the review.\n",
      "   - For each complaint, provide the relevant quote from the review.\n",
      "   - Count the total number of complaints found.\n",
      "\n",
      "It's OK for this section to be quite long as you \n",
      "thoroughly break down the review.\n",
      "\n",
      "\n",
      "3. Based on your analysis, \n",
      "generate a JSON output with the following structure:\n",
      "\n",
      "<json>\n",
      "{\n",
      "  \"sentiment_score\": \"Positive|Negative|Neutral\",\n",
      "  \"sentiment_analysis\": \"Explanation of sentiment classification\",\n",
      "  \"complaints\": [\n",
      "    \"Complaint 1\",\n",
      "    \"Complaint 2\",\n",
      "    \"...\"\n",
      "  ]\n",
      "}\n",
      "</json>\n",
      "\n",
      "If no complaints are found, \n",
      "use an empty array for the \"complaints\" field.\n",
      "\n",
      "Remember:\n",
      "- Base your analysis solely on the content of the provided review.\n",
      "- Do not make assumptions or include information \n",
      "not present in the review.\n",
      "- Be objective and focus on the customer's expressed \n",
      "opinions and experiences.\n",
      "- Ensure your JSON output is properly formatted \n",
      "and contains all required fields.\n",
      "\n",
      "\n"
     ]
    }
   ],
   "source": [
    "print(final_prompt)"
   ]
  },
  {
   "cell_type": "markdown",
   "id": "0e6bb659-4078-4b91-abf2-17434a89486b",
   "metadata": {},
   "source": [
    "## Using The Prompt"
   ]
  },
  {
   "cell_type": "code",
   "execution_count": 12,
   "id": "64a7f9ea-fe98-4dfb-bcf7-fbaf3292416d",
   "metadata": {
    "height": 404
   },
   "outputs": [],
   "source": [
    "import re\n",
    "def get_review_sentiment(review):\n",
    "    #Insert the context into the prompt\n",
    "    prompt = final_prompt.replace(\"{{CUSTOMER_REVIEW}}\", review)\n",
    "    # Send a request to Claude\n",
    "    response = client.messages.create(\n",
    "        model=MODEL_NAME,\n",
    "        max_tokens=2000,\n",
    "        messages=[\n",
    "            {\"role\": \"user\", \"content\": prompt}        \n",
    "        ]\n",
    "    )\n",
    "    output = response.content[0].text\n",
    "    print(\"ENTIRE MODEL OUTPUT: \")\n",
    "    print(output)\n",
    "    \n",
    "    sentiment = re.search(r'<json>(.*?)</json>', output, re.DOTALL)\n",
    "    \n",
    "    if sentiment:\n",
    "        print(\"FINAL JSON OUTPUT: \")\n",
    "        print(sentiment.group(1).strip())\n",
    "    else:\n",
    "        print(\"No sentiment analysis in the response.\")"
   ]
  },
  {
   "cell_type": "code",
   "execution_count": 13,
   "id": "8e597500-f436-480b-ab1e-8dc3cfc620de",
   "metadata": {
    "height": 115
   },
   "outputs": [],
   "source": [
    "review1 = \"\"\"\n",
    "I am in love with my Acme phone.  It's incredible.\n",
    "It's a little expensive, but so worth it imo.\n",
    "If you can afford it, it's worth it! \n",
    "I love the colors too!\n",
    "\"\"\""
   ]
  },
  {
   "cell_type": "code",
   "execution_count": 14,
   "id": "cc595267-75ab-4f8a-872a-ed49d3adb968",
   "metadata": {
    "height": 30
   },
   "outputs": [
    {
     "name": "stdout",
     "output_type": "stream",
     "text": [
      "ENTIRE MODEL OUTPUT: \n",
      "<review_breakdown>\n",
      "\n",
      "a) Key Phrase Extraction:\n",
      "\n",
      "Positive sentiment phrases:\n",
      "- \"in love with\"\n",
      "- \"incredible\"\n",
      "- \"so worth it\"\n",
      "- \"worth it!\"\n",
      "- \"I love the colors\"\n",
      "\n",
      "Potential concern/negative phrases:\n",
      "- \"a little expensive\"\n",
      "\n",
      "b) Sentiment Analysis:\n",
      "Arguments for positive sentiment:\n",
      "- Multiple expressions of strong positive emotions (\"in love\", \"incredible\")\n",
      "- Repeated emphasis on value despite cost (\"so worth it\", \"worth it!\")\n",
      "- Enthusiastic about aesthetic features (\"love the colors\")\n",
      "- Use of exclamation marks indicating excitement\n",
      "- Even the price concern is minimized with \"little\" and countered with \"but so worth it\"\n",
      "\n",
      "Arguments for negative sentiment:\n",
      "- Single mention of price being high\n",
      "\n",
      "Overall Sentiment: POSITIVE\n",
      "Reasoning: The review contains multiple strong positive statements and enthusiasm. The only negative aspect (price) is immediately justified by the customer as being worth it. The tone throughout is enthusiastic and recommending.\n",
      "\n",
      "c) Complaint Extraction:\n",
      "Potential Issues:\n",
      "1. Price: \"It's a little expensive\" \n",
      "   (Note: This is mentioned but immediately justified, so it's more of an observation than a complaint)\n",
      "\n",
      "Total Complaints: 0 \n",
      "(The price mention is not framed as a complaint but rather as a justified cost)\n",
      "\n",
      "</review_breakdown>\n",
      "\n",
      "<json>\n",
      "{\n",
      "  \"sentiment_score\": \"Positive\",\n",
      "  \"sentiment_analysis\": \"The review expresses strong positive sentiment with multiple enthusiastic statements ('in love', 'incredible') and explicit value endorsements. While price is mentioned as high, it's immediately justified as worthwhile, making this a strongly positive review with recommendations to others.\",\n",
      "  \"complaints\": []\n",
      "}\n",
      "</json>\n",
      "FINAL JSON OUTPUT: \n",
      "{\n",
      "  \"sentiment_score\": \"Positive\",\n",
      "  \"sentiment_analysis\": \"The review expresses strong positive sentiment with multiple enthusiastic statements ('in love', 'incredible') and explicit value endorsements. While price is mentioned as high, it's immediately justified as worthwhile, making this a strongly positive review with recommendations to others.\",\n",
      "  \"complaints\": []\n",
      "}\n"
     ]
    }
   ],
   "source": [
    "get_review_sentiment(review1)"
   ]
  },
  {
   "cell_type": "markdown",
   "id": "998ac8fa-77d2-42db-8099-5af10815ee7e",
   "metadata": {},
   "source": [
    "<p style=\"background-color:#f7fff8; padding:15px; border-width:3px; border-color:#e0f0e0; border-style:solid; border-radius:6px\"> 🚨\n",
    "&nbsp; <b>Different Run Results:</b> The output generated by AI chat models can vary with each execution due to their probabilistic nature. Don't be surprised if your results differ from those shown in the video.</p>"
   ]
  },
  {
   "cell_type": "code",
   "execution_count": 15,
   "id": "bfca199f-0393-4cf2-98b0-856385094130",
   "metadata": {
    "height": 506
   },
   "outputs": [],
   "source": [
    "review2 = \"\"\"\n",
    "I recently bought the ABC Smartwatch, and I have to say, it's been a \n",
    "bit of a rollercoaster. Let's start with the good stuff - \n",
    "the design is absolutely gorgeous. It's sleek, lightweight, \n",
    "and looks fantastic on my wrist. The display is crisp and bright, \n",
    "even in direct sunlight. I also love how customizable the watch \n",
    "faces are, allowing me to switch up the look whenever I want.\n",
    "However, there are some significant downsides that I can't ignore. \n",
    "The battery life is terrible - I'm lucky if I get through a full \n",
    "day without needing to charge it. This is especially frustrating\n",
    "when I'm traveling or out for long periods. The fitness tracking \n",
    "features, which were a big selling point for me, are hit or miss. \n",
    "It often doesn't accurately count my steps or calculate calories burned \n",
    "during workouts. Another issue I've encountered is with the touch \n",
    "sensitivity. Sometimes it's overly sensitive, registering accidental \n",
    "touches, while other times I have to tap multiple times for it to \n",
    "respond. It's inconsistent and annoying, especially when I'm trying to \n",
    "quickly check notifications or start a workout.On the plus side, the \n",
    "integration with my smartphone is seamless, and I appreciate being able \n",
    "to respond to texts and calls from my wrist. The water resistance has \n",
    "also held up well - I've worn it while swimming without any problems.\n",
    "Customer service has been decent. They were quick to respond when I \n",
    "reported the battery issue, but their solution of turning off certain \n",
    "features defeats the purpose of having a smartwatch. All in all, while \n",
    "there are aspects of the ABC Smartwatch that I really like, the battery \n",
    "life and inconsistent performance are major drawbacks. For the price \n",
    "point, I expected better. It's not worth your money.\n",
    "\"\"\""
   ]
  },
  {
   "cell_type": "code",
   "execution_count": 16,
   "id": "fe4818a7-c8e7-44e9-95c4-2b27de6de39c",
   "metadata": {
    "height": 30
   },
   "outputs": [
    {
     "name": "stdout",
     "output_type": "stream",
     "text": [
      "ENTIRE MODEL OUTPUT: \n",
      "<review_breakdown>\n",
      "\n",
      "a) Key Phrase Extraction:\n",
      "\n",
      "Positive Phrases:\n",
      "- \"design is absolutely gorgeous\"\n",
      "- \"sleek, lightweight, and looks fantastic\"\n",
      "- \"display is crisp and bright\"\n",
      "- \"love how customizable the watch faces are\"\n",
      "- \"integration with my smartphone is seamless\"\n",
      "- \"water resistance has held up well\"\n",
      "- \"customer service has been decent\"\n",
      "- \"quick to respond\"\n",
      "\n",
      "Negative Phrases:\n",
      "- \"battery life is terrible\"\n",
      "- \"lucky if I get through a full day\"\n",
      "- \"fitness tracking features are hit or miss\"\n",
      "- \"doesn't accurately count my steps\"\n",
      "- \"touch sensitivity... inconsistent and annoying\"\n",
      "- \"have to tap multiple times\"\n",
      "- \"not worth your money\"\n",
      "- \"major drawbacks\"\n",
      "- \"expected better\"\n",
      "\n",
      "b) Sentiment Analysis:\n",
      "\n",
      "Arguments for Positive:\n",
      "- Appreciates design and aesthetics\n",
      "- Good display quality\n",
      "- Successful smartphone integration\n",
      "- Reliable water resistance\n",
      "- Responsive customer service\n",
      "\n",
      "Arguments for Negative:\n",
      "- Severe battery life issues\n",
      "- Unreliable core functionality (fitness tracking)\n",
      "- Persistent touch sensitivity problems\n",
      "- Explicitly states \"not worth your money\"\n",
      "- Uses phrases like \"major drawbacks\"\n",
      "- Concludes with negative recommendation\n",
      "\n",
      "Overall Sentiment: NEGATIVE\n",
      "Reasoning: While the review acknowledges several positive aspects, the critical issues affect core functionality. The reviewer explicitly recommends against purchase and emphasizes that the drawbacks outweigh the benefits, especially considering the price point.\n",
      "\n",
      "c) Complaint Extraction:\n",
      "\n",
      "1. Poor Battery Life\n",
      "Quote: \"The battery life is terrible - I'm lucky if I get through a full day without needing to charge it\"\n",
      "\n",
      "2. Inaccurate Fitness Tracking\n",
      "Quote: \"It often doesn't accurately count my steps or calculate calories burned during workouts\"\n",
      "\n",
      "3. Inconsistent Touch Sensitivity\n",
      "Quote: \"Sometimes it's overly sensitive, registering accidental touches, while other times I have to tap multiple times for it to respond\"\n",
      "\n",
      "4. Inadequate Solution to Problems\n",
      "Quote: \"their solution of turning off certain features defeats the purpose of having a smartwatch\"\n",
      "\n",
      "Total Complaints: 4\n",
      "\n",
      "</review_breakdown>\n",
      "\n",
      "<json>\n",
      "{\n",
      "  \"sentiment_score\": \"Negative\",\n",
      "  \"sentiment_analysis\": \"Despite positive aspects regarding design and basic features, the review is predominantly negative due to fundamental issues with battery life, fitness tracking accuracy, and touch sensitivity. The reviewer explicitly states the product is not worth the money and the conclusion emphasizes major drawbacks that overshadow the positive elements.\",\n",
      "  \"complaints\": [\n",
      "    \"Poor battery life requiring daily charging\",\n",
      "    \"Inaccurate fitness tracking features\",\n",
      "    \"Inconsistent touch sensitivity causing user interaction problems\",\n",
      "    \"Inadequate customer service solutions that compromise functionality\"\n",
      "  ]\n",
      "}\n",
      "</json>\n",
      "FINAL JSON OUTPUT: \n",
      "{\n",
      "  \"sentiment_score\": \"Negative\",\n",
      "  \"sentiment_analysis\": \"Despite positive aspects regarding design and basic features, the review is predominantly negative due to fundamental issues with battery life, fitness tracking accuracy, and touch sensitivity. The reviewer explicitly states the product is not worth the money and the conclusion emphasizes major drawbacks that overshadow the positive elements.\",\n",
      "  \"complaints\": [\n",
      "    \"Poor battery life requiring daily charging\",\n",
      "    \"Inaccurate fitness tracking features\",\n",
      "    \"Inconsistent touch sensitivity causing user interaction problems\",\n",
      "    \"Inadequate customer service solutions that compromise functionality\"\n",
      "  ]\n",
      "}\n"
     ]
    }
   ],
   "source": [
    "get_review_sentiment(review2)"
   ]
  },
  {
   "cell_type": "markdown",
   "id": "f7b60ea0-ac9a-4687-b586-9802a4b4bb19",
   "metadata": {},
   "source": [
    "## Examples"
   ]
  },
  {
   "cell_type": "code",
   "execution_count": 17,
   "id": "e8fe8b18-8173-48a5-bc2c-f5fd38eb973a",
   "metadata": {
    "height": 1764
   },
   "outputs": [],
   "source": [
    "examples = \"\"\"\n",
    "Here are some example inputs and outputs to help you understand\n",
    "the sort of analysis we're looking for\n",
    "<examples>\n",
    "<example1>\n",
    "\n",
    "<customer_review>\n",
    "I recently bought the ABC Smartwatch, and I have to say, it's been a bit of a rollercoaster. Let's start with the good stuff - the design is absolutely gorgeous. It's sleek, lightweight, and looks fantastic on my wrist. The display is crisp and bright, even in direct sunlight. I also love how customizable the watch faces are, allowing me to switch up the look whenever I want.\n",
    "However, there are some significant downsides that I can't ignore. The battery life is terrible - I'm lucky if I get through a full day without needing to charge it. This is especially frustrating when I'm traveling or out for long periods. The fitness tracking features, which were a big selling point for me, are hit or miss. It often doesn't accurately count my steps or calculate calories burned during workouts.\n",
    "Another issue I've encountered is with the touch sensitivity. Sometimes it's overly sensitive, registering accidental touches, while other times I have to tap multiple times for it to respond. It's inconsistent and annoying, especially when I'm trying to quickly check notifications or start a workout.\n",
    "On the plus side, the integration with my smartphone is seamless, and I appreciate being able to respond to texts and calls from my wrist. The water resistance has also held up well - I've worn it while swimming without any problems.\n",
    "Customer service has been decent. They were quick to respond when I reported the battery issue, but their solution of turning off certain features defeats the purpose of having a smartwatch.\n",
    "All in all, while there are aspects of the ABC Smartwatch that I really like, the battery life and inconsistent performance are major drawbacks. For the price point, I expected better. It's not worth your money.\n",
    "</customer_review>\n",
    "\n",
    "<ideal_output>\n",
    "<review_analysis>\n",
    "a) Key Phrase Extraction:\n",
    "\n",
    "Positive Phrases:\n",
    "1. \"design is absolutely gorgeous\"\n",
    "2. \"sleek, lightweight, and looks fantastic\"\n",
    "3. \"display is crisp and bright\"\n",
    "4. \"love how customizable the watch faces are\"\n",
    "5. \"integration with my smartphone is seamless\"\n",
    "6. \"water resistance has held up well\"\n",
    "7. \"customer service has been decent\"\n",
    "\n",
    "Negative Phrases:\n",
    "1. \"bit of a rollercoaster\"\n",
    "2. \"battery life is terrible\"\n",
    "3. \"lucky if I get through a full day\"\n",
    "4. \"fitness tracking features are hit or miss\"\n",
    "5. \"doesn't accurately count my steps\"\n",
    "6. \"touch sensitivity... overly sensitive\"\n",
    "7. \"have to tap multiple times\"\n",
    "8. \"inconsistent and annoying\"\n",
    "9. \"solution of turning off certain features defeats the purpose\"\n",
    "10. \"battery life and inconsistent performance are major drawbacks\"\n",
    "11. \"not worth your money\"\n",
    "\n",
    "b) Sentiment Analysis:\n",
    "Arguments for positive sentiment:\n",
    "- The design and aesthetics of the watch are highly praised\n",
    "- The display quality is commended\n",
    "- Customization options are appreciated\n",
    "- Smartphone integration works well\n",
    "- Water resistance feature is effective\n",
    "- Customer service responded quickly\n",
    "\n",
    "Arguments for negative sentiment:\n",
    "- Battery life is severely criticized\n",
    "- Fitness tracking, a key feature, is unreliable\n",
    "- Touch sensitivity issues cause frustration\n",
    "- The proposed solution compromises functionality\n",
    "- The price doesn't justify the performance\n",
    "- The reviewer explicitly states it's not worth the money\n",
    "\n",
    "Considering the strength and frequency of sentiments:\n",
    "- Positive sentiments are mostly about aesthetics and basic functions\n",
    "- Negative sentiments relate to core functionalities and user experience\n",
    "- The reviewer uses stronger language for negative aspects (\"terrible\", \"major drawbacks\", \"not worth your money\")\n",
    "- The conclusion emphasizes disappointment and recommends against purchase\n",
    "\n",
    "Based on this analysis, the overall sentiment leans negative. While the reviewer appreciates certain aspects, the core issues with battery life, performance, and value for money overshadow the positives. The explicit recommendation against purchase is a strong indicator of overall negative sentiment.\n",
    "\n",
    "c) Complaint Extraction:\n",
    "1. Poor battery life\n",
    "   Quote: \"The battery life is terrible - I'm lucky if I get through a full day without needing to charge it\"\n",
    "\n",
    "2. Inaccurate fitness tracking\n",
    "   Quote: \"The fitness tracking features, which were a big selling point for me, are hit or miss. It often doesn't accurately count my steps or calculate calories burned during workouts\"\n",
    "\n",
    "3. Inconsistent touch sensitivity\n",
    "   Quote: \"Sometimes it's overly sensitive, registering accidental touches, while other times I have to tap multiple times for it to respond\"\n",
    "\n",
    "4. Inadequate solution to problems\n",
    "   Quote: \"their solution of turning off certain features defeats the purpose of having a smartwatch\"\n",
    "\n",
    "Total Complaints: 4\n",
    "\n",
    "d) Summary:\n",
    "The analysis of the ABC Smartwatch review reveals a predominantly negative sentiment. While the customer appreciates the design, display quality, and some basic features, these positives are outweighed by significant issues with core functionalities. The main complaints center around poor battery life, inaccurate fitness tracking, inconsistent touch sensitivity, and inadequate problem-solving from customer service. The reviewer concludes that the product is not worth the money, emphasizing that the drawbacks are too significant to justify the price point.\n",
    "</review_analysis>\n",
    "\n",
    "<json>\n",
    "{\n",
    "  \"sentiment_score\": \"Negative\",\n",
    "  \"sentiment_analysis\": \"While the review acknowledges positive aspects like design and basic functionality, the overall sentiment is negative due to significant issues with core features (battery life, fitness tracking, touch sensitivity). The reviewer explicitly states it's 'not worth your money' and emphasizes major drawbacks that overshadow the positive elements.\",\n",
    "  \"complaints\": [\n",
    "    \"Poor battery life requiring daily charging\",\n",
    "    \"Inaccurate fitness tracking features\",\n",
    "    \"Inconsistent touch sensitivity causing user interface problems\",\n",
    "    \"Inadequate customer service solutions that compromise device functionality\"\n",
    "  ]\n",
    "}\n",
    "</json>\n",
    "</ideal_output>\n",
    "\n",
    "</example1>\n",
    "</examples>\n",
    "\"\"\""
   ]
  },
  {
   "cell_type": "code",
   "execution_count": null,
   "id": "89d2c26c-634e-4d7e-abc2-a59d9a63d67c",
   "metadata": {
    "height": 30
   },
   "outputs": [],
   "source": []
  },
  {
   "cell_type": "code",
   "execution_count": null,
   "id": "633bf251-175e-4fd3-abae-f6acd61edaf1",
   "metadata": {
    "height": 30
   },
   "outputs": [],
   "source": []
  },
  {
   "cell_type": "code",
   "execution_count": null,
   "id": "e1a62a3c-61d4-414f-979e-e859d8650301",
   "metadata": {
    "height": 30
   },
   "outputs": [],
   "source": []
  },
  {
   "cell_type": "code",
   "execution_count": null,
   "id": "c5e02e94-8f52-4778-9013-7c7499a454fe",
   "metadata": {
    "height": 30
   },
   "outputs": [],
   "source": []
  },
  {
   "cell_type": "code",
   "execution_count": null,
   "id": "957dd1e5-8abd-4e69-9b37-cf22160ed159",
   "metadata": {
    "height": 30
   },
   "outputs": [],
   "source": []
  },
  {
   "cell_type": "code",
   "execution_count": null,
   "id": "bfa768f6-05c7-4019-9d7b-11c00fa2a1d5",
   "metadata": {
    "height": 30
   },
   "outputs": [],
   "source": []
  }
 ],
 "metadata": {
  "kernelspec": {
   "display_name": "Python 3 (ipykernel)",
   "language": "python",
   "name": "python3"
  },
  "language_info": {
   "codemirror_mode": {
    "name": "ipython",
    "version": 3
   },
   "file_extension": ".py",
   "mimetype": "text/x-python",
   "name": "python",
   "nbconvert_exporter": "python",
   "pygments_lexer": "ipython3",
   "version": "3.11.9"
  }
 },
 "nbformat": 4,
 "nbformat_minor": 5
}
