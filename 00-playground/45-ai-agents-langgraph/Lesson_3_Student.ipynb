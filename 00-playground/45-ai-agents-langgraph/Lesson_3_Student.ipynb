{
 "cells": [
  {
   "cell_type": "markdown",
   "id": "2544dd96-a13c-42df-ab63-c427e68fd41e",
   "metadata": {},
   "source": [
    "# Lesson 3: Agentic Search"
   ]
  },
  {
   "cell_type": "code",
   "execution_count": 1,
   "id": "d0168aee-bce9-4d60-b827-f86a88187e31",
   "metadata": {
    "height": 183
   },
   "outputs": [],
   "source": [
    "# libraries\n",
    "from dotenv import load_dotenv\n",
    "import os\n",
    "from tavily import TavilyClient\n",
    "\n",
    "# load environment variables from .env file\n",
    "_ = load_dotenv()\n",
    "\n",
    "# connect\n",
    "client = TavilyClient(api_key=os.environ.get(\"TAVILY_API_KEY\"))"
   ]
  },
  {
   "cell_type": "code",
   "execution_count": 2,
   "id": "a2ba84ec-c172-4de7-ac55-e3158a531b23",
   "metadata": {
    "height": 132
   },
   "outputs": [
    {
     "data": {
      "text/plain": [
       "'The new NVIDIA Blackwell GPU architecture features groundbreaking compute performance and is optimized for large-scale AI models. It introduces confidential computing to protect sensitive data, extending Trusted Execution Environments (TEE) to GPUs. Blackwell offers robust, secure, and high-performing solutions for handling large language models (LLMs) and confidential AI training. It includes the second-generation Transformer Engine, fifth-generation NVLink with 50GB/sec per link bandwidth, and supports up to 576 GPUs for seamless scaling of large AI workloads.'"
      ]
     },
     "execution_count": 2,
     "metadata": {},
     "output_type": "execute_result"
    }
   ],
   "source": [
    "# run search\n",
    "result = client.search(\"What is in Nvidia's new Blackwell GPU?\",\n",
    "                       include_answer=True)\n",
    "\n",
    "# print the answer\n",
    "result[\"answer\"]\n"
   ]
  },
  {
   "cell_type": "markdown",
   "id": "d7f3f33c-c7bd-4b7f-9616-b65eef104514",
   "metadata": {},
   "source": [
    "## Regular search"
   ]
  },
  {
   "cell_type": "code",
   "execution_count": 3,
   "id": "876d5092-b8ef-4e38-b4d7-0e80c609bf7a",
   "metadata": {
    "height": 166
   },
   "outputs": [],
   "source": [
    "# choose location (try to change to your own city!)\n",
    "\n",
    "city = \"San Francisco\"\n",
    "\n",
    "query = f\"\"\"\n",
    "    what is the current weather in {city}?\n",
    "    Should I travel there today?\n",
    "    \"weather.com\"\n",
    "\"\"\""
   ]
  },
  {
   "cell_type": "markdown",
   "id": "2128e40f-11ef-41ed-ac1f-7feeb5546224",
   "metadata": {},
   "source": [
    "> Note: search was modified to return expected results in the event of an exception. High volumes of student traffic sometimes cause rate limit exceptions."
   ]
  },
  {
   "cell_type": "code",
   "execution_count": 4,
   "id": "10084a02-2928-4945-9f7c-ad3f5b33caf7",
   "metadata": {
    "height": 404
   },
   "outputs": [
    {
     "name": "stdout",
     "output_type": "stream",
     "text": [
      "returning previous results due to exception reaching ddg.\n",
      "https://weather.com/weather/today/l/USCA0987:1:US\n",
      "https://weather.com/weather/hourbyhour/l/54f9d8baac32496f6b5497b4bf7a277c3e2e6cc5625de69680e6169e7e38e9a8\n"
     ]
    }
   ],
   "source": [
    "import requests\n",
    "from bs4 import BeautifulSoup\n",
    "from duckduckgo_search import DDGS\n",
    "import re\n",
    "\n",
    "ddg = DDGS()\n",
    "\n",
    "def search(query, max_results=6):\n",
    "    try:\n",
    "        results = ddg.text(query, max_results=max_results)\n",
    "        return [i[\"href\"] for i in results]\n",
    "    except Exception as e:\n",
    "        print(f\"returning previous results due to exception reaching ddg.\")\n",
    "        results = [ # cover case where DDG rate limits due to high deeplearning.ai volume\n",
    "            \"https://weather.com/weather/today/l/USCA0987:1:US\",\n",
    "            \"https://weather.com/weather/hourbyhour/l/54f9d8baac32496f6b5497b4bf7a277c3e2e6cc5625de69680e6169e7e38e9a8\",\n",
    "        ]\n",
    "        return results  \n",
    "\n",
    "\n",
    "for i in search(query):\n",
    "    print(i)"
   ]
  },
  {
   "cell_type": "code",
   "execution_count": 5,
   "id": "d31c432d-8e22-412f-b302-961ace0b00bd",
   "metadata": {
    "height": 268
   },
   "outputs": [],
   "source": [
    "def scrape_weather_info(url):\n",
    "    \"\"\"Scrape content from the given URL\"\"\"\n",
    "    if not url:\n",
    "        return \"Weather information could not be found.\"\n",
    "    \n",
    "    # fetch data\n",
    "    headers = {'User-Agent': 'Mozilla/5.0'}\n",
    "    response = requests.get(url, headers=headers)\n",
    "    if response.status_code != 200:\n",
    "        return \"Failed to retrieve the webpage.\"\n",
    "\n",
    "    # parse result\n",
    "    soup = BeautifulSoup(response.text, 'html.parser')\n",
    "    return soup\n"
   ]
  },
  {
   "cell_type": "markdown",
   "id": "0b67d8ad-a439-4c91-9dfe-7c84998ef644",
   "metadata": {},
   "source": [
    "> Note: This produces a long output, you may want to right click and clear the cell output after you look at it briefly to avoid scrolling past it."
   ]
  },
  {
   "cell_type": "code",
   "execution_count": 6,
   "id": "714d1205-f8fc-4912-b148-2a45da99219c",
   "metadata": {
    "height": 149
   },
   "outputs": [
    {
     "name": "stdout",
     "output_type": "stream",
     "text": [
      "returning previous results due to exception reaching ddg.\n",
      "Website: https://weather.com/weather/today/l/USCA0987:1:US\n",
      "\n",
      "\n",
      "<body><div class=\"appWrapper DaybreakLargeScreen LargeScreen lightTheme twcTheme DaybreakLargeScreen--appWrapper--ZkDop gradients--cloudyFoggyNight--O3uQX gradients--cloudyFoggyNight-top--Oklha\" id=\"appWrapper\"><div class=\"region-meta\"><div class=\"removeIfEmpty\" id=\"WxuHtmlHead-meta-\"></div><div class=\"removeIfEmpty\" id=\"WxuNewsroom-meta-bc9f40d5-d941-4fd8-bae2-2d8d63a38bb3\"></div></div><div class=\"region-topAds regionTopAds DaybreakLargeScreen--regionTopAds--sDajQ\"><div class=\"removeIfEmpty\" id=\"WxuAd-topAds-53dce052-5465-4609-a555-c3a20ab64ab0\"><div class=\"adWrapper BaseAd--adWrapper--ANZ1O BaseAd--card--cqv7t BaseAd--hide--hCG8L\"><div class=\"adLabel BaseAd--adLabel--JGSp6\">Advertisement</div><div class=\"ad_module BaseAd--ad_module--ajh9S subs-undefined BaseAd--placeholder--ofteC\" id=\"WX_Hidden\"></div></div></div><div class=\"removeIfEmpty\" id=\"WxuAd-topAds-fe926b10-58bc-448a-ab09-47e692334250\"><div class=\"adWrapper BaseAd--adWrapper--ANZ1O BaseAd--card--cqv7t BaseAd--hide--hCG8L\"><div class=\"adLabel BaseAd--adLabel--JGSp6\">Advertisement</div><div class=\"ad_module BaseAd--ad_module--ajh9S subs-undefined BaseAd--placeholder--ofteC\" id=\"MW_Interstitial\"></div></div></div></div><div class=\"region-header regionHeader gradients--cloudyFoggyNight-top--Oklha\" id=\"regionHeader\"><div class=\"removeIfEmpty\" id=\"WxuHeaderLargeScreen-header-9944ec87-e4d4-4f18-b23e-ce4a3fd8a3ba\"><header aria-label=\"Menu\" class=\"MainMenuHeader--MainMenuHeader--RBoq7 HeaderLargeScreen--HeaderLargeScreen--HPtiq gradients--cloudyFoggyNight-top--Oklha\" role=\"banner\"><div class=\"MainMenuHeader--wrapper--TVg8M\"><div class=\"MainMenuHeader--wrapperLeft--frN1-\"><a class=\"MainMenuHeader--accessibilityLink--bQU4R Button--secondary--dT8G-\" href=\"#MainContent\" target=\"_self\">Skip to Main Content</a><a class=\"MainMenuHeader--accessibilityLink--bQU4R Button--secondary--dT8G-\" href=\"https://www.essentialaccessibility.com/the-weather-channel?utm_source=theweatherchannelhomepage&amp;utm_medium=iconlarge&amp;utm_term=eachannelpage&amp;utm_content=header&amp;utm_campaign=theweatherchannel\" target=\"_self\">Accessibility Help</a><a class=\"Button--default--osTe5 Button--iconOnly--U4gWX\" href=\"/\" target=\"_self\"><svg aria-label=\"The Weather Company - Home\" class=\"MainMenuHeader--twcLogo--MHMAp Icon--icon--ySD-o Icon--lightTheme--Mqfrs\" data-testid=\"Icon\" fill=\"currentColor\" name=\"twc-logo-tm\" set=\"nav\" theme=\"light\" viewbox=\"0 0 432.96 399.36\"><title>The Weather Channel</title><path d=\"M152.48 347.3c0 4.02 2.48 6.71 5.9 6.71 2.51 0 5.01-1.3 7.01-3.52l.21-11.03h-.62c-9.31 0-12.5 1.74-12.5 7.84zM165.2 144c0-3.81-.4-5.81-1.61-7.72-1.3-1.99-3.2-3.01-5.9-3.01-5.12 0-8.04 4.02-8.04 11.13v.19h15.54V144h.01zm7.82 109.49c0 4.01 2.52 6.72 5.94 6.72 2.5 0 5.01-1.32 7.01-3.52l.21-11.03h-.6c-9.34.01-12.56 1.73-12.56 7.83zm-34.34-17.25c0-3.81-.41-5.8-1.6-7.7-1.32-2.02-3.22-3.03-5.94-3.03-5.11 0-8 4.03-8 11.14v.19h15.53v-.6h.01zM316 319.32c-5.1 0-8.01 4.02-8.01 11.15v.19h15.54v-.59c0-3.82-.39-5.83-1.59-7.72-1.32-2.02-3.22-3.03-5.94-3.03z\" fill=\"currentColor\"></path><path d=\"M372.65 228.54c-1.33-.7-2.41-1.01-3.91-1.01-3.02 0-5.74 1.4-8.21 4.3v36.3h-13.46v-34.3c0-6.9-.8-12.13-1.9-15.02l12.02-3.24c1.21 2.11 1.9 4.44 2.12 7.32 1.92-2.59 5.09-5.4 7.63-6.51 1.1-.49 2.9-.81 4.38-.81 2.02 0 2.92.2 5.03 1.11l-3.7 11.86zM360.2 363.13c-5.73 0-10.32-2.69-11.94-7.03-1.01-2.59-1.21-4.18-1.21-11.5v-38.29c0-6.72-.19-10.82-.69-15.45l13.73-3.11c.5 2.81.71 6.14.71 13.33v40c0 8.82.1 10.02.88 11.42.5.89 1.62 1.39 2.72 1.39.5 0 .79 0 1.49-.18l2.3 8.02c-2.29.9-5.08 1.4-7.99 1.4zm-22.42-116.48h-29.67v.44c0 7.91 3.91 12.41 10.83 12.41 4.61 0 8.92-1.71 13.03-5.11l5.21 8.04c-5.91 4.8-12.12 7.1-19.34 7.1-14.73 0-24.25-10.43-24.25-26.55 0-9.24 1.89-15.35 6.4-20.35 4.22-4.72 9.33-6.92 16.14-6.92 5.92 0 11.53 1.99 14.85 5.4 4.7 4.83 6.81 11.76 6.81 22.47v3.07h-.01zm-.32 93.83H307.8v.41c0 7.9 3.92 12.42 10.83 12.42 4.62 0 8.91-1.72 13.02-5.12l5.23 8.04c-5.92 4.8-12.13 7.1-19.35 7.1-14.74 0-24.26-10.43-24.26-26.55 0-9.23 1.9-15.35 6.4-20.35 4.22-4.73 9.33-6.92 16.14-6.92 5.9 0 11.53 2.01 14.84 5.42 4.71 4.8 6.81 11.73 6.81 22.43v3.12zm-50.78-72.34h-13.13v-34.5c0-5.09-1.4-7.01-5.21-7.01-3.31 0-7.63 2.01-10.62 4.73v36.78h-13.63v-59.35c0-4.82-.4-9.61-1-11.73l13.73-3.21c.59 2.81.9 7.61.9 12.52v10.22c0 1.61-.2 3.72-.2 4.32 3.51-3.31 9.31-5.52 14.54-5.52 6.51 0 11.72 2.81 13.33 7.31.99 2.94 1.3 4.63 1.3 9.54v35.9h-.01zm-2.73 93.8h-13.23v-33.38c0-5.81-1.01-7.52-4.51-7.52-2.7 0-6.22 1.82-9.31 4.62v36.28h-13.45v-37.19c0-4.41-.6-8.61-1.79-12.04l11.95-3.4c1.18 2.1 1.88 4.31 1.88 6.41 2.01-1.38 3.72-2.6 5.91-3.81 2.73-1.39 6.23-2.19 9.22-2.19 5.71 0 10.73 2.99 12.32 7.42.74 1.9 1.02 4.11 1.02 7.31v37.49h-.01zm-57.3-92.61c-6.81 0-12.23-2.99-13.83-7.52-.8-2.23-.9-3.23-.9-7.92v-27.88h-5.11v-9.21h5.11c0-5 0-8.34.5-12.13l13.64-3.4c-.5 4.69-.8 10.32-.8 15.54h12.04l-3.42 9.21h-8.61v25.78c0 6.51 1.19 8.22 5.81 8.22 1.2 0 2.41-.32 4.81-1.01l1.7 8.01c-3.94 1.61-7.43 2.31-10.94 2.31zm4.99 92.61H218.4v-33.38c0-5.81-1.01-7.52-4.51-7.52-2.7 0-6.19 1.82-9.32 4.62v36.28h-13.44v-37.19c0-4.41-.58-8.61-1.77-12.04l11.92-3.4c1.2 2.1 1.91 4.31 1.91 6.41 1.99-1.38 3.69-2.6 5.9-3.81 2.7-1.39 6.21-2.19 9.21-2.19 5.72 0 10.74 2.99 12.33 7.42.71 1.9 1.02 4.11 1.02 7.31v37.49h-.01zm-55.28-91.9c-11.45 0-17.65-5.83-17.65-16.06 0-12.03 8.31-17.63 24.63-17.63 1.01 0 1.92 0 3.01.09v-2.11c0-5.69-1.09-7.61-6-7.61-4.3 0-9.32 2.13-14.83 5.85l-5.72-9.65c2.72-1.71 4.71-2.71 8.34-4.19 5-2.12 9.32-3.01 14.02-3.01 8.61 0 14.54 3.21 16.55 8.91.69 2.1.99 3.7.89 9.22l-.29 17.26v.9c0 5.5.89 7.58 4.8 10.51l-7.11 8.22c-3.11-1.31-5.92-3.59-7.22-6.22-1 .98-2.11 2.01-3.11 2.71-2.51 1.8-6.11 2.81-10.31 2.81zm.06 94.51c-3.1-1.31-5.92-3.61-7.21-6.23-1.01 1.02-2.11 2.01-3.11 2.72-2.51 1.81-6.11 2.8-10.33 2.8-11.43 0-17.65-5.82-17.65-16.02 0-12.04 8.33-17.67 24.67-17.67 1 0 1.91 0 3.01.1v-2.08c0-5.74-1.1-7.63-6.03-7.63-4.32 0-9.34 2.11-14.83 5.82l-5.73-9.64c2.72-1.7 4.73-2.69 8.34-4.19 5.02-2.12 9.32-3.01 14.05-3.01 8.59 0 14.52 3.19 16.51 8.93.72 2.1 1.03 3.72.92 9.21l-.29 17.26v.89c0 5.52.9 7.6 4.82 10.52l-7.14 8.22zM108.4 242.98c0-9.24 1.9-15.35 6.41-20.35 4.22-4.72 9.33-6.92 16.15-6.92 5.91 0 11.54 1.99 14.84 5.4 4.72 4.83 6.83 11.76 6.83 22.47v3.08h-29.68v.44c0 7.91 3.92 12.41 10.82 12.41 4.62 0 8.91-1.71 13.03-5.11l5.22 8.04c-5.92 4.8-12.14 7.1-19.36 7.1-14.73-.01-24.26-10.44-24.26-26.56zm20.64 118.96H115.9v-34.5c0-5.1-1.4-7-5.2-7-3.31 0-7.63 1.99-10.63 4.71v36.79H86.44V302.6c0-4.83-.41-9.62-1.01-11.74l13.75-3.2c.58 2.82.89 7.62.89 12.56v10.19c0 1.6-.2 3.72-.2 4.33 3.5-3.32 9.32-5.53 14.53-5.53 6.52 0 11.71 2.81 13.32 7.33 1.01 2.92 1.32 4.61 1.32 9.54v35.86zm-69.54 1.19c-9.63 0-17.05-3.09-22.76-9.61-5.62-6.31-8.43-14.73-8.43-24.96 0-8.72 1.52-15.64 4.7-21.65 5.44-10.12 15.46-16.14 26.69-16.14 6.91 0 13.82 2.21 17.64 5.52l-6.32 9.51c-3.51-2.6-7.22-3.9-11.12-3.9-4.72 0-9.33 2.29-11.83 6.01-2.7 4-3.91 9.83-3.91 17.94 0 9.52.79 14.83 2.89 18.65 2.81 5.12 7.42 7.81 13.44 7.81 4.1 0 7.82-1.19 11.93-4.49l6.42 8.81c-5.52 4.49-11.41 6.5-19.34 6.5zM40.56 198.45l6 27.48c2.81 13.04 3.72 22.95 3.72 22.95.29-2.7 1.5-12.64 3.59-22.25l6.21-28.18h15.35l6.44 31.19c1.3 6.51 3 18.45 3 18.45.19-2.22 2.39-16.36 3.8-23.18l5.72-26.47h14.73l-16.83 70.27H76.94l-6.23-28.36c-2.1-9.32-3.11-18.34-3.29-20.24 0 0-1.2 9.82-3.34 20.05l-5.8 28.55H42.36l-16.65-70.27h14.85v.01zm-14.34-92.24h50.22l-2.3 11.64H57.5v58.04H43.25v-58.04H26.22v-11.64zm69.95-4.61c.59 2.81.9 7.62.9 12.53v10.23c0 1.58-.21 3.71-.21 4.31 3.51-3.31 9.32-5.53 14.53-5.53 6.52 0 11.73 2.8 13.35 7.32 1 2.9 1.3 4.61 1.3 9.53v35.89H112.9V141.4c0-5.11-1.4-7.01-5.23-7.01-3.31 0-7.61 1.99-10.61 4.71v36.79H83.44v-59.35c0-4.82-.41-9.61-1.02-11.73l13.75-3.21zm45.17 28.78c4.21-4.72 9.32-6.94 16.14-6.94 5.9 0 11.52 2.03 14.84 5.44 4.71 4.82 6.81 11.71 6.81 22.45v3.11h-29.66v.41c0 7.92 3.9 12.42 10.81 12.42 4.6 0 8.92-1.69 13.03-5.12l5.23 8.04c-5.93 4.79-12.15 7.1-19.35 7.1-14.75 0-24.27-10.43-24.27-26.54.01-9.26 1.9-15.37 6.42-20.37zM.82.04v399.28h399.26V.04H.82z\" fill=\"currentColor\"></path><path d=\"M316.33 225.51c-5.11 0-8.03 4.03-8.03 11.14v.19h15.55v-.6c0-3.81-.41-5.8-1.61-7.7-1.3-2.02-3.21-3.03-5.91-3.03zm101.57-211h2.16c1.87 0 3.69-.1 3.69-2.32 0-1.91-1.65-2.13-3.08-2.13h-2.77v4.45zm-2.09-6.16h5.21c3.27 0 4.83 1.3 4.83 3.94 0 2.51-1.59 3.56-3.65 3.78l3.97 6.1h-2.25l-3.75-5.94h-2.26v5.94h-2.09V8.35h-.01zm4.51 17.03c5.4 0 9.72-4.38 9.72-10.11 0-5.72-4.32-10.11-9.72-10.11-5.43 0-9.72 4.39-9.72 10.11 0 5.73 4.28 10.11 9.72 10.11m0-21.93c6.42 0 11.82 5.08 11.82 11.82s-5.4 11.82-11.82 11.82c-6.45 0-11.82-5.08-11.82-11.82 0-6.73 5.37-11.82 11.82-11.82\" fill=\"currentColor\"></path></svg></a></div><div class=\"MainMenuHeader--wrapperRight--hvYkI\"><div class=\"Search--Search--WZQcy\" data-testid=\"Search\" role=\"search\"><form autocomplete=\"off\"><div class=\"SearchCombobox--Combobox--V10dt\" tabindex=\"-1\"><div class=\"SearchInput--SearchInput--sGYsi SearchInput--enableSearchIcon--fhKmm SearchInput--MainMenu--JHcxY\"><fieldset class=\"SearchInput--fieldset--GKZYD Fieldset--fieldset--HG-gW\"><legend class=\"Fieldset--legend--gAkkC Accessibility--visuallyHidden--n+vd9\">Type at least three characters to start auto complete. Recently searched locations will be displayed if there is no search query. The first option will be automatically selected. Use up and down arrows to change selection. Use escape to clear.</legend><label class=\"Accessibility--visuallyHidden--n+vd9\" for=\"LocationSearch_input\">Search City or Zip Code</label><input aria-autocomplete=\"list\" aria-controls=\"\" aria-expanded=\"false\" autocapitalize=\"off\" autocomplete=\"off\" class=\"SearchInput--InputField--KQ3i+ Search--inputClass--XYtnA HeaderLargeScreen--searchInputClass--wjW3e\" data-testid=\"searchModalInputBox\" disabled=\"\" id=\"LocationSearch_input\" placeholder=\"Search City or Zip Code\" role=\"combobox\" type=\"text\" value=\"\"/></fieldset><svg class=\"SearchInput--searchIcon--KGKb2 Icon--icon--ySD-o Icon--lightTheme--Mqfrs\" data-testid=\"Icon\" name=\"location\" set=\"ui\" theme=\"light\" viewbox=\"0 0 20 20\"><title>Search</title><path d=\"M11.493 3.54c-2.284 0-4.142 1.866-4.142 4.16s1.858 4.16 4.142 4.16c2.284 0 4.142-1.866 4.142-4.16s-1.858-4.16-4.142-4.16zM7.026 11.72c-0.954-1.068-1.541-2.475-1.541-4.020 0-3.327 2.695-6.033 6.007-6.033s6.007 2.707 6.007 6.033c0 3.327-2.695 6.033-6.007 6.033-1.103 0-2.133-0.305-3.022-0.828l-4.327 5.099c-0.185 0.217-0.447 0.329-0.71 0.329-0.215 0-0.43-0.073-0.605-0.224-0.392-0.336-0.438-0.927-0.104-1.32l4.303-5.069z\"></path></svg></div><div class=\"RecentLocations--container--Vn06V\" role=\"alert\"><div class=\"SearchTitle--container--+V-ia\"><h2 class=\"SearchTitle--text--Us3Z3\" data-testid=\"searchedLocTitle\">recents</h2><button class=\"Button--default--osTe5 RecentLocations--clearButton--Kia-a\" data-testid=\"clearAll\" type=\"button\">Clear All</button></div><div class=\"RecentLocations--NoResults--XJupj\">You have no recent locations</div></div></div></form></div><div class=\"LanguageSelector--LanguageSelector--+88Kw\" data-testid=\"languageSelectorSection\"><button aria-expanded=\"false\" aria-haspopup=\"menu\" aria-label=\"[object Object]\" class=\"Button--default--osTe5\" data-testid=\"ctaButton\" type=\"button\"><div class=\"LanguageSelector--menuButtonInner--CYH92\"><svg class=\"LanguageSelector--globeIcon--NnLru Icon--icon--ySD-o Icon--lightTheme--Mqfrs\" data-testid=\"Icon\" name=\"globe\" set=\"ui\" theme=\"light\" viewbox=\"0 0 24 24\"><title>Globe</title><path d=\"M14.227 8.016h-.141c-.047-.023-.352.305-.352.305s-.234.094-.258.141c0 .047-.07 0-.023.07.023.07.164.023.234-.07.094-.07.258-.117.328-.164.07-.07.094-.047.234-.117.141-.047.234-.07.188-.141-.023-.023-.07-.023-.117-.023h-.117zm-1.243-.375c-.117 0-.258.047-.328.164-.047.117 0 .305-.023.398s-.047.305.07.328c.141.023.141-.188.117-.234s-.023-.281.047-.328c.047-.047.117-.164.258-.164.141-.023.258.094.234.211s.023.234.07.234.211-.094.164-.164.047-.352.047-.258.117.164.188.141-.07-.258-.164-.258c-.094-.023-.281-.023-.328 0-.023 0-.094 0-.164-.023s-.141-.023-.188-.023h-.023zm-.679-.305c-.164.07-.234.047-.234.141 0 .07.141.07.211.047a.708.708 0 01.258-.07c.047-.023.023.07.141.07s.281.047.305.023.164-.164.047-.188c-.094-.023-.234-.117-.328-.188-.023-.023-.023-.023-.047-.023-.094 0-.234.141-.398.188zM6.68 7.242c.07.047.211.047.211.117s.047.234.117.211.07-.164.023-.211-.258-.211-.305-.211-.117-.07-.164-.094h-.023c-.07 0 .07.164.117.211zM2.953 5.555c-.141.094-.211.047-.281.117s-.281.141-.211-.023.07-.188-.047-.141-.141.141-.141.211-.188.164-.188.164.164.023.234 0 .023.141-.047.188-.164.141-.281.117-.117-.117-.188-.141c-.047 0-.094.023-.188.07A11.924 11.924 0 00.045 12c0 6.563 5.344 11.93 11.93 11.906.984 0 1.945-.141 2.859-.375a.174.174 0 01-.117-.211c.047-.141-.07-.141-.141-.211-.07-.094.094-.141.07-.188s-.141-.023-.164-.117.094-.258.117-.281c0-.047-.094-.141-.117-.188 0-.047.047-.117.164-.234.094-.094.164-.234.164-.281s-.07-.164-.07-.281c0-.094.07-.141.094-.305 0-.141-.094-.117-.094-.211 0-.117.141-.07.117-.211-.023-.117.07-.211.117-.281s.07-.211.141-.305c.047-.094-.047-.305-.047-.352s.164-.094.094-.188c-.094-.07.023-.141.117-.211.07-.07-.023-.258.047-.516.047-.234.07-.656.07-.703s0-.211-.047-.305c-.07-.117-.141-.188-.234-.234s-.211-.164-.281-.188c-.07 0-.398-.117-.398-.328 0-.188-.234-.328-.258-.469s-.211-.422-.234-.563c0-.117-.305-.164-.328-.328-.047-.164.141-.258.164-.352s-.094-.305-.117-.375c0-.047.211-.258.281-.305s.141-.211.188-.211.047-.141.094-.305c.047-.141-.023-.352-.07-.375s-.094-.188-.141-.258c-.07-.047-.188-.023-.188-.023s.023.141-.094.188c-.141.047-.164-.023-.188-.047-.047-.047-.188-.047-.258-.117s-.164-.164-.258-.188c-.07-.047-.211-.07-.188-.234 0-.164-.164-.258-.234-.281-.047-.023-.164-.094-.234-.047-.047.023-.094 0-.141-.023s-.094-.047-.141-.047c-.094 0-.281-.164-.352-.234s-.117-.164-.234-.164-.141.047-.211.141c-.094.094-.211-.07-.234-.117-.047-.047-.141-.047-.281-.047-.164 0-.258-.211-.305-.234l-.516-.258c-.094-.047-.188-.258-.141-.305s-.07-.234-.07-.234-.188-.211-.258-.211-.281-.375-.398-.492-.398-.352-.445-.469-.07-.305-.188-.211c-.141.094-.023.188.117.305s.117.211.305.352.117.305.188.352c.07.07.352.234.234.328-.117.117-.234-.141-.305-.141-.047-.023-.164-.047-.164-.117.023-.07-.094-.141-.188-.258s-.141-.047-.258-.047 0-.141.047-.211c.07-.07-.07-.164-.141-.188s-.188-.328-.305-.516-.188-.281-.305-.258-.164-.141-.258-.188c-.07-.047-.211-.305-.328-.445-.141-.141-.258-.398-.234-.539s.047-.516.047-.609-.07-.328-.07-.352c0-.047-.07-.117-.117-.117-.047-.023-.211-.211-.328-.211s-.188-.141-.164-.234c.047-.094-.117-.258-.164-.258-.07 0-.164-.164-.211-.258s-.141-.094-.117-.047 0 .141.047.164c.07.023.117.234.07.281-.047.023-.188-.094-.305-.141-.141-.07-.07-.328-.07-.398s-.188-.141-.281-.141c-.07 0-.164.023-.164-.164 0-.164-.258-.258-.328-.258-.094 0-.516-.164-.656-.164s-.375-.117-.445-.07-.234-.094-.305-.094-.07.047-.234.141zm11.203 6.703c.117-.023.211.188.047.211h-.023c-.117 0-.141-.211-.023-.234zm1.782-.141c.117-.023.211.164.047.211h-.023c-.117 0-.141-.211-.023-.234zm-.774.164c-.07-.047-.117-.094-.234-.094-.07 0-.234-.023-.234-.023s.234-.211.328-.211c.094-.023.211-.047.305-.023.117.023.281.094.281.281-.023.164-.094.023-.141.023-.023 0-.141.07-.234.07h-.047zm-2.062-.773s.328-.094.398-.094.281 0 .398.094.305.211.398.188.258.141.234.188-.234.047-.305-.023c-.07-.047-.305-.164-.375-.234-.047-.07-.352-.047-.492-.047h-.164c-.07 0-.141-.023-.117-.094zm1.007-.375c.117-.023.211.117.047.141h-.023c-.117 0-.141-.117-.023-.141zm-.375-5.86c.117-.047.164.07.094.117h-.047c-.094 0-.164-.07-.047-.117zm-.515-.093c.094-.094.234 0 .188.047 0 .023-.023.023-.07.023-.07 0-.164-.047-.141-.07zm-2.578-1.711c.07-.023.305-.047.352 0 .07.047.117.234.07.258-.047 0-.023.07-.188.164-.164.07-.211-.164-.234-.211 0-.023-.07-.023-.141 0-.047 0-.094.023-.141.023-.094 0-.141-.141-.07-.188.047-.047.141-.023.211-.023h.141zm.656.094c-.023-.07.258-.188.328-.211s.141.047.234.07c.094 0 .07.141 0 .164-.07 0-.258.023-.375.047h-.047c-.094 0-.141-.047-.141-.047zm-.024-.375c.047-.117.281-.07.305.047.023.047-.047.07-.094.07-.094 0-.234-.047-.211-.094zm-.539-.211c.164-.023.234.07.234.117s-.117.188-.234.164h-.07c-.047 0-.047 0-.094-.07-.047-.094-.328-.047-.375-.047s-.094.164-.164.188-.117-.07-.07-.07c.023-.023-.047-.211.023-.258.047-.047.281-.047.469-.023h.281zm-3.468-.071c.047 0 .398-.117.586-.141s.258.07.281.117.445.07.445.07.211.117.234.141c.047.023.141 0 .188-.047s.07-.117.211-.141.141.117.234.141c.07.023.117 0 .188-.047.094-.047.141.047.141.047s-.047.164-.047.234c0 .047-.094.07-.117.117s-.305 0-.422-.023c-.094-.023-.328-.023-.398 0s-.258.023-.328 0-.07-.141-.141-.188c-.047-.047-.188.07-.258.094s-.188-.117-.164-.188c0-.07-.258-.023-.305 0s-.234.023-.352.023-.211 0-.188-.047c.023-.07.117-.07.188-.07s-.047-.117 0-.117zm4.922.399s-.258-.07-.305-.164c-.07-.094-.305-.094-.422-.141s-.281-.117-.375-.164-.047-.188-.047-.164.188.07.305.094c.234.047.211.047.305.07s.281.164.375.211c.07.047.164.117.258.117h1.102c.07 0 .422.07.398.094s-.047.094-.211.094-.469-.023-.68-.047-.398.023-.398.023l-.281-.023zm-3.61-.586c.164-.047.305-.164.422-.164s.047.188.047.234c.023.047-.117.07-.188.047-.047-.047-.234.023-.305.023s-.094-.094 0-.141zm1.195-.117c.023-.117.141-.094.258-.117.117 0 .281 0 .422.047.164.047.141.047.211.117s.094.188.023.188-.117-.023-.258-.047c-.117-.023-.094-.047-.117-.094s-.258 0-.352 0-.188-.047-.188-.117zM3.234 3.961c.188.023.469.023.516.023s.328.094.492.047.258.023.305.047.07.023.141.094.141.023.234-.047c.094-.047.07-.117.07-.117l.094-.023c.07-.023.141.023.352.047.234.023.164-.047.328-.094a.474.474 0 01.258.023c.047.023.094.047.117.023.047-.023.117-.117.164-.07s.117.164.117.164.164-.141.211-.141.211.047.305.047c.094-.023.445-.023.539.047.07.07.281.047.398.117s.211-.047.164-.07-.188-.141-.188-.141-.211-.234-.234-.281-.07-.047-.117.07-.258.117-.492.117-.07-.117-.328-.117c-.258-.023-.164-.117-.07-.117.07 0 .141-.164.164-.258s.117-.07.305-.07h.422c.094.023.141 0 .188-.023s.094-.047.188-.023c.188.023.094.047.188.117.117.07.164.047.328.117.141.07.094.07.164.07.07.023.281-.023.422-.047s.234-.023.305.047.047.164.141.234-.047-.234-.047-.352.188-.023.305-.023.258-.047.281.023c.023.047-.188.141-.07.258s.211.164.305.164.352.023.234.164-.398.141-.492.141-.258.047-.211.141c.047.07.258.047.398.047s.609.047.727 0 .094-.188-.047-.234-.023-.117.117-.094c.07.023.117 0 .164 0s.094-.023.07 0c-.023.047.023.141.023.234 0 .117.047.164.141.141s.117-.047.211-.047c.094-.023.047-.234-.023-.352-.047-.117-.094-.188-.07-.258 0-.07.164-.07.234-.023.07.07.188.211.188.211s.164.094.211.211.07.07.188.023c.117-.07.141-.047.234.023s.023.211.023.234c0 .047.117 0 .141-.07 0-.094.141-.094.188-.117.07-.023.07-.188.07-.188s-.164-.047-.352-.023c-.164.023-.234-.023-.375-.117s-.047-.164-.117-.258.211-.141.398-.234c.164-.07.328-.023.305.164-.023.211-.047.164.141.141.164-.047-.047-.211.07-.234a2.67 2.67 0 01.398-.047c.094.023.516-.047.633-.047s.281.094.398.164c.141.07.469.164.539.211.094.047.633.117.703.141.047.023.047.188.117.328.047.141.188.047.258.047.047 0 .234.094.281.164s.445.117.445.117-.117.117-.141.164c-.047.047-.164.07-.211.117-.094.047-.164-.023-.281-.07-.094-.07-.281-.117-.328-.094s0 .07.023.117c.047.047.211.094.328.188.141.07.094.164.117.258 0 .117-.094-.047-.234-.07s-.141.117-.141.117-.164-.023-.234-.023c-.094 0 0 0-.164-.117-.07-.07-.117-.023-.141 0s-.023.047-.07.023c-.094-.047-.164-.141-.188-.117s-.07-.023-.117-.047-.094-.07-.141-.047h-.211c-.117 0-.234-.023-.281 0-.07.023-.141.023-.211.047-.094.023-.094-.188-.07-.258.047-.07.141-.07.328-.047.164.047.188 0 .234-.07s.07-.141.258-.188 0-.094-.07-.117c-.047-.023-.117-.07-.164 0s-.141.164-.141.164-.094 0-.258-.023-.047-.07.023-.094c.047-.023.141-.188.07-.234s-.094-.07-.211-.047-.047-.094-.117-.141c-.094-.047-.047.023-.047.07s-.117.047-.117.047-.188-.023-.258 0-.188.07-.141.117.164.047.211.164-.164.141-.211.164c-.047 0-.188.07-.188.07s-.164-.047-.305-.047-.164.023-.141.07.094.023.141.023.047.07.141.047c.117-.023.094-.07.211.047s.211.094.398.188-.023.211-.117.211-.094-.07-.141-.164c-.07-.07-.281.023-.281.023s-.188.094-.281.094-.164-.023-.047-.117-.141-.094-.141-.234-.047.141-.047.211c0 .047-.047.047-.117.023h-.211c-.234.023-.188.117-.492.305-.281.188-.352.234-.328.398s.094.117.211.164c.117.023.07.234.188.211.094-.023.164-.07.352.023s.281.117.516.164.375.117.492.07c.141-.023.188 0 .188.117 0 .094.094.117.07.234 0 .117.141-.117.141-.117s.07.211.023.234c-.07.023.023.141.07.141h.07c.047 0 .117.023.164-.023.07-.07-.047-.258-.047-.352 0-.07-.07-.117-.117-.211-.047-.07.094-.094.164-.023.047.07.141.023.234-.047s.094-.188.094-.188-.164-.211-.281-.258-.047-.07.07-.094 0-.07.023-.211c.047-.141.047-.234.117-.234.047 0 .305-.047.492-.023s.305.164.422.164c.141 0 .352.047.398.117s-.164.07-.047.188c.094.117.094.094.188.141s.211.023.328-.141c.094-.164.164-.164.211-.117.047.023.305.328.375.398s.188.211.211.281.188.07.258.07c.047 0 .258.141.281.234 0 .094.047.117.234.141.188.047 0 .188-.023.281-.047.07-.047.117-.117.211-.023.047-.023.047 0 .047s.047-.023.07 0c.07.047.094.094.188.07s.141 0 .188.094c.047.07.117.141.141.211s0 .164-.07.117c-.07-.07-.234-.023-.234-.023s-.094.07-.117.047c-.023-.047-.07-.094-.188-.07a.204.204 0 01-.164 0h-.117c-.094.023-.141-.047-.07-.117.07-.047.07-.258.211-.328s.094-.211 0-.211-.141.117-.188.141c-.07.023-.141.023-.258.094-.094.07-.352.047-.234.07.094.023-.164.141-.211.141-.094 0-.07-.164-.07-.234s-.117.047-.117.047-.211-.117-.281-.047-.188.117-.305.211c-.094.07-.328.211-.328.211s.094-.047.234-.07c.164-.047.141-.023.281-.094s.258-.094.375.023c.094.117-.023.188-.023.188s.047.094.117.117c.047.023.047-.023.141-.07s.047.117.07.164c.047.047.117.047.188 0 .07-.07.094-.117.141-.07s.07.141.117.234-.258.117-.328.141c-.07 0-.305.07-.352.07-.047.023-.164.141-.281.141s-.094-.164-.117-.258c0-.094-.117.023-.141.047-.023.047-.141.023-.234.047-.094 0-.258.094-.258.211s.094.164.07.211-.258.094-.352.07-.234.047-.188.094.047.141-.07.117c-.094 0-.094.094-.07.164.047.07-.117.211-.141.141-.047-.047-.117-.07-.117 0s.023.141.117.258c.07.117-.164.164-.281.258-.094.07-.398.352-.539.398s-.141.234-.07.305c.094.07.141.352.188.445s-.023.352-.141.352c-.117-.023-.07-.164-.188-.211s-.188-.281-.211-.445c-.047-.164-.07-.07-.141-.023-.094.047-.164-.117-.188-.141s-.117 0-.211 0c-.07 0-.164.023-.234.023-.164-.023-.211.07-.211.094 0 .047-.023.164-.188.07-.141-.07-.164-.07-.328-.07-.141 0-.281 0-.305.047s-.164.164-.258.188-.281.164-.188.188c.07.023.07.211.023.328s-.047.305-.023.492.188.305.328.422.211.164.352.047.211-.047.234-.023c.047.023.141-.07.117-.188-.047-.117.047-.234.188-.211.047 0 .117 0 .188-.023.07 0 .141-.023.188-.023.117 0 .141.258 0 .375-.164.117-.07.281-.094.398s-.141.141 0 .141.094.023.188.047.164-.07.281-.094c.094 0 .328.211.281.305a.983.983 0 00-.07.469c.047.164.07.164.117.234.023.047.141.164.258.117s.234-.094.281-.141.305.094.281.141c-.023.023.094.07.164.023.094-.023.117-.094.188-.211a.672.672 0 01.281-.211c.047 0 .211-.164.328-.141.094.023-.047.164-.047.234 0 .094 0 .305.047.328.07 0 .047-.164.117-.281.07-.141.211-.188.281-.188s.117.258.211.211c.094-.07.281-.047.328.023.023.07.07.117.07.117s.07-.047.07-.117c0-.094.211-.141.352-.07s.094.094.164.117c.07 0 .141-.164.164-.188.047-.023 0 .211-.094.328-.117.094.07.07.094.117.023.023.047.023.094 0 .047 0 .117 0 .141.023.047.047.164.094.234.258.094.117.211.094.375.07s.375.07.539.258c.164.164.117.305.234.305s.141.141.141.188-.234.164-.352.188c-.141 0-.141.141.07.117.211-.047.117-.117.258-.141.141-.047.258.047.164.211-.141.164-.375.164-.164.188s.094-.047.211-.188c.117-.164.117-.117.188-.117.094 0 .258.047.328.094s.234.141.352.188c.117.07.258.047.328.023s.328.07.398.188c.07.094.258.117.375.164.094.047.234.188.234.328.023.141-.141.422-.141.492-.023.047-.234.305-.422.469s-.07.352-.07.422c.023.07-.141.375-.094.445s-.047.211-.141.328c-.094.094-.141.258-.188.352-.07.094-.234.07-.398.117-.164.023-.234.07-.234.07s-.305.117-.445.234c-.164.117.047.305-.023.445s-.164.141-.234.305c-.047.117-.094.094-.117.07-.023 0-.047-.023-.07 0-.07.047-.117.141-.117.258-.023.094-.141.211-.328.375-.164.164-.281.141-.469.07-.188-.047-.164-.516-.188-.445s-.023.305.023.352c.023.047.117.211.164.234.07.047.047.117 0 .164-.047.07-.211.305-.258.328s-.469.07-.563.023c-.07-.047-.117.094-.117.188.023.094.094.164-.07.141s-.352-.117-.352-.047.047.211.117.211.164-.047.117.047-.141.164-.211.211c-.047.047-.117.164-.258.258s-.141.141-.117.188.234.023.281.047-.047.211-.094.258-.281.234-.375.281-.094.211-.047.328c4.453-1.406 7.781-5.344 8.273-10.125-.117-.094-.047-.211-.07-.328-.023-.141-.164-.188-.094-.211s.047-.094.234-.281c0-.141.023-.281.023-.422v-.094c-.047-.094-.117-.258-.023-.422a11.765 11.765 0 00-2.766-7.125 5.65 5.65 0 01-.398.047c-.094 0-.234.211-.258.258s-.328 0-.422 0-.188.117-.375.141c-.164.023-.094.141-.07.234 0 .094-.047.141-.141.117-.117-.023-.094.047-.117.117s.023.188-.094.281c-.094.07-.141.117-.258.094-.117 0-.117-.211-.141-.188-.047 0-.234.141-.281.07s-.281-.234-.375-.258c-.094-.047-.164-.188-.188-.258-.047-.07.117-.07.07-.07-.047-.023-.211-.047-.258-.094s-.141-.258-.164-.328c0-.07.141-.164.141-.211 0-.023-.141-.023-.188-.023s-.117-.141-.047-.281.211-.094.211-.094h.117c.07 0 .047.164.023.234s.047.07.094.094.07-.07.07-.117c0-.07-.117-.211-.188-.281-.047-.07-.234-.094-.258-.047s-.164.234-.211.188-.047-.445-.117-.563-.328-.141-.445-.211c-.094-.047-.492-.117-.563-.117-.023 0-.094 0-.141.023a.482.482 0 01-.258 0c-.094-.023-.094-.211-.094-.211s-.07.188-.094.234c-.047.047-.141.07-.188.047s-.164-.234-.281-.258h-.117c-.047 0-.094 0-.164-.047-.141-.117.258-.094.281-.094s.328-.07.352-.141c0-.094.094-.188.234-.141.141.023.211-.094.188-.211s.258-.234.305-.164c.047.047.281 0 .211-.117s.281-.211.609-.234.422.023.492.07.281.047.398-.023A11.889 11.889 0 0011.992.304c-3.469 0-6.586 1.5-8.766 3.867z\"></path></svg><span class=\"LanguageSelector--LanguageSelectorStatus--bxy1o\" data-testid=\"languageSelectorStatus\">US</span><span class=\"LanguageSelector--unitDisplay--8FGMs\">°F</span><svg class=\"LanguageSelector--arrowIcon--3yZiR Icon--icon--ySD-o Icon--lightTheme--Mqfrs\" data-testid=\"Icon\" name=\"triangle-down\" set=\"ui\" style=\"width:17px\" theme=\"light\" viewbox=\"0 0 24 24\"><title>Arrow down</title><path d=\"M23.765 5.167h-23.53l11.75 13.666 11.779-13.666z\"></path></svg></div></button><nav aria-hidden=\"true\" class=\"ExpandableMenu--ExpandableMenu--DLqTu ExpandableMenu--fullWidth--IQ-7i LanguageSelector--LanguageSelectorMenu--zgBne\" hidden=\"\" tabindex=\"-1\"><div class=\"ExpandableMenu--inner--d7mmL ExpandableMenu--bottomRoundBorder--jWs31 ExpandableMenu--outline--U4tFj ExpandableMenu--fullWidthInner--f9K1d\"><div class=\"ExpandableMenu--innerPadding--t-XyG\"><section class=\"UnitSelector--UnitSelector--P+TRg LanguageSelector--unitSelectorContainer--rEQQ3\" data-testid=\"unitSelectorSection\"><ul aria-labelledby=\"UnitSelectorTabsLabel\" class=\"TabList--tabList--9QUOW UnitSelector--UnitSelectorTabList--pVhsa TabList--center--iDXfC\" data-testid=\"unitSelectorBar\" id=\"UnitSelectorTabs\" role=\"tablist\"><li aria-controls=\"UnitSelectorTabs-tabpanel_0\" aria-selected=\"true\" class=\"UnitSelector--UnitSelectorInactiveTab--wj0Uj TabList--tab--2mk3x TabList--default--IQyjF UnitSelector--UnitSelectorActiveTab--UrPsj undefined TabList--tabSelected--T4YuL\" data-testid=\"degreesFbutton\" id=\"UnitSelectorTabs-tab_0\" role=\"tab\" selected=\"\" tabindex=\"0\">°F</li><li aria-controls=\"UnitSelectorTabs-tabpanel_1\" aria-selected=\"false\" class=\"UnitSelector--UnitSelectorInactiveTab--wj0Uj TabList--tab--2mk3x TabList--default--IQyjF UnitSelector--UnitSelectorInactiveTab--wj0Uj\" data-testid=\"degreesCbutton\" id=\"UnitSelectorTabs-tab_1\" role=\"tab\" tabindex=\"0\">°C</li><li aria-controls=\"UnitSelectorTabs-tabpanel_2\" aria-selected=\"false\" class=\"UnitSelector--UnitSelectorInactiveTab--wj0Uj TabList--tab--2mk3x TabList--default--IQyjF UnitSelector--UnitSelectorInactiveTab--wj0Uj\" data-testid=\"hybridButton\" id=\"UnitSelectorTabs-tab_2\" role=\"tab\" tabindex=\"0\">Hybrid</li></ul><div aria-hidden=\"false\" aria-labelledby=\"UnitSelectorTabs-tab_0\" id=\"UnitSelectorTabs-tabpanel_0\" role=\"tabpanel\" theme=\"default\"><div class=\"UnitSelector--UnitSelectorPanel--GB-wb\" data-testid=\"imperialUnits\">Imperial - F / mph / miles / inches</div></div><div aria-hidden=\"true\" aria-labelledby=\"UnitSelectorTabs-tab_1\" hidden=\"\" id=\"UnitSelectorTabs-tabpanel_1\" role=\"tabpanel\" theme=\"default\"></div><div aria-hidden=\"true\" aria-labelledby=\"UnitSelectorTabs-tab_2\" hidden=\"\" id=\"UnitSelectorTabs-tabpanel_2\" role=\"tabpanel\" theme=\"default\"></div></section><div class=\"CountryList--languageSection--dx-S7\" data-testid=\"LanguageSection\"><details class=\"LanguageSelector--LanguageSection--wi4vW Disclosure--themeList--vEbAF\"><summary class=\"Disclosure--Summary--kMIqY CountryList--Summary--ZaOpZ LanguageSelector--Summary--PpuWo\"><div class=\"Disclosure--SummaryDefault--h4p1H\">Americas<svg class=\"Disclosure--SummaryIcon--ldYIx Icon--icon--ySD-o\" data-testid=\"Icon\" name=\"caret-down\" set=\"ui\" theme=\"\" viewbox=\"0 0 24 24\"><title>Arrow Down</title><path d=\"M12 16.086l7.293-7.293a1 1 0 1 1 1.414 1.414l-8 8a1 1 0 0 1-1.414 0l-8-8a1 1 0 1 1 1.414-1.414L12 16.086z\"></path></svg></div></summary><div class=\"LanguageSelector--Content--IY8mH\"><div class=\"CountryList--listContainer--CGSwd LanguageSelector--RegionBlock--xZ5YM\"><a class=\"ListItem--listItem--UuEqg ListItem--disableBorder--mVHYd CountryList--DisclosureLink--mHV3q LanguageSelector--RegionLink--DISY0 Button--default--osTe5\" href=\"/en-AG/weather/today/l/3ce4ec45ff32fa68ffaae5602f833b434cca1e53d5166687e02433b3e58b697c6dff248188e6ce5b4207c5635f3c5066\" target=\"_self\">Antigua and Barbuda | English</a><a class=\"ListItem--listItem--UuEqg ListItem--disableBorder--mVHYd CountryList--DisclosureLink--mHV3q LanguageSelector--RegionLink--DISY0 Button--default--osTe5\" href=\"/es-AR/weather/today/l/3ce4ec45ff32fa68ffaae5602f833b434cca1e53d5166687e02433b3e58b697c6dff248188e6ce5b4207c5635f3c5066\" target=\"_self\">Argentina | Español</a><a class=\"ListItem--listItem--UuEqg ListItem--disableBorder--mVHYd CountryList--DisclosureLink--mHV3q LanguageSelector--RegionLink--DISY0 Button--default--osTe5\" href=\"/en-BS/weather/today/l/3ce4ec45ff32fa68ffaae5602f833b434cca1e53d5166687e02433b3e58b697c6dff248188e6ce5b4207c5635f3c5066\" target=\"_self\">Bahamas | English</a><a class=\"ListItem--listItem--UuEqg ListItem--disableBorder--mVHYd CountryList--DisclosureLink--mHV3q LanguageSelector--RegionLink--DISY0 Button--default--osTe5\" href=\"/en-BB/weather/today/l/3ce4ec45ff32fa68ffaae5602f833b434cca1e53d5166687e02433b3e58b697c6dff248188e6ce5b4207c5635f3c5066\" target=\"_self\">Barbados | English</a><a class=\"ListItem--listItem--UuEqg ListItem--disableBorder--mVHYd CountryList--DisclosureLink--mHV3q LanguageSelector--RegionLink--DISY0 Button--default--osTe5\" href=\"/en-BZ/weather/today/l/3ce4ec45ff32fa68ffaae5602f833b434cca1e53d5166687e02433b3e58b697c6dff248188e6ce5b4207c5635f3c5066\" target=\"_self\">Belize | English</a><a class=\"ListItem--listItem--UuEqg ListItem--disableBorder--mVHYd CountryList--DisclosureLink--mHV3q LanguageSelector--RegionLink--DISY0 Button--default--osTe5\" href=\"/es-BO/weather/today/l/3ce4ec45ff32fa68ffaae5602f833b434cca1e53d5166687e02433b3e58b697c6dff248188e6ce5b4207c5635f3c5066\" target=\"_self\">Bolivia | Español</a><a class=\"ListItem--listItem--UuEqg ListItem--disableBorder--mVHYd CountryList--DisclosureLink--mHV3q LanguageSelector--RegionLink--DISY0 Button--default--osTe5\" href=\"/pt-BR/weather/today/l/3ce4ec45ff32fa68ffaae5602f833b434cca1e53d5166687e02433b3e58b697c6dff248188e6ce5b4207c5635f3c5066\" target=\"_self\">Brazil | Português</a><a class=\"ListItem--listItem--UuEqg ListItem--disableBorder--mVHYd CountryList--DisclosureLink--mHV3q LanguageSelector--RegionLink--DISY0 Button--default--osTe5\" href=\"/en-CA/weather/today/l/3ce4ec45ff32fa68ffaae5602f833b434cca1e53d5166687e02433b3e58b697c6dff248188e6ce5b4207c5635f3c5066\" target=\"_self\">Canada | English</a><a class=\"ListItem--listItem--UuEqg ListItem--disableBorder--mVHYd CountryList--DisclosureLink--mHV3q LanguageSelector--RegionLink--DISY0 Button--default--osTe5\" href=\"/fr-CA/weather/today/l/3ce4ec45ff32fa68ffaae5602f833b434cca1e53d5166687e02433b3e58b697c6dff248188e6ce5b4207c5635f3c5066\" target=\"_self\">Canada | Français</a><a class=\"ListItem--listItem--UuEqg ListItem--disableBorder--mVHYd CountryList--DisclosureLink--mHV3q LanguageSelector--RegionLink--DISY0 Button--default--osTe5\" href=\"/es-CL/weather/today/l/3ce4ec45ff32fa68ffaae5602f833b434cca1e53d5166687e02433b3e58b697c6dff248188e6ce5b4207c5635f3c5066\" target=\"_self\">Chile | Español</a><a class=\"ListItem--listItem--UuEqg ListItem--disableBorder--mVHYd CountryList--DisclosureLink--mHV3q LanguageSelector--RegionLink--DISY0 Button--default--osTe5\" href=\"/es-CO/weather/today/l/3ce4ec45ff32fa68ffaae5602f833b434cca1e53d5166687e02433b3e58b697c6dff248188e6ce5b4207c5635f3c5066\" target=\"_self\">Colombia | Español</a><a class=\"ListItem--listItem--UuEqg ListItem--disableBorder--mVHYd CountryList--DisclosureLink--mHV3q LanguageSelector--RegionLink--DISY0 Button--default--osTe5\" href=\"/es-CR/weather/today/l/3ce4ec45ff32fa68ffaae5602f833b434cca1e53d5166687e02433b3e58b697c6dff248188e6ce5b4207c5635f3c5066\" target=\"_self\">Costa Rica | Español</a><a class=\"ListItem--listItem--UuEqg ListItem--disableBorder--mVHYd CountryList--DisclosureLink--mHV3q LanguageSelector--RegionLink--DISY0 Button--default--osTe5\" href=\"/en-DM/weather/today/l/3ce4ec45ff32fa68ffaae5602f833b434cca1e53d5166687e02433b3e58b697c6dff248188e6ce5b4207c5635f3c5066\" target=\"_self\">Dominica | English</a><a class=\"ListItem--listItem--UuEqg ListItem--disableBorder--mVHYd CountryList--DisclosureLink--mHV3q LanguageSelector--RegionLink--DISY0 Button--default--osTe5\" href=\"/es-DO/weather/today/l/3ce4ec45ff32fa68ffaae5602f833b434cca1e53d5166687e02433b3e58b697c6dff248188e6ce5b4207c5635f3c5066\" target=\"_self\">Dominican Republic | Español</a><a class=\"ListItem--listItem--UuEqg ListItem--disableBorder--mVHYd CountryList--DisclosureLink--mHV3q LanguageSelector--RegionLink--DISY0 Button--default--osTe5\" href=\"/es-EC/weather/today/l/3ce4ec45ff32fa68ffaae5602f833b434cca1e53d5166687e02433b3e58b697c6dff248188e6ce5b4207c5635f3c5066\" target=\"_self\">Ecuador | Español</a><a class=\"ListItem--listItem--UuEqg ListItem--disableBorder--mVHYd CountryList--DisclosureLink--mHV3q LanguageSelector--RegionLink--DISY0 Button--default--osTe5\" href=\"/es-SV/weather/today/l/3ce4ec45ff32fa68ffaae5602f833b434cca1e53d5166687e02433b3e58b697c6dff248188e6ce5b4207c5635f3c5066\" target=\"_self\">El Salvador | Español</a><a class=\"ListItem--listItem--UuEqg ListItem--disableBorder--mVHYd CountryList--DisclosureLink--mHV3q LanguageSelector--RegionLink--DISY0 Button--default--osTe5\" href=\"/en-GD/weather/today/l/3ce4ec45ff32fa68ffaae5602f833b434cca1e53d5166687e02433b3e58b697c6dff248188e6ce5b4207c5635f3c5066\" target=\"_self\">Grenada | English</a><a class=\"ListItem--listItem--UuEqg ListItem--disableBorder--mVHYd CountryList--DisclosureLink--mHV3q LanguageSelector--RegionLink--DISY0 Button--default--osTe5\" href=\"/es-GT/weather/today/l/3ce4ec45ff32fa68ffaae5602f833b434cca1e53d5166687e02433b3e58b697c6dff248188e6ce5b4207c5635f3c5066\" target=\"_self\">Guatemala | Español</a><a class=\"ListItem--listItem--UuEqg ListItem--disableBorder--mVHYd CountryList--DisclosureLink--mHV3q LanguageSelector--RegionLink--DISY0 Button--default--osTe5\" href=\"/en-GY/weather/today/l/3ce4ec45ff32fa68ffaae5602f833b434cca1e53d5166687e02433b3e58b697c6dff248188e6ce5b4207c5635f3c5066\" target=\"_self\">Guyana | English</a><a class=\"ListItem--listItem--UuEqg ListItem--disableBorder--mVHYd CountryList--DisclosureLink--mHV3q LanguageSelector--RegionLink--DISY0 Button--default--osTe5\" href=\"/fr-HT/weather/today/l/3ce4ec45ff32fa68ffaae5602f833b434cca1e53d5166687e02433b3e58b697c6dff248188e6ce5b4207c5635f3c5066\" target=\"_self\">Haiti | Français</a><a class=\"ListItem--listItem--UuEqg ListItem--disableBorder--mVHYd CountryList--DisclosureLink--mHV3q LanguageSelector--RegionLink--DISY0 Button--default--osTe5\" href=\"/es-HN/weather/today/l/3ce4ec45ff32fa68ffaae5602f833b434cca1e53d5166687e02433b3e58b697c6dff248188e6ce5b4207c5635f3c5066\" target=\"_self\">Honduras | Español</a><a class=\"ListItem--listItem--UuEqg ListItem--disableBorder--mVHYd CountryList--DisclosureLink--mHV3q LanguageSelector--RegionLink--DISY0 Button--default--osTe5\" href=\"/en-JM/weather/today/l/3ce4ec45ff32fa68ffaae5602f833b434cca1e53d5166687e02433b3e58b697c6dff248188e6ce5b4207c5635f3c5066\" target=\"_self\">Jamaica | English</a><a class=\"ListItem--listItem--UuEqg ListItem--disableBorder--mVHYd CountryList--DisclosureLink--mHV3q LanguageSelector--RegionLink--DISY0 Button--default--osTe5\" href=\"/es-MX/weather/today/l/3ce4ec45ff32fa68ffaae5602f833b434cca1e53d5166687e02433b3e58b697c6dff248188e6ce5b4207c5635f3c5066\" target=\"_self\">Mexico | Español</a><a class=\"ListItem--listItem--UuEqg ListItem--disableBorder--mVHYd CountryList--DisclosureLink--mHV3q LanguageSelector--RegionLink--DISY0 Button--default--osTe5\" href=\"/es-NI/weather/today/l/3ce4ec45ff32fa68ffaae5602f833b434cca1e53d5166687e02433b3e58b697c6dff248188e6ce5b4207c5635f3c5066\" target=\"_self\">Nicaragua | Español</a><a class=\"ListItem--listItem--UuEqg ListItem--disableBorder--mVHYd CountryList--DisclosureLink--mHV3q LanguageSelector--RegionLink--DISY0 Button--default--osTe5\" href=\"/es-PA/weather/today/l/3ce4ec45ff32fa68ffaae5602f833b434cca1e53d5166687e02433b3e58b697c6dff248188e6ce5b4207c5635f3c5066\" target=\"_self\">Panama | Español</a><a class=\"ListItem--listItem--UuEqg ListItem--disableBorder--mVHYd CountryList--DisclosureLink--mHV3q LanguageSelector--RegionLink--DISY0 Button--default--osTe5\" href=\"/en-PA/weather/today/l/3ce4ec45ff32fa68ffaae5602f833b434cca1e53d5166687e02433b3e58b697c6dff248188e6ce5b4207c5635f3c5066\" target=\"_self\">Panama | English</a><a class=\"ListItem--listItem--UuEqg ListItem--disableBorder--mVHYd CountryList--DisclosureLink--mHV3q LanguageSelector--RegionLink--DISY0 Button--default--osTe5\" href=\"/es-PY/weather/today/l/3ce4ec45ff32fa68ffaae5602f833b434cca1e53d5166687e02433b3e58b697c6dff248188e6ce5b4207c5635f3c5066\" target=\"_self\">Paraguay | Español</a><a class=\"ListItem--listItem--UuEqg ListItem--disableBorder--mVHYd CountryList--DisclosureLink--mHV3q LanguageSelector--RegionLink--DISY0 Button--default--osTe5\" href=\"/es-PE/weather/today/l/3ce4ec45ff32fa68ffaae5602f833b434cca1e53d5166687e02433b3e58b697c6dff248188e6ce5b4207c5635f3c5066\" target=\"_self\">Peru | Español</a><a class=\"ListItem--listItem--UuEqg ListItem--disableBorder--mVHYd CountryList--DisclosureLink--mHV3q LanguageSelector--RegionLink--DISY0 Button--default--osTe5\" href=\"/en-KN/weather/today/l/3ce4ec45ff32fa68ffaae5602f833b434cca1e53d5166687e02433b3e58b697c6dff248188e6ce5b4207c5635f3c5066\" target=\"_self\">St. Kitts and Nevis | English</a><a class=\"ListItem--listItem--UuEqg ListItem--disableBorder--mVHYd CountryList--DisclosureLink--mHV3q LanguageSelector--RegionLink--DISY0 Button--default--osTe5\" href=\"/en-LC/weather/today/l/3ce4ec45ff32fa68ffaae5602f833b434cca1e53d5166687e02433b3e58b697c6dff248188e6ce5b4207c5635f3c5066\" target=\"_self\">St. Lucia | English</a><a class=\"ListItem--listItem--UuEqg ListItem--disableBorder--mVHYd CountryList--DisclosureLink--mHV3q LanguageSelector--RegionLink--DISY0 Button--default--osTe5\" href=\"/en-VC/weather/today/l/3ce4ec45ff32fa68ffaae5602f833b434cca1e53d5166687e02433b3e58b697c6dff248188e6ce5b4207c5635f3c5066\" target=\"_self\">St. Vincent and the Grenadines | English</a><a class=\"ListItem--listItem--UuEqg ListItem--disableBorder--mVHYd CountryList--DisclosureLink--mHV3q LanguageSelector--RegionLink--DISY0 Button--default--osTe5\" href=\"/nl-SR/weather/today/l/3ce4ec45ff32fa68ffaae5602f833b434cca1e53d5166687e02433b3e58b697c6dff248188e6ce5b4207c5635f3c5066\" target=\"_self\">Suriname | Nederlands</a><a class=\"ListItem--listItem--UuEqg ListItem--disableBorder--mVHYd CountryList--DisclosureLink--mHV3q LanguageSelector--RegionLink--DISY0 Button--default--osTe5\" href=\"/en-TT/weather/today/l/3ce4ec45ff32fa68ffaae5602f833b434cca1e53d5166687e02433b3e58b697c6dff248188e6ce5b4207c5635f3c5066\" target=\"_self\">Trinidad and Tobago | English</a><a class=\"ListItem--listItem--UuEqg ListItem--disableBorder--mVHYd CountryList--DisclosureLink--mHV3q LanguageSelector--RegionLink--DISY0 Button--default--osTe5\" href=\"/es-UY/weather/today/l/3ce4ec45ff32fa68ffaae5602f833b434cca1e53d5166687e02433b3e58b697c6dff248188e6ce5b4207c5635f3c5066\" target=\"_self\">Uruguay | Español</a><a class=\"ListItem--listItem--UuEqg ListItem--disableBorder--mVHYd CountryList--DisclosureLink--mHV3q LanguageSelector--RegionLink--DISY0 Button--default--osTe5\" href=\"/weather/today/l/3ce4ec45ff32fa68ffaae5602f833b434cca1e53d5166687e02433b3e58b697c6dff248188e6ce5b4207c5635f3c5066\" target=\"_self\">United States | English</a><a class=\"ListItem--listItem--UuEqg ListItem--disableBorder--mVHYd CountryList--DisclosureLink--mHV3q LanguageSelector--RegionLink--DISY0 Button--default--osTe5\" href=\"/es-US/weather/today/l/3ce4ec45ff32fa68ffaae5602f833b434cca1e53d5166687e02433b3e58b697c6dff248188e6ce5b4207c5635f3c5066\" target=\"_self\">United States | Español</a><a class=\"ListItem--listItem--UuEqg ListItem--disableBorder--mVHYd CountryList--DisclosureLink--mHV3q LanguageSelector--RegionLink--DISY0 Button--default--osTe5\" href=\"/es-VE/weather/today/l/3ce4ec45ff32fa68ffaae5602f833b434cca1e53d5166687e02433b3e58b697c6dff248188e6ce5b4207c5635f3c5066\" target=\"_self\">Venezuela | Español</a></div></div></details><details class=\"LanguageSelector--LanguageSection--wi4vW Disclosure--themeList--vEbAF\"><summary class=\"Disclosure--Summary--kMIqY CountryList--Summary--ZaOpZ LanguageSelector--Summary--PpuWo\"><div class=\"Disclosure--SummaryDefault--h4p1H\">Africa<svg class=\"Disclosure--SummaryIcon--ldYIx Icon--icon--ySD-o\" data-testid=\"Icon\" name=\"caret-down\" set=\"ui\" theme=\"\" viewbox=\"0 0 24 24\"><title>Arrow Down</title><path d=\"M12 16.086l7.293-7.293a1 1 0 1 1 1.414 1.414l-8 8a1 1 0 0 1-1.414 0l-8-8a1 1 0 1 1 1.414-1.414L12 16.086z\"></path></svg></div></summary><div class=\"LanguageSelector--Content--IY8mH\"><div class=\"CountryList--listContainer--CGSwd LanguageSelector--RegionBlock--xZ5YM\"><a class=\"ListItem--listItem--UuEqg ListItem--disableBorder--mVHYd CountryList--DisclosureLink--mHV3q LanguageSelector--RegionLink--DISY0 Button--default--osTe5\" href=\"/ar-DZ/weather/today/l/3ce4ec45ff32fa68ffaae5602f833b434cca1e53d5166687e02433b3e58b697c6dff248188e6ce5b4207c5635f3c5066\" target=\"_self\">Algeria | العربية</a><a class=\"ListItem--listItem--UuEqg ListItem--disableBorder--mVHYd CountryList--DisclosureLink--mHV3q LanguageSelector--RegionLink--DISY0 Button--default--osTe5\" href=\"/fr-DZ/weather/today/l/3ce4ec45ff32fa68ffaae5602f833b434cca1e53d5166687e02433b3e58b697c6dff248188e6ce5b4207c5635f3c5066\" target=\"_self\">Algeria | Français</a><a class=\"ListItem--listItem--UuEqg ListItem--disableBorder--mVHYd CountryList--DisclosureLink--mHV3q LanguageSelector--RegionLink--DISY0 Button--default--osTe5\" href=\"/pt-AO/weather/today/l/3ce4ec45ff32fa68ffaae5602f833b434cca1e53d5166687e02433b3e58b697c6dff248188e6ce5b4207c5635f3c5066\" target=\"_self\">Angola | Português</a><a class=\"ListItem--listItem--UuEqg ListItem--disableBorder--mVHYd CountryList--DisclosureLink--mHV3q LanguageSelector--RegionLink--DISY0 Button--default--osTe5\" href=\"/fr-BJ/weather/today/l/3ce4ec45ff32fa68ffaae5602f833b434cca1e53d5166687e02433b3e58b697c6dff248188e6ce5b4207c5635f3c5066\" target=\"_self\">Benin | Français</a><a class=\"ListItem--listItem--UuEqg ListItem--disableBorder--mVHYd CountryList--DisclosureLink--mHV3q LanguageSelector--RegionLink--DISY0 Button--default--osTe5\" href=\"/fr-BF/weather/today/l/3ce4ec45ff32fa68ffaae5602f833b434cca1e53d5166687e02433b3e58b697c6dff248188e6ce5b4207c5635f3c5066\" target=\"_self\">Burkina Faso | Français</a><a class=\"ListItem--listItem--UuEqg ListItem--disableBorder--mVHYd CountryList--DisclosureLink--mHV3q LanguageSelector--RegionLink--DISY0 Button--default--osTe5\" href=\"/fr-BI/weather/today/l/3ce4ec45ff32fa68ffaae5602f833b434cca1e53d5166687e02433b3e58b697c6dff248188e6ce5b4207c5635f3c5066\" target=\"_self\">Burundi | Français</a><a class=\"ListItem--listItem--UuEqg ListItem--disableBorder--mVHYd CountryList--DisclosureLink--mHV3q LanguageSelector--RegionLink--DISY0 Button--default--osTe5\" href=\"/fr-CM/weather/today/l/3ce4ec45ff32fa68ffaae5602f833b434cca1e53d5166687e02433b3e58b697c6dff248188e6ce5b4207c5635f3c5066\" target=\"_self\">Cameroon | Français</a><a class=\"ListItem--listItem--UuEqg ListItem--disableBorder--mVHYd CountryList--DisclosureLink--mHV3q LanguageSelector--RegionLink--DISY0 Button--default--osTe5\" href=\"/en-CM/weather/today/l/3ce4ec45ff32fa68ffaae5602f833b434cca1e53d5166687e02433b3e58b697c6dff248188e6ce5b4207c5635f3c5066\" target=\"_self\">Cameroon | English</a><a class=\"ListItem--listItem--UuEqg ListItem--disableBorder--mVHYd CountryList--DisclosureLink--mHV3q LanguageSelector--RegionLink--DISY0 Button--default--osTe5\" href=\"/pt-CV/weather/today/l/3ce4ec45ff32fa68ffaae5602f833b434cca1e53d5166687e02433b3e58b697c6dff248188e6ce5b4207c5635f3c5066\" target=\"_self\">Cape Verde | Português</a><a class=\"ListItem--listItem--UuEqg ListItem--disableBorder--mVHYd CountryList--DisclosureLink--mHV3q LanguageSelector--RegionLink--DISY0 Button--default--osTe5\" href=\"/fr-CF/weather/today/l/3ce4ec45ff32fa68ffaae5602f833b434cca1e53d5166687e02433b3e58b697c6dff248188e6ce5b4207c5635f3c5066\" target=\"_self\">Central African Republic | Français</a><a class=\"ListItem--listItem--UuEqg ListItem--disableBorder--mVHYd CountryList--DisclosureLink--mHV3q LanguageSelector--RegionLink--DISY0 Button--default--osTe5\" href=\"/fr-TD/weather/today/l/3ce4ec45ff32fa68ffaae5602f833b434cca1e53d5166687e02433b3e58b697c6dff248188e6ce5b4207c5635f3c5066\" target=\"_self\">Chad | Français</a><a class=\"ListItem--listItem--UuEqg ListItem--disableBorder--mVHYd CountryList--DisclosureLink--mHV3q LanguageSelector--RegionLink--DISY0 Button--default--osTe5\" href=\"/ar-TD/weather/today/l/3ce4ec45ff32fa68ffaae5602f833b434cca1e53d5166687e02433b3e58b697c6dff248188e6ce5b4207c5635f3c5066\" target=\"_self\">Chad | العربية</a><a class=\"ListItem--listItem--UuEqg ListItem--disableBorder--mVHYd CountryList--DisclosureLink--mHV3q LanguageSelector--RegionLink--DISY0 Button--default--osTe5\" href=\"/fr-KM/weather/today/l/3ce4ec45ff32fa68ffaae5602f833b434cca1e53d5166687e02433b3e58b697c6dff248188e6ce5b4207c5635f3c5066\" target=\"_self\">Comoros | Français</a><a class=\"ListItem--listItem--UuEqg ListItem--disableBorder--mVHYd CountryList--DisclosureLink--mHV3q LanguageSelector--RegionLink--DISY0 Button--default--osTe5\" href=\"/ar-KM/weather/today/l/3ce4ec45ff32fa68ffaae5602f833b434cca1e53d5166687e02433b3e58b697c6dff248188e6ce5b4207c5635f3c5066\" target=\"_self\">Comoros | العربية</a><a class=\"ListItem--listItem--UuEqg ListItem--disableBorder--mVHYd CountryList--DisclosureLink--mHV3q LanguageSelector--RegionLink--DISY0 Button--default--osTe5\" href=\"/fr-CD/weather/today/l/3ce4ec45ff32fa68ffaae5602f833b434cca1e53d5166687e02433b3e58b697c6dff248188e6ce5b4207c5635f3c5066\" target=\"_self\">Democratic Republic of the Congo | Français</a><a class=\"ListItem--listItem--UuEqg ListItem--disableBorder--mVHYd CountryList--DisclosureLink--mHV3q LanguageSelector--RegionLink--DISY0 Button--default--osTe5\" href=\"/fr-CG/weather/today/l/3ce4ec45ff32fa68ffaae5602f833b434cca1e53d5166687e02433b3e58b697c6dff248188e6ce5b4207c5635f3c5066\" target=\"_self\">Republic of Congo | Français</a><a class=\"ListItem--listItem--UuEqg ListItem--disableBorder--mVHYd CountryList--DisclosureLink--mHV3q LanguageSelector--RegionLink--DISY0 Button--default--osTe5\" href=\"/fr-CI/weather/today/l/3ce4ec45ff32fa68ffaae5602f833b434cca1e53d5166687e02433b3e58b697c6dff248188e6ce5b4207c5635f3c5066\" target=\"_self\">Côte d'Ivoire | Français</a><a class=\"ListItem--listItem--UuEqg ListItem--disableBorder--mVHYd CountryList--DisclosureLink--mHV3q LanguageSelector--RegionLink--DISY0 Button--default--osTe5\" href=\"/fr-DJ/weather/today/l/3ce4ec45ff32fa68ffaae5602f833b434cca1e53d5166687e02433b3e58b697c6dff248188e6ce5b4207c5635f3c5066\" target=\"_self\">Djibouti | Français</a><a class=\"ListItem--listItem--UuEqg ListItem--disableBorder--mVHYd CountryList--DisclosureLink--mHV3q LanguageSelector--RegionLink--DISY0 Button--default--osTe5\" href=\"/ar-DJ/weather/today/l/3ce4ec45ff32fa68ffaae5602f833b434cca1e53d5166687e02433b3e58b697c6dff248188e6ce5b4207c5635f3c5066\" target=\"_self\">Djibouti | العربية</a><a class=\"ListItem--listItem--UuEqg ListItem--disableBorder--mVHYd CountryList--DisclosureLink--mHV3q LanguageSelector--RegionLink--DISY0 Button--default--osTe5\" href=\"/ar-EG/weather/today/l/3ce4ec45ff32fa68ffaae5602f833b434cca1e53d5166687e02433b3e58b697c6dff248188e6ce5b4207c5635f3c5066\" target=\"_self\">Egypt | العربية</a><a class=\"ListItem--listItem--UuEqg ListItem--disableBorder--mVHYd CountryList--DisclosureLink--mHV3q LanguageSelector--RegionLink--DISY0 Button--default--osTe5\" href=\"/es-GQ/weather/today/l/3ce4ec45ff32fa68ffaae5602f833b434cca1e53d5166687e02433b3e58b697c6dff248188e6ce5b4207c5635f3c5066\" target=\"_self\">Equatorial Guinea | Español</a><a class=\"ListItem--listItem--UuEqg ListItem--disableBorder--mVHYd CountryList--DisclosureLink--mHV3q LanguageSelector--RegionLink--DISY0 Button--default--osTe5\" href=\"/ar-ER/weather/today/l/3ce4ec45ff32fa68ffaae5602f833b434cca1e53d5166687e02433b3e58b697c6dff248188e6ce5b4207c5635f3c5066\" target=\"_self\">Eritrea | العربية</a><a class=\"ListItem--listItem--UuEqg ListItem--disableBorder--mVHYd CountryList--DisclosureLink--mHV3q LanguageSelector--RegionLink--DISY0 Button--default--osTe5\" href=\"/fr-GA/weather/today/l/3ce4ec45ff32fa68ffaae5602f833b434cca1e53d5166687e02433b3e58b697c6dff248188e6ce5b4207c5635f3c5066\" target=\"_self\">Gabon | Français</a><a class=\"ListItem--listItem--UuEqg ListItem--disableBorder--mVHYd CountryList--DisclosureLink--mHV3q LanguageSelector--RegionLink--DISY0 Button--default--osTe5\" href=\"/en-GM/weather/today/l/3ce4ec45ff32fa68ffaae5602f833b434cca1e53d5166687e02433b3e58b697c6dff248188e6ce5b4207c5635f3c5066\" target=\"_self\">Gambia | English</a><a class=\"ListItem--listItem--UuEqg ListItem--disableBorder--mVHYd CountryList--DisclosureLink--mHV3q LanguageSelector--RegionLink--DISY0 Button--default--osTe5\" href=\"/en-GH/weather/today/l/3ce4ec45ff32fa68ffaae5602f833b434cca1e53d5166687\n"
     ]
    }
   ],
   "source": [
    "# use DuckDuckGo to find websites and take the first result\n",
    "url = search(query)[0]\n",
    "\n",
    "# scrape first wesbsite\n",
    "soup = scrape_weather_info(url)\n",
    "\n",
    "print(f\"Website: {url}\\n\\n\")\n",
    "print(str(soup.body)[:50000]) # limit long outputs"
   ]
  },
  {
   "cell_type": "code",
   "execution_count": 7,
   "id": "6cb3ef4c-58b3-401b-b104-0d51e553d982",
   "metadata": {
    "height": 251
   },
   "outputs": [
    {
     "name": "stdout",
     "output_type": "stream",
     "text": [
      "Website: https://weather.com/weather/today/l/USCA0987:1:US\n",
      "\n",
      "\n",
      "recents Weather Forecasts Radar & Maps News & Media Products Health & Wellness Account Lifestyle Privacy Specialty Forecasts San Francisco, CA Today's Forecast for San Francisco, CA Morning Afternoon Evening Overnight Weather Today in San Francisco, CA 7:09 am 5:38 pm Don't Miss Hourly Forecast Now 5 am 6 am 7 am 8 am Winter Central Trending Now Daily Forecast Today Thu 06 Fri 07 Sat 08 Sun 09 Radar We Love Our Critters Wellness In Winter Home, Garage & Garden Editor's Pick Health News For You Happening Near San Francisco, CA Popular Nextdoor posts Rain Or Shine, It's Playtime Stay Safe Stay Healthy Air Quality Index Air quality is considered satisfactory, and air pollution poses little or no risk. Health & Activities Seasonal Allergies and Pollen Count Forecast Tree pollen is low in your area Cold & Flu Forecast Flu risk is high in your area We recognize our responsibility to use data and technology for good. We may use or share your data with our data vendors. Take control of your data. The Weather Channel is the world's most accurate forecaster according to ForecastWatch, Global and Regional Weather Forecast Accuracy Overview , 2017-2022, commissioned by The Weather Company. Weather Channel © The Weather Company, LLC 2025\n"
     ]
    }
   ],
   "source": [
    "# extract text\n",
    "weather_data = []\n",
    "for tag in soup.find_all(['h1', 'h2', 'h3', 'p']):\n",
    "    text = tag.get_text(\" \", strip=True)\n",
    "    weather_data.append(text)\n",
    "\n",
    "# combine all elements into a single string\n",
    "weather_data = \"\\n\".join(weather_data)\n",
    "\n",
    "# remove all spaces from the combined text\n",
    "weather_data = re.sub(r'\\s+', ' ', weather_data)\n",
    "    \n",
    "print(f\"Website: {url}\\n\\n\")\n",
    "print(weather_data)"
   ]
  },
  {
   "cell_type": "markdown",
   "id": "92db676d-d8d9-4558-8dcf-1b20fcb48e45",
   "metadata": {},
   "source": [
    "## Agentic Search"
   ]
  },
  {
   "cell_type": "code",
   "execution_count": 8,
   "id": "dc3293b7-a50c-43c8-a022-8975e1e444b8",
   "metadata": {
    "height": 132
   },
   "outputs": [
    {
     "name": "stdout",
     "output_type": "stream",
     "text": [
      "{'location': {'name': 'San Francisco', 'region': 'California', 'country': 'United States of America', 'lat': 37.775, 'lon': -122.4183, 'tz_id': 'America/Los_Angeles', 'localtime_epoch': 1738758815, 'localtime': '2025-02-05 04:33'}, 'current': {'last_updated_epoch': 1738758600, 'last_updated': '2025-02-05 04:30', 'temp_c': 4.4, 'temp_f': 39.9, 'is_day': 0, 'condition': {'text': 'Partly cloudy', 'icon': '//cdn.weatherapi.com/weather/64x64/night/116.png', 'code': 1003}, 'wind_mph': 9.4, 'wind_kph': 15.1, 'wind_degree': 297, 'wind_dir': 'WNW', 'pressure_mb': 1018.0, 'pressure_in': 30.06, 'precip_mm': 0.0, 'precip_in': 0.0, 'humidity': 93, 'cloud': 25, 'feelslike_c': 1.0, 'feelslike_f': 33.8, 'windchill_c': 5.0, 'windchill_f': 41.0, 'heatindex_c': 7.0, 'heatindex_f': 44.7, 'dewpoint_c': 2.8, 'dewpoint_f': 37.1, 'vis_km': 16.0, 'vis_miles': 9.0, 'uv': 0.0, 'gust_mph': 15.1, 'gust_kph': 24.3}}\n"
     ]
    }
   ],
   "source": [
    "# run search\n",
    "result = client.search(query, max_results=1)\n",
    "\n",
    "# print first result\n",
    "data = result[\"results\"][0][\"content\"]\n",
    "\n",
    "print(data)"
   ]
  },
  {
   "cell_type": "code",
   "execution_count": 9,
   "id": "0722c3d4-4cbf-43bf-81b0-50f634c4ce61",
   "metadata": {
    "height": 251
   },
   "outputs": [
    {
     "name": "stdout",
     "output_type": "stream",
     "text": [
      "{\u001b[37m\u001b[39;49;00m\n",
      "\u001b[37m    \u001b[39;49;00m\u001b[94m\"location\"\u001b[39;49;00m:\u001b[37m \u001b[39;49;00m{\u001b[37m\u001b[39;49;00m\n",
      "\u001b[37m        \u001b[39;49;00m\u001b[94m\"name\"\u001b[39;49;00m:\u001b[37m \u001b[39;49;00m\u001b[33m\"San Francisco\"\u001b[39;49;00m,\u001b[37m\u001b[39;49;00m\n",
      "\u001b[37m        \u001b[39;49;00m\u001b[94m\"region\"\u001b[39;49;00m:\u001b[37m \u001b[39;49;00m\u001b[33m\"California\"\u001b[39;49;00m,\u001b[37m\u001b[39;49;00m\n",
      "\u001b[37m        \u001b[39;49;00m\u001b[94m\"country\"\u001b[39;49;00m:\u001b[37m \u001b[39;49;00m\u001b[33m\"United States of America\"\u001b[39;49;00m,\u001b[37m\u001b[39;49;00m\n",
      "\u001b[37m        \u001b[39;49;00m\u001b[94m\"lat\"\u001b[39;49;00m:\u001b[37m \u001b[39;49;00m\u001b[34m37.775\u001b[39;49;00m,\u001b[37m\u001b[39;49;00m\n",
      "\u001b[37m        \u001b[39;49;00m\u001b[94m\"lon\"\u001b[39;49;00m:\u001b[37m \u001b[39;49;00m\u001b[34m-122.4183\u001b[39;49;00m,\u001b[37m\u001b[39;49;00m\n",
      "\u001b[37m        \u001b[39;49;00m\u001b[94m\"tz_id\"\u001b[39;49;00m:\u001b[37m \u001b[39;49;00m\u001b[33m\"America/Los_Angeles\"\u001b[39;49;00m,\u001b[37m\u001b[39;49;00m\n",
      "\u001b[37m        \u001b[39;49;00m\u001b[94m\"localtime_epoch\"\u001b[39;49;00m:\u001b[37m \u001b[39;49;00m\u001b[34m1738758815\u001b[39;49;00m,\u001b[37m\u001b[39;49;00m\n",
      "\u001b[37m        \u001b[39;49;00m\u001b[94m\"localtime\"\u001b[39;49;00m:\u001b[37m \u001b[39;49;00m\u001b[33m\"2025-02-05 04:33\"\u001b[39;49;00m\u001b[37m\u001b[39;49;00m\n",
      "\u001b[37m    \u001b[39;49;00m},\u001b[37m\u001b[39;49;00m\n",
      "\u001b[37m    \u001b[39;49;00m\u001b[94m\"current\"\u001b[39;49;00m:\u001b[37m \u001b[39;49;00m{\u001b[37m\u001b[39;49;00m\n",
      "\u001b[37m        \u001b[39;49;00m\u001b[94m\"last_updated_epoch\"\u001b[39;49;00m:\u001b[37m \u001b[39;49;00m\u001b[34m1738758600\u001b[39;49;00m,\u001b[37m\u001b[39;49;00m\n",
      "\u001b[37m        \u001b[39;49;00m\u001b[94m\"last_updated\"\u001b[39;49;00m:\u001b[37m \u001b[39;49;00m\u001b[33m\"2025-02-05 04:30\"\u001b[39;49;00m,\u001b[37m\u001b[39;49;00m\n",
      "\u001b[37m        \u001b[39;49;00m\u001b[94m\"temp_c\"\u001b[39;49;00m:\u001b[37m \u001b[39;49;00m\u001b[34m4.4\u001b[39;49;00m,\u001b[37m\u001b[39;49;00m\n",
      "\u001b[37m        \u001b[39;49;00m\u001b[94m\"temp_f\"\u001b[39;49;00m:\u001b[37m \u001b[39;49;00m\u001b[34m39.9\u001b[39;49;00m,\u001b[37m\u001b[39;49;00m\n",
      "\u001b[37m        \u001b[39;49;00m\u001b[94m\"is_day\"\u001b[39;49;00m:\u001b[37m \u001b[39;49;00m\u001b[34m0\u001b[39;49;00m,\u001b[37m\u001b[39;49;00m\n",
      "\u001b[37m        \u001b[39;49;00m\u001b[94m\"condition\"\u001b[39;49;00m:\u001b[37m \u001b[39;49;00m{\u001b[37m\u001b[39;49;00m\n",
      "\u001b[37m            \u001b[39;49;00m\u001b[94m\"text\"\u001b[39;49;00m:\u001b[37m \u001b[39;49;00m\u001b[33m\"Partly cloudy\"\u001b[39;49;00m,\u001b[37m\u001b[39;49;00m\n",
      "\u001b[37m            \u001b[39;49;00m\u001b[94m\"icon\"\u001b[39;49;00m:\u001b[37m \u001b[39;49;00m\u001b[33m\"//cdn.weatherapi.com/weather/64x64/night/116.png\"\u001b[39;49;00m,\u001b[37m\u001b[39;49;00m\n",
      "\u001b[37m            \u001b[39;49;00m\u001b[94m\"code\"\u001b[39;49;00m:\u001b[37m \u001b[39;49;00m\u001b[34m1003\u001b[39;49;00m\u001b[37m\u001b[39;49;00m\n",
      "\u001b[37m        \u001b[39;49;00m},\u001b[37m\u001b[39;49;00m\n",
      "\u001b[37m        \u001b[39;49;00m\u001b[94m\"wind_mph\"\u001b[39;49;00m:\u001b[37m \u001b[39;49;00m\u001b[34m9.4\u001b[39;49;00m,\u001b[37m\u001b[39;49;00m\n",
      "\u001b[37m        \u001b[39;49;00m\u001b[94m\"wind_kph\"\u001b[39;49;00m:\u001b[37m \u001b[39;49;00m\u001b[34m15.1\u001b[39;49;00m,\u001b[37m\u001b[39;49;00m\n",
      "\u001b[37m        \u001b[39;49;00m\u001b[94m\"wind_degree\"\u001b[39;49;00m:\u001b[37m \u001b[39;49;00m\u001b[34m297\u001b[39;49;00m,\u001b[37m\u001b[39;49;00m\n",
      "\u001b[37m        \u001b[39;49;00m\u001b[94m\"wind_dir\"\u001b[39;49;00m:\u001b[37m \u001b[39;49;00m\u001b[33m\"WNW\"\u001b[39;49;00m,\u001b[37m\u001b[39;49;00m\n",
      "\u001b[37m        \u001b[39;49;00m\u001b[94m\"pressure_mb\"\u001b[39;49;00m:\u001b[37m \u001b[39;49;00m\u001b[34m1018.0\u001b[39;49;00m,\u001b[37m\u001b[39;49;00m\n",
      "\u001b[37m        \u001b[39;49;00m\u001b[94m\"pressure_in\"\u001b[39;49;00m:\u001b[37m \u001b[39;49;00m\u001b[34m30.06\u001b[39;49;00m,\u001b[37m\u001b[39;49;00m\n",
      "\u001b[37m        \u001b[39;49;00m\u001b[94m\"precip_mm\"\u001b[39;49;00m:\u001b[37m \u001b[39;49;00m\u001b[34m0.0\u001b[39;49;00m,\u001b[37m\u001b[39;49;00m\n",
      "\u001b[37m        \u001b[39;49;00m\u001b[94m\"precip_in\"\u001b[39;49;00m:\u001b[37m \u001b[39;49;00m\u001b[34m0.0\u001b[39;49;00m,\u001b[37m\u001b[39;49;00m\n",
      "\u001b[37m        \u001b[39;49;00m\u001b[94m\"humidity\"\u001b[39;49;00m:\u001b[37m \u001b[39;49;00m\u001b[34m93\u001b[39;49;00m,\u001b[37m\u001b[39;49;00m\n",
      "\u001b[37m        \u001b[39;49;00m\u001b[94m\"cloud\"\u001b[39;49;00m:\u001b[37m \u001b[39;49;00m\u001b[34m25\u001b[39;49;00m,\u001b[37m\u001b[39;49;00m\n",
      "\u001b[37m        \u001b[39;49;00m\u001b[94m\"feelslike_c\"\u001b[39;49;00m:\u001b[37m \u001b[39;49;00m\u001b[34m1.0\u001b[39;49;00m,\u001b[37m\u001b[39;49;00m\n",
      "\u001b[37m        \u001b[39;49;00m\u001b[94m\"feelslike_f\"\u001b[39;49;00m:\u001b[37m \u001b[39;49;00m\u001b[34m33.8\u001b[39;49;00m,\u001b[37m\u001b[39;49;00m\n",
      "\u001b[37m        \u001b[39;49;00m\u001b[94m\"windchill_c\"\u001b[39;49;00m:\u001b[37m \u001b[39;49;00m\u001b[34m5.0\u001b[39;49;00m,\u001b[37m\u001b[39;49;00m\n",
      "\u001b[37m        \u001b[39;49;00m\u001b[94m\"windchill_f\"\u001b[39;49;00m:\u001b[37m \u001b[39;49;00m\u001b[34m41.0\u001b[39;49;00m,\u001b[37m\u001b[39;49;00m\n",
      "\u001b[37m        \u001b[39;49;00m\u001b[94m\"heatindex_c\"\u001b[39;49;00m:\u001b[37m \u001b[39;49;00m\u001b[34m7.0\u001b[39;49;00m,\u001b[37m\u001b[39;49;00m\n",
      "\u001b[37m        \u001b[39;49;00m\u001b[94m\"heatindex_f\"\u001b[39;49;00m:\u001b[37m \u001b[39;49;00m\u001b[34m44.7\u001b[39;49;00m,\u001b[37m\u001b[39;49;00m\n",
      "\u001b[37m        \u001b[39;49;00m\u001b[94m\"dewpoint_c\"\u001b[39;49;00m:\u001b[37m \u001b[39;49;00m\u001b[34m2.8\u001b[39;49;00m,\u001b[37m\u001b[39;49;00m\n",
      "\u001b[37m        \u001b[39;49;00m\u001b[94m\"dewpoint_f\"\u001b[39;49;00m:\u001b[37m \u001b[39;49;00m\u001b[34m37.1\u001b[39;49;00m,\u001b[37m\u001b[39;49;00m\n",
      "\u001b[37m        \u001b[39;49;00m\u001b[94m\"vis_km\"\u001b[39;49;00m:\u001b[37m \u001b[39;49;00m\u001b[34m16.0\u001b[39;49;00m,\u001b[37m\u001b[39;49;00m\n",
      "\u001b[37m        \u001b[39;49;00m\u001b[94m\"vis_miles\"\u001b[39;49;00m:\u001b[37m \u001b[39;49;00m\u001b[34m9.0\u001b[39;49;00m,\u001b[37m\u001b[39;49;00m\n",
      "\u001b[37m        \u001b[39;49;00m\u001b[94m\"uv\"\u001b[39;49;00m:\u001b[37m \u001b[39;49;00m\u001b[34m0.0\u001b[39;49;00m,\u001b[37m\u001b[39;49;00m\n",
      "\u001b[37m        \u001b[39;49;00m\u001b[94m\"gust_mph\"\u001b[39;49;00m:\u001b[37m \u001b[39;49;00m\u001b[34m15.1\u001b[39;49;00m,\u001b[37m\u001b[39;49;00m\n",
      "\u001b[37m        \u001b[39;49;00m\u001b[94m\"gust_kph\"\u001b[39;49;00m:\u001b[37m \u001b[39;49;00m\u001b[34m24.3\u001b[39;49;00m\u001b[37m\u001b[39;49;00m\n",
      "\u001b[37m    \u001b[39;49;00m}\u001b[37m\u001b[39;49;00m\n",
      "}\u001b[37m\u001b[39;49;00m\n",
      "\n"
     ]
    }
   ],
   "source": [
    "import json\n",
    "from pygments import highlight, lexers, formatters\n",
    "\n",
    "# parse JSON\n",
    "parsed_json = json.loads(data.replace(\"'\", '\"'))\n",
    "\n",
    "# pretty print JSON with syntax highlighting\n",
    "formatted_json = json.dumps(parsed_json, indent=4)\n",
    "colorful_json = highlight(formatted_json,\n",
    "                          lexers.JsonLexer(),\n",
    "                          formatters.TerminalFormatter())\n",
    "\n",
    "print(colorful_json)\n"
   ]
  },
  {
   "cell_type": "markdown",
   "id": "837f3ecd-df6b-4f2f-9325-a253678897b0",
   "metadata": {},
   "source": [
    "<img src=\"./google_sample.png\" width=\"800\" height=\"600\">"
   ]
  },
  {
   "cell_type": "code",
   "execution_count": null,
   "id": "61f79eb9-d1c9-44b0-9efd-a8f9b380332a",
   "metadata": {
    "height": 30
   },
   "outputs": [],
   "source": []
  }
 ],
 "metadata": {
  "kernelspec": {
   "display_name": "Python 3 (ipykernel)",
   "language": "python",
   "name": "python3"
  },
  "language_info": {
   "codemirror_mode": {
    "name": "ipython",
    "version": 3
   },
   "file_extension": ".py",
   "mimetype": "text/x-python",
   "name": "python",
   "nbconvert_exporter": "python",
   "pygments_lexer": "ipython3",
   "version": "3.11.9"
  }
 },
 "nbformat": 4,
 "nbformat_minor": 5
}
